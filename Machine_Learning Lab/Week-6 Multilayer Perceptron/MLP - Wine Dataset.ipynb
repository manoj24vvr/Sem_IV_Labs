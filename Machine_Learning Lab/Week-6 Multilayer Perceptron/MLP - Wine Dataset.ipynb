{
 "cells": [
  {
   "attachments": {},
   "cell_type": "markdown",
   "id": "2797e9e7",
   "metadata": {},
   "source": [
    "#### SECTION A BATCH 1\n",
    "#### WEEK 6 DATE: 21 APRIL 2022\n",
    "### EXER 1"
   ]
  },
  {
   "cell_type": "code",
   "execution_count": 1,
   "id": "3c9e0fd8",
   "metadata": {},
   "outputs": [],
   "source": [
    "# Importing libraries\n",
    "import pandas as pd\n",
    "import numpy as np\n",
    "import matplotlib.pyplot as plt\n",
    "import seaborn as sns\n",
    "from sklearn.metrics import accuracy_score\n",
    "from sklearn.model_selection import train_test_split\n",
    "from sklearn.metrics import classification_report,confusion_matrix"
   ]
  },
  {
   "cell_type": "code",
   "execution_count": 2,
   "id": "798b0cf5",
   "metadata": {},
   "outputs": [],
   "source": [
    "# to ignore warnings\n",
    "import warnings\n",
    "warnings.filterwarnings('ignore')"
   ]
  },
  {
   "cell_type": "markdown",
   "id": "26f52d89",
   "metadata": {},
   "source": [
    "### 6. Write down the meta information about the “wine.csv” data file available in the UCI repository, https://archive.ics.uci.edu/ml/datasets/Wine."
   ]
  },
  {
   "cell_type": "markdown",
   "id": "88820401",
   "metadata": {},
   "source": [
    "#### Title of Database: Wine recognition data\n",
    "\n",
    "These data are the results of a chemical analysis of wines grown in the same region in Italy but derived from three different cultivars. The analysis determined the quantities of 13 constituents found in each of the three types of wines.\n",
    "\n",
    "\n",
    "#### The 13 attributes are\n",
    "\n",
    "1) Alcohol\n",
    "\n",
    "2) Malic acid\n",
    "\n",
    "3) Ash\n",
    "\n",
    "4) Alcalinity of ash \n",
    "\n",
    "5) Magnesium\n",
    "\n",
    "6) Total phenols\n",
    "\n",
    "7) Flavanoids\n",
    "\n",
    "8) Nonflavanoid phenols\n",
    "\n",
    "9) Proanthocyanins\n",
    "\n",
    "10)Color intensity\n",
    "\n",
    "11)Hue\n",
    "\n",
    "12)OD280/OD315 of diluted wines\n",
    "\n",
    "13)Proline \n",
    "\n",
    "\n",
    "#### Number of Instances\n",
    "class 1 59\n",
    "\n",
    "class 2 71\n",
    "\n",
    "class 3 48"
   ]
  },
  {
   "cell_type": "code",
   "execution_count": 3,
   "id": "8a39157e",
   "metadata": {},
   "outputs": [
    {
     "name": "stdout",
     "output_type": "stream",
     "text": [
      "(178, 14)\n"
     ]
    },
    {
     "data": {
      "text/html": [
       "<div>\n",
       "<style scoped>\n",
       "    .dataframe tbody tr th:only-of-type {\n",
       "        vertical-align: middle;\n",
       "    }\n",
       "\n",
       "    .dataframe tbody tr th {\n",
       "        vertical-align: top;\n",
       "    }\n",
       "\n",
       "    .dataframe thead th {\n",
       "        text-align: right;\n",
       "    }\n",
       "</style>\n",
       "<table border=\"1\" class=\"dataframe\">\n",
       "  <thead>\n",
       "    <tr style=\"text-align: right;\">\n",
       "      <th></th>\n",
       "      <th>Class</th>\n",
       "      <th>Alcohol</th>\n",
       "      <th>Malic acid</th>\n",
       "      <th>Ash</th>\n",
       "      <th>Alcalinity of ash</th>\n",
       "      <th>Magnesium</th>\n",
       "      <th>Total phenols</th>\n",
       "      <th>Flavanoids</th>\n",
       "      <th>Nonflavanoid phenols</th>\n",
       "      <th>Proanthocyanins</th>\n",
       "      <th>Color intensity</th>\n",
       "      <th>Hue</th>\n",
       "      <th>OD280/OD315 of diluted wines</th>\n",
       "      <th>Proline</th>\n",
       "    </tr>\n",
       "  </thead>\n",
       "  <tbody>\n",
       "    <tr>\n",
       "      <th>0</th>\n",
       "      <td>1</td>\n",
       "      <td>14.23</td>\n",
       "      <td>1.71</td>\n",
       "      <td>2.43</td>\n",
       "      <td>15.6</td>\n",
       "      <td>127</td>\n",
       "      <td>2.80</td>\n",
       "      <td>3.06</td>\n",
       "      <td>0.28</td>\n",
       "      <td>2.29</td>\n",
       "      <td>5.64</td>\n",
       "      <td>1.04</td>\n",
       "      <td>3.92</td>\n",
       "      <td>1065</td>\n",
       "    </tr>\n",
       "    <tr>\n",
       "      <th>1</th>\n",
       "      <td>1</td>\n",
       "      <td>13.20</td>\n",
       "      <td>1.78</td>\n",
       "      <td>2.14</td>\n",
       "      <td>11.2</td>\n",
       "      <td>100</td>\n",
       "      <td>2.65</td>\n",
       "      <td>2.76</td>\n",
       "      <td>0.26</td>\n",
       "      <td>1.28</td>\n",
       "      <td>4.38</td>\n",
       "      <td>1.05</td>\n",
       "      <td>3.40</td>\n",
       "      <td>1050</td>\n",
       "    </tr>\n",
       "    <tr>\n",
       "      <th>2</th>\n",
       "      <td>1</td>\n",
       "      <td>13.16</td>\n",
       "      <td>2.36</td>\n",
       "      <td>2.67</td>\n",
       "      <td>18.6</td>\n",
       "      <td>101</td>\n",
       "      <td>2.80</td>\n",
       "      <td>3.24</td>\n",
       "      <td>0.30</td>\n",
       "      <td>2.81</td>\n",
       "      <td>5.68</td>\n",
       "      <td>1.03</td>\n",
       "      <td>3.17</td>\n",
       "      <td>1185</td>\n",
       "    </tr>\n",
       "    <tr>\n",
       "      <th>3</th>\n",
       "      <td>1</td>\n",
       "      <td>14.37</td>\n",
       "      <td>1.95</td>\n",
       "      <td>2.50</td>\n",
       "      <td>16.8</td>\n",
       "      <td>113</td>\n",
       "      <td>3.85</td>\n",
       "      <td>3.49</td>\n",
       "      <td>0.24</td>\n",
       "      <td>2.18</td>\n",
       "      <td>7.80</td>\n",
       "      <td>0.86</td>\n",
       "      <td>3.45</td>\n",
       "      <td>1480</td>\n",
       "    </tr>\n",
       "    <tr>\n",
       "      <th>4</th>\n",
       "      <td>1</td>\n",
       "      <td>13.24</td>\n",
       "      <td>2.59</td>\n",
       "      <td>2.87</td>\n",
       "      <td>21.0</td>\n",
       "      <td>118</td>\n",
       "      <td>2.80</td>\n",
       "      <td>2.69</td>\n",
       "      <td>0.39</td>\n",
       "      <td>1.82</td>\n",
       "      <td>4.32</td>\n",
       "      <td>1.04</td>\n",
       "      <td>2.93</td>\n",
       "      <td>735</td>\n",
       "    </tr>\n",
       "  </tbody>\n",
       "</table>\n",
       "</div>"
      ],
      "text/plain": [
       "   Class  Alcohol  Malic acid   Ash  Alcalinity of ash  Magnesium  \\\n",
       "0      1    14.23        1.71  2.43               15.6        127   \n",
       "1      1    13.20        1.78  2.14               11.2        100   \n",
       "2      1    13.16        2.36  2.67               18.6        101   \n",
       "3      1    14.37        1.95  2.50               16.8        113   \n",
       "4      1    13.24        2.59  2.87               21.0        118   \n",
       "\n",
       "   Total phenols  Flavanoids  Nonflavanoid phenols  Proanthocyanins  \\\n",
       "0           2.80        3.06                  0.28             2.29   \n",
       "1           2.65        2.76                  0.26             1.28   \n",
       "2           2.80        3.24                  0.30             2.81   \n",
       "3           3.85        3.49                  0.24             2.18   \n",
       "4           2.80        2.69                  0.39             1.82   \n",
       "\n",
       "   Color intensity   Hue  OD280/OD315 of diluted wines  Proline   \n",
       "0             5.64  1.04                          3.92      1065  \n",
       "1             4.38  1.05                          3.40      1050  \n",
       "2             5.68  1.03                          3.17      1185  \n",
       "3             7.80  0.86                          3.45      1480  \n",
       "4             4.32  1.04                          2.93       735  "
      ]
     },
     "execution_count": 3,
     "metadata": {},
     "output_type": "execute_result"
    }
   ],
   "source": [
    "# importing the wine dataset\n",
    "df = pd.read_csv(\"wine.csv\")\n",
    "print(df.shape)\n",
    "df.head()"
   ]
  },
  {
   "cell_type": "code",
   "execution_count": 4,
   "id": "3e161c24",
   "metadata": {},
   "outputs": [
    {
     "name": "stdout",
     "output_type": "stream",
     "text": [
      "<class 'pandas.core.frame.DataFrame'>\n",
      "RangeIndex: 178 entries, 0 to 177\n",
      "Data columns (total 14 columns):\n",
      " #   Column                        Non-Null Count  Dtype  \n",
      "---  ------                        --------------  -----  \n",
      " 0   Class                         178 non-null    int64  \n",
      " 1   Alcohol                       178 non-null    float64\n",
      " 2   Malic acid                    178 non-null    float64\n",
      " 3   Ash                           178 non-null    float64\n",
      " 4   Alcalinity of ash             178 non-null    float64\n",
      " 5   Magnesium                     178 non-null    int64  \n",
      " 6   Total phenols                 178 non-null    float64\n",
      " 7   Flavanoids                    178 non-null    float64\n",
      " 8   Nonflavanoid phenols          178 non-null    float64\n",
      " 9   Proanthocyanins               178 non-null    float64\n",
      " 10  Color intensity               178 non-null    float64\n",
      " 11  Hue                           178 non-null    float64\n",
      " 12  OD280/OD315 of diluted wines  178 non-null    float64\n",
      " 13  Proline                       178 non-null    int64  \n",
      "dtypes: float64(11), int64(3)\n",
      "memory usage: 19.6 KB\n"
     ]
    }
   ],
   "source": [
    "# printing quick summary of the dataset\n",
    "df.info()"
   ]
  },
  {
   "cell_type": "markdown",
   "id": "27eb24b0",
   "metadata": {},
   "source": [
    " There are no missing values in any of the variables."
   ]
  },
  {
   "cell_type": "markdown",
   "id": "9f5b1477",
   "metadata": {},
   "source": [
    "### 7. Tabulate and visualize the distribution of the numeric variables."
   ]
  },
  {
   "cell_type": "code",
   "execution_count": 5,
   "id": "848eefdf",
   "metadata": {},
   "outputs": [
    {
     "data": {
      "text/html": [
       "<div>\n",
       "<style scoped>\n",
       "    .dataframe tbody tr th:only-of-type {\n",
       "        vertical-align: middle;\n",
       "    }\n",
       "\n",
       "    .dataframe tbody tr th {\n",
       "        vertical-align: top;\n",
       "    }\n",
       "\n",
       "    .dataframe thead th {\n",
       "        text-align: right;\n",
       "    }\n",
       "</style>\n",
       "<table border=\"1\" class=\"dataframe\">\n",
       "  <thead>\n",
       "    <tr style=\"text-align: right;\">\n",
       "      <th></th>\n",
       "      <th>Class</th>\n",
       "      <th>Alcohol</th>\n",
       "      <th>Malic acid</th>\n",
       "      <th>Ash</th>\n",
       "      <th>Alcalinity of ash</th>\n",
       "      <th>Magnesium</th>\n",
       "      <th>Total phenols</th>\n",
       "      <th>Flavanoids</th>\n",
       "      <th>Nonflavanoid phenols</th>\n",
       "      <th>Proanthocyanins</th>\n",
       "      <th>Color intensity</th>\n",
       "      <th>Hue</th>\n",
       "      <th>OD280/OD315 of diluted wines</th>\n",
       "      <th>Proline</th>\n",
       "    </tr>\n",
       "  </thead>\n",
       "  <tbody>\n",
       "    <tr>\n",
       "      <th>count</th>\n",
       "      <td>178.000000</td>\n",
       "      <td>178.000000</td>\n",
       "      <td>178.000000</td>\n",
       "      <td>178.000000</td>\n",
       "      <td>178.000000</td>\n",
       "      <td>178.000000</td>\n",
       "      <td>178.000000</td>\n",
       "      <td>178.000000</td>\n",
       "      <td>178.000000</td>\n",
       "      <td>178.000000</td>\n",
       "      <td>178.000000</td>\n",
       "      <td>178.000000</td>\n",
       "      <td>178.000000</td>\n",
       "      <td>178.000000</td>\n",
       "    </tr>\n",
       "    <tr>\n",
       "      <th>mean</th>\n",
       "      <td>1.938202</td>\n",
       "      <td>13.000618</td>\n",
       "      <td>2.336348</td>\n",
       "      <td>2.366517</td>\n",
       "      <td>19.494944</td>\n",
       "      <td>99.741573</td>\n",
       "      <td>2.295112</td>\n",
       "      <td>2.029270</td>\n",
       "      <td>0.361854</td>\n",
       "      <td>1.590899</td>\n",
       "      <td>5.058090</td>\n",
       "      <td>0.957449</td>\n",
       "      <td>2.611685</td>\n",
       "      <td>746.893258</td>\n",
       "    </tr>\n",
       "    <tr>\n",
       "      <th>std</th>\n",
       "      <td>0.775035</td>\n",
       "      <td>0.811827</td>\n",
       "      <td>1.117146</td>\n",
       "      <td>0.274344</td>\n",
       "      <td>3.339564</td>\n",
       "      <td>14.282484</td>\n",
       "      <td>0.625851</td>\n",
       "      <td>0.998859</td>\n",
       "      <td>0.124453</td>\n",
       "      <td>0.572359</td>\n",
       "      <td>2.318286</td>\n",
       "      <td>0.228572</td>\n",
       "      <td>0.709990</td>\n",
       "      <td>314.907474</td>\n",
       "    </tr>\n",
       "    <tr>\n",
       "      <th>min</th>\n",
       "      <td>1.000000</td>\n",
       "      <td>11.030000</td>\n",
       "      <td>0.740000</td>\n",
       "      <td>1.360000</td>\n",
       "      <td>10.600000</td>\n",
       "      <td>70.000000</td>\n",
       "      <td>0.980000</td>\n",
       "      <td>0.340000</td>\n",
       "      <td>0.130000</td>\n",
       "      <td>0.410000</td>\n",
       "      <td>1.280000</td>\n",
       "      <td>0.480000</td>\n",
       "      <td>1.270000</td>\n",
       "      <td>278.000000</td>\n",
       "    </tr>\n",
       "    <tr>\n",
       "      <th>25%</th>\n",
       "      <td>1.000000</td>\n",
       "      <td>12.362500</td>\n",
       "      <td>1.602500</td>\n",
       "      <td>2.210000</td>\n",
       "      <td>17.200000</td>\n",
       "      <td>88.000000</td>\n",
       "      <td>1.742500</td>\n",
       "      <td>1.205000</td>\n",
       "      <td>0.270000</td>\n",
       "      <td>1.250000</td>\n",
       "      <td>3.220000</td>\n",
       "      <td>0.782500</td>\n",
       "      <td>1.937500</td>\n",
       "      <td>500.500000</td>\n",
       "    </tr>\n",
       "    <tr>\n",
       "      <th>50%</th>\n",
       "      <td>2.000000</td>\n",
       "      <td>13.050000</td>\n",
       "      <td>1.865000</td>\n",
       "      <td>2.360000</td>\n",
       "      <td>19.500000</td>\n",
       "      <td>98.000000</td>\n",
       "      <td>2.355000</td>\n",
       "      <td>2.135000</td>\n",
       "      <td>0.340000</td>\n",
       "      <td>1.555000</td>\n",
       "      <td>4.690000</td>\n",
       "      <td>0.965000</td>\n",
       "      <td>2.780000</td>\n",
       "      <td>673.500000</td>\n",
       "    </tr>\n",
       "    <tr>\n",
       "      <th>75%</th>\n",
       "      <td>3.000000</td>\n",
       "      <td>13.677500</td>\n",
       "      <td>3.082500</td>\n",
       "      <td>2.557500</td>\n",
       "      <td>21.500000</td>\n",
       "      <td>107.000000</td>\n",
       "      <td>2.800000</td>\n",
       "      <td>2.875000</td>\n",
       "      <td>0.437500</td>\n",
       "      <td>1.950000</td>\n",
       "      <td>6.200000</td>\n",
       "      <td>1.120000</td>\n",
       "      <td>3.170000</td>\n",
       "      <td>985.000000</td>\n",
       "    </tr>\n",
       "    <tr>\n",
       "      <th>max</th>\n",
       "      <td>3.000000</td>\n",
       "      <td>14.830000</td>\n",
       "      <td>5.800000</td>\n",
       "      <td>3.230000</td>\n",
       "      <td>30.000000</td>\n",
       "      <td>162.000000</td>\n",
       "      <td>3.880000</td>\n",
       "      <td>5.080000</td>\n",
       "      <td>0.660000</td>\n",
       "      <td>3.580000</td>\n",
       "      <td>13.000000</td>\n",
       "      <td>1.710000</td>\n",
       "      <td>4.000000</td>\n",
       "      <td>1680.000000</td>\n",
       "    </tr>\n",
       "  </tbody>\n",
       "</table>\n",
       "</div>"
      ],
      "text/plain": [
       "            Class     Alcohol  Malic acid         Ash  Alcalinity of ash  \\\n",
       "count  178.000000  178.000000  178.000000  178.000000         178.000000   \n",
       "mean     1.938202   13.000618    2.336348    2.366517          19.494944   \n",
       "std      0.775035    0.811827    1.117146    0.274344           3.339564   \n",
       "min      1.000000   11.030000    0.740000    1.360000          10.600000   \n",
       "25%      1.000000   12.362500    1.602500    2.210000          17.200000   \n",
       "50%      2.000000   13.050000    1.865000    2.360000          19.500000   \n",
       "75%      3.000000   13.677500    3.082500    2.557500          21.500000   \n",
       "max      3.000000   14.830000    5.800000    3.230000          30.000000   \n",
       "\n",
       "        Magnesium  Total phenols  Flavanoids  Nonflavanoid phenols  \\\n",
       "count  178.000000     178.000000  178.000000            178.000000   \n",
       "mean    99.741573       2.295112    2.029270              0.361854   \n",
       "std     14.282484       0.625851    0.998859              0.124453   \n",
       "min     70.000000       0.980000    0.340000              0.130000   \n",
       "25%     88.000000       1.742500    1.205000              0.270000   \n",
       "50%     98.000000       2.355000    2.135000              0.340000   \n",
       "75%    107.000000       2.800000    2.875000              0.437500   \n",
       "max    162.000000       3.880000    5.080000              0.660000   \n",
       "\n",
       "       Proanthocyanins  Color intensity         Hue  \\\n",
       "count       178.000000       178.000000  178.000000   \n",
       "mean          1.590899         5.058090    0.957449   \n",
       "std           0.572359         2.318286    0.228572   \n",
       "min           0.410000         1.280000    0.480000   \n",
       "25%           1.250000         3.220000    0.782500   \n",
       "50%           1.555000         4.690000    0.965000   \n",
       "75%           1.950000         6.200000    1.120000   \n",
       "max           3.580000        13.000000    1.710000   \n",
       "\n",
       "       OD280/OD315 of diluted wines     Proline   \n",
       "count                    178.000000   178.000000  \n",
       "mean                       2.611685   746.893258  \n",
       "std                        0.709990   314.907474  \n",
       "min                        1.270000   278.000000  \n",
       "25%                        1.937500   500.500000  \n",
       "50%                        2.780000   673.500000  \n",
       "75%                        3.170000   985.000000  \n",
       "max                        4.000000  1680.000000  "
      ]
     },
     "execution_count": 5,
     "metadata": {},
     "output_type": "execute_result"
    }
   ],
   "source": [
    "# to obtain descriptive statistics for numerical variables\n",
    "df.describe()"
   ]
  },
  {
   "cell_type": "code",
   "execution_count": 6,
   "id": "f088d7ab",
   "metadata": {},
   "outputs": [
    {
     "data": {
      "text/plain": [
       "2    71\n",
       "1    59\n",
       "3    48\n",
       "Name: Class, dtype: int64"
      ]
     },
     "execution_count": 6,
     "metadata": {},
     "output_type": "execute_result"
    }
   ],
   "source": [
    "#Let's see the frequency of the variable target.\n",
    "#Convert variable to categorical.\n",
    "df.Class=df.Class.astype('category')\n",
    "freq=df['Class'].value_counts()\n",
    "\n",
    "freq"
   ]
  },
  {
   "cell_type": "code",
   "execution_count": 7,
   "id": "4296c04a",
   "metadata": {},
   "outputs": [
    {
     "data": {
      "text/plain": [
       "<AxesSubplot:xlabel='Class', ylabel='count'>"
      ]
     },
     "execution_count": 7,
     "metadata": {},
     "output_type": "execute_result"
    },
    {
     "data": {
      "image/png": "[encoded data removed]",
      "text/plain": [
       "<Figure size 360x360 with 1 Axes>"
      ]
     },
     "metadata": {
      "needs_background": "light"
     },
     "output_type": "display_data"
    }
   ],
   "source": [
    "plt.figure(figsize=(5,5))\n",
    "sns.countplot(df.Class)"
   ]
  },
  {
   "cell_type": "code",
   "execution_count": 8,
   "id": "e885c4de",
   "metadata": {},
   "outputs": [],
   "source": [
    "numeric_features = df.select_dtypes(include = 'number')"
   ]
  },
  {
   "cell_type": "code",
   "execution_count": 9,
   "id": "e78e64df",
   "metadata": {},
   "outputs": [
    {
     "data": {
      "image/png": "[encoded data removed]",
      "text/plain": [
       "<Figure size 1152x864 with 16 Axes>"
      ]
     },
     "metadata": {
      "needs_background": "light"
     },
     "output_type": "display_data"
    }
   ],
   "source": [
    "df.hist(bins=10, figsize=(16,12))\n",
    "plt.show()"
   ]
  },
  {
   "cell_type": "markdown",
   "id": "c7bc36e6",
   "metadata": {},
   "source": [
    "From the basic statistical values we can see that none of the variables follows a normal distribution, since none has mean 0 and standard deviation 1"
   ]
  },
  {
   "cell_type": "markdown",
   "id": "3cb2d47b",
   "metadata": {},
   "source": [
    "### 8. Perform the required preprocessing , 70,30 split and build a classifier using the Multi-Layer Perceptron Classifier model available in SciKit Learn. Use 3 layers with the same number of neurons as there are features along with 500 max iterations"
   ]
  },
  {
   "cell_type": "code",
   "execution_count": 10,
   "id": "ecf82c5d",
   "metadata": {},
   "outputs": [],
   "source": [
    "#Splitting the predictor & response variables\n",
    "X = df.drop(columns = ['Class'],axis =1)\n",
    "y = df.Class"
   ]
  },
  {
   "cell_type": "code",
   "execution_count": 11,
   "id": "a908655d",
   "metadata": {},
   "outputs": [],
   "source": [
    "from sklearn.preprocessing import StandardScaler\n",
    "X = StandardScaler().fit_transform(X)"
   ]
  },
  {
   "cell_type": "code",
   "execution_count": 12,
   "id": "4d8a6763",
   "metadata": {},
   "outputs": [],
   "source": [
    "# Spliting of the dataset into training set and test set\n",
    "X_train, X_test, y_train, y_test = train_test_split(X,y, test_size=0.3,random_state = 42)"
   ]
  },
  {
   "cell_type": "code",
   "execution_count": 13,
   "id": "fe53e4dc",
   "metadata": {},
   "outputs": [],
   "source": [
    "# Importing Multi-Layer Perceptron Classifier model\n",
    "from sklearn.neural_network import MLPClassifier\n",
    "\n",
    "#Create a MLP Classifier\n",
    "model = MLPClassifier(hidden_layer_sizes=(13,13,13), activation='relu', max_iter=500,learning_rate_init=0.5)\n",
    "\n",
    "#Train the model using the training sets\n",
    "model.fit(X_train, y_train)\n",
    "\n",
    "#Predict the response for test dataset\n",
    "y_pred = model.predict(X_test)"
   ]
  },
  {
   "cell_type": "code",
   "execution_count": 14,
   "id": "701c880a",
   "metadata": {},
   "outputs": [
    {
     "data": {
      "text/plain": [
       "0.9259259259259259"
      ]
     },
     "execution_count": 14,
     "metadata": {},
     "output_type": "execute_result"
    }
   ],
   "source": [
    "# Evaluating our model\n",
    "accuracy_score(y_test,y_pred)"
   ]
  },
  {
   "cell_type": "markdown",
   "id": "11f29527",
   "metadata": {},
   "source": [
    "### 9. Tabulate the precision, recall and F1-score"
   ]
  },
  {
   "cell_type": "code",
   "execution_count": 15,
   "id": "57725f5b",
   "metadata": {},
   "outputs": [
    {
     "name": "stdout",
     "output_type": "stream",
     "text": [
      "              precision    recall  f1-score   support\n",
      "\n",
      "           1       1.00      0.95      0.97        19\n",
      "           2       0.84      1.00      0.91        21\n",
      "           3       1.00      0.79      0.88        14\n",
      "\n",
      "    accuracy                           0.93        54\n",
      "   macro avg       0.95      0.91      0.92        54\n",
      "weighted avg       0.94      0.93      0.93        54\n",
      "\n"
     ]
    }
   ],
   "source": [
    "print(classification_report(y_test,y_pred))"
   ]
  },
  {
   "cell_type": "code",
   "execution_count": 16,
   "id": "584d5cdf",
   "metadata": {},
   "outputs": [
    {
     "data": {
      "image/png": "[encoded data removed]",
      "text/plain": [
       "<Figure size 432x288 with 2 Axes>"
      ]
     },
     "metadata": {
      "needs_background": "light"
     },
     "output_type": "display_data"
    }
   ],
   "source": [
    "# Plotting a confusion matrix\n",
    "from sklearn.metrics import plot_confusion_matrix\n",
    "fig = plot_confusion_matrix(model, X_test, y_test, display_labels=model.classes_)\n",
    "fig.figure_.suptitle(\"Confusion Matrix for Wine Dataset\")\n",
    "plt.show()"
   ]
  },
  {
   "cell_type": "markdown",
   "id": "5817813c",
   "metadata": {},
   "source": [
    "### 10. Display the MLP weights and biases after training your model.\n"
   ]
  },
  {
   "cell_type": "code",
   "execution_count": 17,
   "id": "324cd697",
   "metadata": {},
   "outputs": [
    {
     "data": {
      "text/plain": [
       "[array([[ 1.16256787, -3.54936052, -1.14419672,  5.40170251,  3.25769801,\n",
       "         -3.74850077, -1.29436682,  1.23969929,  4.95911028, -2.81478982,\n",
       "         -3.55651279, -1.42104553, -3.2750341 ],\n",
       "        [-2.30808847,  1.07219858,  0.15232849,  0.62870857,  3.34427749,\n",
       "         -1.3639137 , -2.35422456,  0.55667335, -0.29949128,  0.92294862,\n",
       "         -0.96085161, -2.34088404, -5.01616809],\n",
       "        [-2.37608487, -1.88218729, -1.43144979,  0.35686543,  1.12910182,\n",
       "         -2.38870233, -2.35933531, -3.94802778,  1.83697851,  2.61091613,\n",
       "         -5.54261622, -0.62527895, -3.93086794],\n",
       "        [-1.3140148 ,  2.66338658,  1.88930817, -3.80082684,  2.08941332,\n",
       "          1.9836475 , -1.46423252, -1.07447947, -5.34976239,  3.02026551,\n",
       "          0.13277491, -1.22745056, -0.43182298],\n",
       "        [ 1.84572253, -2.14673573, -1.71688027,  2.40434146,  0.9080787 ,\n",
       "         -2.82069116,  0.8617478 ,  1.95980266,  0.32069801, -1.59445347,\n",
       "         -2.1951143 ,  0.73606761,  0.43401548],\n",
       "        [ 2.11986635, -1.41537906, -1.0333774 ,  1.37926008, -2.69435441,\n",
       "         -1.15985344,  1.53003057, -1.19852809,  1.48242593, -0.98161461,\n",
       "         -0.106785  ,  1.80114148,  1.93872227],\n",
       "        [ 2.06223666, -1.22878332, -0.86241482,  2.40552723, -2.80919496,\n",
       "         -0.12879676,  1.49038265, -0.75682954,  1.87279792, -1.46547614,\n",
       "         -1.3505318 ,  1.99582386,  0.71181194],\n",
       "        [-1.93410237,  2.90453508,  1.12811218,  0.48528246,  1.74181449,\n",
       "          1.14076881, -2.05226135, -0.73237553, -1.24529364,  1.92876265,\n",
       "          1.14002171, -1.13390762, -2.3468424 ],\n",
       "        [ 2.7842565 ,  0.52129369, -0.18300544,  3.17668715, -2.5708517 ,\n",
       "          0.66237783,  1.54687015, -1.03863706,  2.33794522, -1.02004393,\n",
       "         -0.8962384 ,  2.12174059,  0.69621294],\n",
       "        [-1.40513507, -4.15035745, -2.05754885,  3.53130886,  3.38757989,\n",
       "         -3.20553844, -2.0924988 ,  0.65052284,  4.59486585, -0.60615164,\n",
       "         -4.43605855, -2.39219692, -5.50978867],\n",
       "        [ 1.72466595,  0.25116901, -0.93584148,  0.70871342, -3.72603692,\n",
       "          1.21676087,  2.00481772, -1.61913638,  1.40023661, -1.51561312,\n",
       "          0.34345421,  2.37166456,  3.76134725],\n",
       "        [ 2.27190545, -0.66046004, -0.57686899,  2.32930143, -3.53295439,\n",
       "          0.78265622,  1.49159244, -0.62640245,  2.87957937, -1.36987471,\n",
       "         -0.61038896,  2.10498932,  1.94221978],\n",
       "        [ 3.44472083, -2.11797833, -1.47701539,  6.84096147, -2.02618175,\n",
       "         -1.71450295,  3.02770702,  0.37977611,  4.85411896, -3.02887918,\n",
       "         -3.31295476,  0.92439401, -0.91386828]]),\n",
       " array([[-1.72487095e+00, -5.50348843e-01, -3.26539241e+00,\n",
       "         -2.47595840e+00,  2.98212099e-02, -2.30483114e+00,\n",
       "         -3.65748081e+00,  4.32533029e-03, -2.29125184e+00,\n",
       "         -2.64573697e+00, -5.21253520e+00, -1.94811095e+00,\n",
       "         -1.81807609e-01],\n",
       "        [-1.73317671e+00, -3.68108021e+00, -2.83842576e+00,\n",
       "         -3.31798696e+00, -1.49822010e-01, -1.88671348e+00,\n",
       "         -2.64040367e+00, -2.74592816e+00, -3.62630387e+00,\n",
       "         -2.76672909e+00, -3.23959709e+00, -1.48650931e+00,\n",
       "         -2.63695268e+00],\n",
       "        [-2.59261491e+00, -1.38687434e+00, -2.99175998e+00,\n",
       "         -2.35502794e+00,  9.38755435e-02, -2.54486641e+00,\n",
       "         -9.01106918e-01, -1.67111687e+00, -2.36377266e+00,\n",
       "         -2.34764826e+00, -3.75174649e+00, -1.93137987e+00,\n",
       "         -2.17580911e+00],\n",
       "        [-3.68841352e+00, -2.16988829e+00, -2.95223020e+00,\n",
       "         -2.44063836e+00,  3.13052226e+00, -2.59049279e+00,\n",
       "         -3.21426413e+00, -2.62509165e+00, -1.78052322e+00,\n",
       "         -2.12342990e+00, -2.35774023e+00, -2.94332338e+00,\n",
       "          4.20670496e-01],\n",
       "        [-3.11814543e+00, -5.33341921e-01, -9.82494283e-01,\n",
       "         -3.59245523e+00, -3.47187962e+00, -2.52993330e+00,\n",
       "         -3.48572623e+00, -1.86181225e-02, -2.90684238e+00,\n",
       "         -3.01255321e+00, -1.15287456e+00, -2.34839944e+00,\n",
       "          1.90091450e+00],\n",
       "        [-1.84516405e+00, -4.70043638e+00, -2.95652365e+00,\n",
       "         -2.13899752e+00, -3.21400074e-01, -2.56967444e+00,\n",
       "         -3.59785697e+00, -2.68395372e+00, -2.53792079e+00,\n",
       "         -2.64996627e+00, -3.87719044e+00, -3.22546994e+00,\n",
       "         -1.64174099e+00],\n",
       "        [-1.92614190e+00, -2.98879055e+00, -3.03149989e+00,\n",
       "         -2.03127751e+00, -1.04223605e+00, -2.02373743e+00,\n",
       "         -2.31096626e+00,  1.89092255e+00, -1.76849967e+00,\n",
       "         -2.65150987e+00, -3.99928496e+00, -2.46416871e+00,\n",
       "         -2.19940821e+00],\n",
       "        [-3.66784067e+00, -2.30898319e+00, -4.39576305e+00,\n",
       "         -2.59716908e+00, -1.52506802e+00, -2.67250227e+00,\n",
       "         -2.57968321e+00, -3.74662883e-01, -3.27424666e+00,\n",
       "         -3.21685097e+00, -4.40619661e+00, -2.90828959e+00,\n",
       "          2.47645903e+00],\n",
       "        [-3.35683454e+00, -3.12199040e+00, -2.17491061e+00,\n",
       "         -2.98011600e+00,  3.21089315e+00, -2.50145088e+00,\n",
       "         -2.64457617e+00, -3.06106821e+00, -3.27701759e+00,\n",
       "         -2.93096263e+00, -3.07238471e+00, -3.09456320e+00,\n",
       "         -4.70194291e+00],\n",
       "        [-2.45094083e+00, -1.12055474e+00, -4.91762251e+00,\n",
       "         -2.89382893e+00, -3.01371055e+00, -2.33677083e+00,\n",
       "         -2.71606799e+00, -2.29370910e+00, -2.05315168e+00,\n",
       "         -2.56165343e+00, -3.30189161e+00, -4.13729620e-01,\n",
       "         -1.38336205e+00],\n",
       "        [-2.65679516e+00, -1.71361099e+00, -3.68168811e+00,\n",
       "         -3.18479428e+00, -4.05586409e+00, -2.60354685e+00,\n",
       "         -2.06227735e+00, -2.14886174e+00, -1.91177217e+00,\n",
       "         -2.27848553e+00, -3.07626676e+00, -1.35271830e-01,\n",
       "         -2.65824710e+00],\n",
       "        [-2.81532206e+00, -4.68515406e+00, -2.10643180e+00,\n",
       "         -1.98491169e+00,  1.21269684e+00, -2.28940894e+00,\n",
       "         -4.22734572e+00, -2.67646917e+00, -3.51102549e+00,\n",
       "         -1.98320745e+00, -3.60251718e+00, -3.44385253e+00,\n",
       "         -1.43388389e+00],\n",
       "        [-2.00989267e+00, -2.64388758e+00, -1.43973342e+00,\n",
       "         -3.40503410e+00, -5.26640290e+00, -2.07797230e+00,\n",
       "         -3.58024562e+00, -2.58519508e+00, -3.15785276e+00,\n",
       "         -3.61244608e+00, -1.29271884e+00, -8.59028170e-01,\n",
       "         -2.66137838e+00]]),\n",
       " array([[-2.19993535e+00, -3.39525811e+00, -2.86647280e+00,\n",
       "         -3.17767608e+00, -1.80831400e+00, -3.04252273e+00,\n",
       "          2.69418424e+00, -2.86069810e+00,  5.44240478e-02,\n",
       "         -3.12922403e+00, -3.07523858e+00, -2.91046364e+00,\n",
       "         -2.45318905e+00],\n",
       "        [-2.39892126e+00, -3.12841183e+00, -2.55344203e+00,\n",
       "         -2.47582228e+00, -2.24073954e+00, -3.83530524e+00,\n",
       "         -2.39823964e+00, -3.73906226e+00, -1.97253948e+00,\n",
       "         -2.67840593e+00,  3.20925239e-02, -3.03808368e+00,\n",
       "         -2.11434687e+00],\n",
       "        [-2.42792618e+00, -2.31190483e+00, -5.45527372e-01,\n",
       "         -2.44628469e+00, -1.65063681e+00, -1.96232601e+00,\n",
       "         -3.38424307e-02, -3.39071845e+00, -1.74996103e+00,\n",
       "         -2.48022488e+00,  1.16934398e+00, -1.11781940e+00,\n",
       "         -2.07213104e+00],\n",
       "        [-2.46341625e+00, -1.94589578e+00,  1.30976897e+00,\n",
       "         -2.17437816e+00, -2.60720642e+00, -3.12066066e+00,\n",
       "         -2.43388252e-03,  1.55701364e+00,  2.27637912e+00,\n",
       "         -2.89974122e+00, -3.77228858e+00, -3.64699629e+00,\n",
       "         -1.91074301e+00],\n",
       "        [-3.47650939e+00, -3.64359845e+00,  1.24031045e+00,\n",
       "         -3.63899781e+00, -3.67911723e+00, -2.56335604e+00,\n",
       "          1.15696285e+00,  7.50105284e-01,  2.50457423e+00,\n",
       "         -2.58328587e+00, -1.99509329e+00, -1.87119741e+00,\n",
       "         -3.35754529e+00],\n",
       "        [-2.00459406e+00, -2.58424541e+00, -1.92531143e+00,\n",
       "         -1.92960113e+00, -2.01431113e+00, -2.98052723e+00,\n",
       "          3.45177485e+00, -1.35998997e-01,  1.31289076e+00,\n",
       "         -2.13558471e+00,  1.22848342e+00, -4.31208211e+00,\n",
       "         -1.65950822e+00],\n",
       "        [-2.16486464e+00, -3.68368199e+00, -2.56493674e+00,\n",
       "         -1.80228238e+00, -2.82698753e+00, -3.17487661e+00,\n",
       "          2.63880627e+00,  2.89777867e+00,  3.00305403e+00,\n",
       "         -2.51660338e+00, -5.19537778e-02,  2.56991168e+00,\n",
       "         -3.66341444e+00],\n",
       "        [-1.54291246e+00, -2.50174701e+00,  2.12422244e-02,\n",
       "          6.64300246e-04, -3.04964228e+00, -3.12388107e+00,\n",
       "          5.95441689e-03,  2.36712253e+00, -4.51645178e-03,\n",
       "         -2.50321422e+00,  1.16188003e-02,  2.59292288e+00,\n",
       "         -4.74245318e-02],\n",
       "        [-2.43220655e+00, -3.24319640e+00, -2.61972035e+00,\n",
       "         -1.75741044e+00, -1.85559026e+00, -2.51431007e+00,\n",
       "         -2.84349846e+00, -2.82300853e+00,  3.80786660e+00,\n",
       "         -2.85639148e+00, -2.71416990e+00, -2.82074272e+00,\n",
       "         -1.77948486e+00],\n",
       "        [-2.27762322e+00, -3.70436466e+00, -1.43223032e+00,\n",
       "         -2.67988191e+00, -2.05538051e+00, -2.72044380e+00,\n",
       "         -1.07042978e-02, -2.37057784e+00,  3.03925025e+00,\n",
       "         -2.70599603e+00,  1.71862236e+00, -3.01356805e+00,\n",
       "         -1.82677336e+00],\n",
       "        [-4.20215762e+00, -1.74554152e+00, -3.89504511e+00,\n",
       "         -2.65516573e+00, -1.34633240e+00, -1.70215097e+00,\n",
       "          2.37179076e+00, -3.68991485e+00, -3.53550830e+00,\n",
       "         -2.02982992e+00,  8.36776272e-01, -2.10801029e+00,\n",
       "         -1.93679087e+00],\n",
       "        [-2.94271763e+00, -4.20954329e+00, -5.16455189e+00,\n",
       "         -1.47948296e+00, -1.21846336e+00, -3.00162752e+00,\n",
       "          3.62551374e+00, -3.06477087e+00, -1.73802940e+00,\n",
       "         -2.99097166e+00,  1.07892972e-01, -3.10228855e+00,\n",
       "         -1.61111230e+00],\n",
       "        [-3.06444460e+00, -2.61074741e+00, -2.95145237e+00,\n",
       "         -4.78730983e+00, -3.54967175e+00, -2.12263325e+00,\n",
       "         -1.46043055e+00, -2.94472557e+00, -7.75226669e-01,\n",
       "         -3.13819976e-02,  2.48573771e+00,  3.35585229e+00,\n",
       "         -4.02040216e+00]]),\n",
       " array([[ 2.54925376, -1.98532393,  1.82207638],\n",
       "        [ 0.00573517, -0.84607225,  1.9733909 ],\n",
       "        [ 3.03327192, -1.11278019, -0.34410421],\n",
       "        [ 1.88323089, -1.13117355,  0.99609331],\n",
       "        [ 1.47405177, -1.61488405,  1.81613084],\n",
       "        [-1.66009094,  1.06505863,  0.90781096],\n",
       "        [ 0.41999209,  0.12711564, -0.72213202],\n",
       "        [ 3.33640652, -0.59201742, -0.73935433],\n",
       "        [ 1.07212769, -2.31108677,  1.0633101 ],\n",
       "        [ 2.55386094, -2.75008956,  2.67412264],\n",
       "        [ 0.05374058,  0.80566707,  2.51293397],\n",
       "        [-0.28109567, -0.22906087,  2.91947946],\n",
       "        [ 1.76197874, -2.0136423 ,  1.93436027]])]"
      ]
     },
     "execution_count": 17,
     "metadata": {},
     "output_type": "execute_result"
    }
   ],
   "source": [
    "# the function .coefs_ prints the weights associated between \n",
    "# each succesive layer\n",
    "model.coefs_"
   ]
  },
  {
   "cell_type": "code",
   "execution_count": 18,
   "id": "054afb6e",
   "metadata": {},
   "outputs": [
    {
     "data": {
      "text/plain": [
       "[array([-4.29906137, -1.65683671, -4.17310516, -3.6237079 ,  1.26955374,\n",
       "        -2.16537873, -1.89650415,  0.74648347,  0.41726061, -2.81759866,\n",
       "        -3.18113045, -4.26629721, -0.85597586]),\n",
       " array([-2.17068092, -3.60643518, -4.18975484, -2.69804663, -1.11524108,\n",
       "        -2.73252412, -3.55706022, -3.25681097, -3.5327901 , -2.44734813,\n",
       "        -6.40257633, -1.77499925, -1.05040213]),\n",
       " array([-3.2100881 , -3.86635842, -1.90757305, -2.72169832, -1.45563329,\n",
       "        -3.81202223,  1.46323207, -2.25421059, -3.16232568, -3.32866818,\n",
       "         0.40331009, -1.6882223 , -1.99586553]),\n",
       " array([-1.43645834,  1.75890246, -0.11623645])]"
      ]
     },
     "execution_count": 18,
     "metadata": {},
     "output_type": "execute_result"
    }
   ],
   "source": [
    "# the function .coefs_ prints the bias values at each layer\n",
    "model.intercepts_"
   ]
  },
  {
   "cell_type": "code",
   "execution_count": null,
   "id": "efab27c7",
   "metadata": {},
   "outputs": [],
   "source": []
  }
 ],
 "metadata": {
  "kernelspec": {
   "display_name": "Python 3",
   "language": "python",
   "name": "python3"
  },
  "language_info": {
   "codemirror_mode": {
    "name": "ipython",
    "version": 3
   },
   "file_extension": ".py",
   "mimetype": "text/x-python",
   "name": "python",
   "nbconvert_exporter": "python",
   "pygments_lexer": "ipython3",
   "version": "3.7.9"
  }
 },
 "nbformat": 4,
 "nbformat_minor": 5
}
