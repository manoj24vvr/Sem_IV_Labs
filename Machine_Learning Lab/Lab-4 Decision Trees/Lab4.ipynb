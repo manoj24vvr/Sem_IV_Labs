{
 "cells": [
  {
   "cell_type": "markdown",
   "id": "d486e1d0",
   "metadata": {},
   "source": [
    "#### SECTION A BATCH 1\n",
    "#### WEEK 4 DATE: 7th APRIL 2022\n",
    "### EXER 1\n"
   ]
  },
  {
   "cell_type": "code",
   "execution_count": 293,
   "id": "3bea4f83",
   "metadata": {},
   "outputs": [],
   "source": [
    "# Importing required libraries\n",
    "import numpy as np\n",
    "import pandas as pd\n",
    "import matplotlib.pyplot as plt\n",
    "import seaborn as sns\n",
    "from sklearn.metrics import accuracy_score,confusion_matrix,classification_report"
   ]
  },
  {
   "cell_type": "code",
   "execution_count": 294,
   "id": "725603d6",
   "metadata": {},
   "outputs": [],
   "source": [
    "# to ignore warnings\n",
    "import warnings\n",
    "warnings.filterwarnings('ignore')"
   ]
  },
  {
   "cell_type": "markdown",
   "id": "01f286f9",
   "metadata": {},
   "source": [
    "### 1. Use the German credit rating dataset “German Credit Data.csv” , Decision treeclassifier to predict good or bad credit. Use “sklearn.model_selection” and GridSearchCV to search the hyperparameter values and report the most optimal one. Configure the grid search to search for optimal parameters:\n",
    "* Splitting criteria: gini or entropy.\n",
    "* Maximum depth of decision tree ranging from 2 to 10.\n",
    "* The searching of optimal parameter will be validated using 10-fold cross validation and the most optimal parameter will be chosen based on ROC AUC score"
   ]
  },
  {
   "cell_type": "code",
   "execution_count": 295,
   "id": "38a2f4a2",
   "metadata": {},
   "outputs": [
    {
     "data": {
      "text/html": [
       "<div>\n",
       "<style scoped>\n",
       "    .dataframe tbody tr th:only-of-type {\n",
       "        vertical-align: middle;\n",
       "    }\n",
       "\n",
       "    .dataframe tbody tr th {\n",
       "        vertical-align: top;\n",
       "    }\n",
       "\n",
       "    .dataframe thead th {\n",
       "        text-align: right;\n",
       "    }\n",
       "</style>\n",
       "<table border=\"1\" class=\"dataframe\">\n",
       "  <thead>\n",
       "    <tr style=\"text-align: right;\">\n",
       "      <th></th>\n",
       "      <th>checkin_acc</th>\n",
       "      <th>duration</th>\n",
       "      <th>credit_history</th>\n",
       "      <th>amount</th>\n",
       "      <th>savings_acc</th>\n",
       "      <th>present_emp_since</th>\n",
       "      <th>inst_rate</th>\n",
       "      <th>personal_status</th>\n",
       "      <th>residing_since</th>\n",
       "      <th>age</th>\n",
       "      <th>inst_plans</th>\n",
       "      <th>num_credits</th>\n",
       "      <th>job</th>\n",
       "      <th>status</th>\n",
       "    </tr>\n",
       "  </thead>\n",
       "  <tbody>\n",
       "    <tr>\n",
       "      <th>0</th>\n",
       "      <td>A11</td>\n",
       "      <td>6</td>\n",
       "      <td>A34</td>\n",
       "      <td>1169</td>\n",
       "      <td>A65</td>\n",
       "      <td>A75</td>\n",
       "      <td>4</td>\n",
       "      <td>A93</td>\n",
       "      <td>4</td>\n",
       "      <td>67</td>\n",
       "      <td>A143</td>\n",
       "      <td>2</td>\n",
       "      <td>A173</td>\n",
       "      <td>0</td>\n",
       "    </tr>\n",
       "    <tr>\n",
       "      <th>1</th>\n",
       "      <td>A12</td>\n",
       "      <td>48</td>\n",
       "      <td>A32</td>\n",
       "      <td>5951</td>\n",
       "      <td>A61</td>\n",
       "      <td>A73</td>\n",
       "      <td>2</td>\n",
       "      <td>A92</td>\n",
       "      <td>2</td>\n",
       "      <td>22</td>\n",
       "      <td>A143</td>\n",
       "      <td>1</td>\n",
       "      <td>A173</td>\n",
       "      <td>1</td>\n",
       "    </tr>\n",
       "    <tr>\n",
       "      <th>2</th>\n",
       "      <td>A14</td>\n",
       "      <td>12</td>\n",
       "      <td>A34</td>\n",
       "      <td>2096</td>\n",
       "      <td>A61</td>\n",
       "      <td>A74</td>\n",
       "      <td>2</td>\n",
       "      <td>A93</td>\n",
       "      <td>3</td>\n",
       "      <td>49</td>\n",
       "      <td>A143</td>\n",
       "      <td>1</td>\n",
       "      <td>A172</td>\n",
       "      <td>0</td>\n",
       "    </tr>\n",
       "    <tr>\n",
       "      <th>3</th>\n",
       "      <td>A11</td>\n",
       "      <td>42</td>\n",
       "      <td>A32</td>\n",
       "      <td>7882</td>\n",
       "      <td>A61</td>\n",
       "      <td>A74</td>\n",
       "      <td>2</td>\n",
       "      <td>A93</td>\n",
       "      <td>4</td>\n",
       "      <td>45</td>\n",
       "      <td>A143</td>\n",
       "      <td>1</td>\n",
       "      <td>A173</td>\n",
       "      <td>0</td>\n",
       "    </tr>\n",
       "    <tr>\n",
       "      <th>4</th>\n",
       "      <td>A11</td>\n",
       "      <td>24</td>\n",
       "      <td>A33</td>\n",
       "      <td>4870</td>\n",
       "      <td>A61</td>\n",
       "      <td>A73</td>\n",
       "      <td>3</td>\n",
       "      <td>A93</td>\n",
       "      <td>4</td>\n",
       "      <td>53</td>\n",
       "      <td>A143</td>\n",
       "      <td>2</td>\n",
       "      <td>A173</td>\n",
       "      <td>1</td>\n",
       "    </tr>\n",
       "  </tbody>\n",
       "</table>\n",
       "</div>"
      ],
      "text/plain": [
       "  checkin_acc  duration credit_history  amount savings_acc present_emp_since  \\\n",
       "0         A11         6            A34    1169         A65               A75   \n",
       "1         A12        48            A32    5951         A61               A73   \n",
       "2         A14        12            A34    2096         A61               A74   \n",
       "3         A11        42            A32    7882         A61               A74   \n",
       "4         A11        24            A33    4870         A61               A73   \n",
       "\n",
       "   inst_rate personal_status  residing_since  age inst_plans  num_credits  \\\n",
       "0          4             A93               4   67       A143            2   \n",
       "1          2             A92               2   22       A143            1   \n",
       "2          2             A93               3   49       A143            1   \n",
       "3          2             A93               4   45       A143            1   \n",
       "4          3             A93               4   53       A143            2   \n",
       "\n",
       "    job  status  \n",
       "0  A173       0  \n",
       "1  A173       1  \n",
       "2  A172       0  \n",
       "3  A173       0  \n",
       "4  A173       1  "
      ]
     },
     "execution_count": 295,
     "metadata": {},
     "output_type": "execute_result"
    }
   ],
   "source": [
    "# https://archive.ics.uci.edu/ml/datasets/statlog+(german+credit+data)\n",
    "\n",
    "# Importing the dataset\n",
    "df = pd.read_csv(\"German Credit Data.csv\")\n",
    "df.head()"
   ]
  },
  {
   "cell_type": "code",
   "execution_count": 296,
   "id": "fa1f1e9f",
   "metadata": {},
   "outputs": [
    {
     "name": "stdout",
     "output_type": "stream",
     "text": [
      "<class 'pandas.core.frame.DataFrame'>\n",
      "RangeIndex: 1000 entries, 0 to 999\n",
      "Data columns (total 14 columns):\n",
      " #   Column             Non-Null Count  Dtype \n",
      "---  ------             --------------  ----- \n",
      " 0   checkin_acc        1000 non-null   object\n",
      " 1   duration           1000 non-null   int64 \n",
      " 2   credit_history     1000 non-null   object\n",
      " 3   amount             1000 non-null   int64 \n",
      " 4   savings_acc        1000 non-null   object\n",
      " 5   present_emp_since  1000 non-null   object\n",
      " 6   inst_rate          1000 non-null   int64 \n",
      " 7   personal_status    1000 non-null   object\n",
      " 8   residing_since     1000 non-null   int64 \n",
      " 9   age                1000 non-null   int64 \n",
      " 10  inst_plans         1000 non-null   object\n",
      " 11  num_credits        1000 non-null   int64 \n",
      " 12  job                1000 non-null   object\n",
      " 13  status             1000 non-null   int64 \n",
      "dtypes: int64(7), object(7)\n",
      "memory usage: 109.5+ KB\n"
     ]
    }
   ],
   "source": [
    "df.info()"
   ]
  },
  {
   "cell_type": "code",
   "execution_count": 297,
   "id": "6071fb78",
   "metadata": {},
   "outputs": [
    {
     "data": {
      "text/plain": [
       "Index(['checkin_acc', 'duration', 'credit_history', 'amount', 'savings_acc',\n",
       "       'present_emp_since', 'inst_rate', 'personal_status', 'residing_since',\n",
       "       'age', 'inst_plans', 'num_credits', 'job', 'status'],\n",
       "      dtype='object')"
      ]
     },
     "execution_count": 297,
     "metadata": {},
     "output_type": "execute_result"
    }
   ],
   "source": [
    "df.columns"
   ]
  },
  {
   "cell_type": "code",
   "execution_count": 298,
   "id": "351f114f",
   "metadata": {},
   "outputs": [
    {
     "data": {
      "text/plain": [
       "checkin_acc          0\n",
       "duration             0\n",
       "credit_history       0\n",
       "amount               0\n",
       "savings_acc          0\n",
       "present_emp_since    0\n",
       "inst_rate            0\n",
       "personal_status      0\n",
       "residing_since       0\n",
       "age                  0\n",
       "inst_plans           0\n",
       "num_credits          0\n",
       "job                  0\n",
       "status               0\n",
       "dtype: int64"
      ]
     },
     "execution_count": 298,
     "metadata": {},
     "output_type": "execute_result"
    }
   ],
   "source": [
    "df.isnull().sum()"
   ]
  },
  {
   "cell_type": "code",
   "execution_count": 299,
   "id": "fcbe138b",
   "metadata": {},
   "outputs": [
    {
     "data": {
      "text/plain": [
       "Index(['checkin_acc', 'credit_history', 'savings_acc', 'present_emp_since',\n",
       "       'personal_status', 'inst_plans', 'job'],\n",
       "      dtype='object')"
      ]
     },
     "execution_count": 299,
     "metadata": {},
     "output_type": "execute_result"
    }
   ],
   "source": [
    "cat_cols = df.select_dtypes(include = ['object']).copy()\n",
    "cat_cols.columns"
   ]
  },
  {
   "cell_type": "code",
   "execution_count": 300,
   "id": "f0838212",
   "metadata": {},
   "outputs": [],
   "source": [
    "from sklearn.preprocessing import LabelEncoder\n",
    "for i in cat_cols.columns:\n",
    "    df[i] = LabelEncoder().fit_transform(df[i])"
   ]
  },
  {
   "cell_type": "code",
   "execution_count": 301,
   "id": "b1018aa3",
   "metadata": {},
   "outputs": [
    {
     "data": {
      "text/html": [
       "<div>\n",
       "<style scoped>\n",
       "    .dataframe tbody tr th:only-of-type {\n",
       "        vertical-align: middle;\n",
       "    }\n",
       "\n",
       "    .dataframe tbody tr th {\n",
       "        vertical-align: top;\n",
       "    }\n",
       "\n",
       "    .dataframe thead th {\n",
       "        text-align: right;\n",
       "    }\n",
       "</style>\n",
       "<table border=\"1\" class=\"dataframe\">\n",
       "  <thead>\n",
       "    <tr style=\"text-align: right;\">\n",
       "      <th></th>\n",
       "      <th>checkin_acc</th>\n",
       "      <th>duration</th>\n",
       "      <th>credit_history</th>\n",
       "      <th>amount</th>\n",
       "      <th>savings_acc</th>\n",
       "      <th>present_emp_since</th>\n",
       "      <th>inst_rate</th>\n",
       "      <th>personal_status</th>\n",
       "      <th>residing_since</th>\n",
       "      <th>age</th>\n",
       "      <th>inst_plans</th>\n",
       "      <th>num_credits</th>\n",
       "      <th>job</th>\n",
       "      <th>status</th>\n",
       "    </tr>\n",
       "  </thead>\n",
       "  <tbody>\n",
       "    <tr>\n",
       "      <th>0</th>\n",
       "      <td>0</td>\n",
       "      <td>6</td>\n",
       "      <td>4</td>\n",
       "      <td>1169</td>\n",
       "      <td>4</td>\n",
       "      <td>4</td>\n",
       "      <td>4</td>\n",
       "      <td>2</td>\n",
       "      <td>4</td>\n",
       "      <td>67</td>\n",
       "      <td>2</td>\n",
       "      <td>2</td>\n",
       "      <td>2</td>\n",
       "      <td>0</td>\n",
       "    </tr>\n",
       "    <tr>\n",
       "      <th>1</th>\n",
       "      <td>1</td>\n",
       "      <td>48</td>\n",
       "      <td>2</td>\n",
       "      <td>5951</td>\n",
       "      <td>0</td>\n",
       "      <td>2</td>\n",
       "      <td>2</td>\n",
       "      <td>1</td>\n",
       "      <td>2</td>\n",
       "      <td>22</td>\n",
       "      <td>2</td>\n",
       "      <td>1</td>\n",
       "      <td>2</td>\n",
       "      <td>1</td>\n",
       "    </tr>\n",
       "    <tr>\n",
       "      <th>2</th>\n",
       "      <td>3</td>\n",
       "      <td>12</td>\n",
       "      <td>4</td>\n",
       "      <td>2096</td>\n",
       "      <td>0</td>\n",
       "      <td>3</td>\n",
       "      <td>2</td>\n",
       "      <td>2</td>\n",
       "      <td>3</td>\n",
       "      <td>49</td>\n",
       "      <td>2</td>\n",
       "      <td>1</td>\n",
       "      <td>1</td>\n",
       "      <td>0</td>\n",
       "    </tr>\n",
       "    <tr>\n",
       "      <th>3</th>\n",
       "      <td>0</td>\n",
       "      <td>42</td>\n",
       "      <td>2</td>\n",
       "      <td>7882</td>\n",
       "      <td>0</td>\n",
       "      <td>3</td>\n",
       "      <td>2</td>\n",
       "      <td>2</td>\n",
       "      <td>4</td>\n",
       "      <td>45</td>\n",
       "      <td>2</td>\n",
       "      <td>1</td>\n",
       "      <td>2</td>\n",
       "      <td>0</td>\n",
       "    </tr>\n",
       "    <tr>\n",
       "      <th>4</th>\n",
       "      <td>0</td>\n",
       "      <td>24</td>\n",
       "      <td>3</td>\n",
       "      <td>4870</td>\n",
       "      <td>0</td>\n",
       "      <td>2</td>\n",
       "      <td>3</td>\n",
       "      <td>2</td>\n",
       "      <td>4</td>\n",
       "      <td>53</td>\n",
       "      <td>2</td>\n",
       "      <td>2</td>\n",
       "      <td>2</td>\n",
       "      <td>1</td>\n",
       "    </tr>\n",
       "  </tbody>\n",
       "</table>\n",
       "</div>"
      ],
      "text/plain": [
       "   checkin_acc  duration  credit_history  amount  savings_acc  \\\n",
       "0            0         6               4    1169            4   \n",
       "1            1        48               2    5951            0   \n",
       "2            3        12               4    2096            0   \n",
       "3            0        42               2    7882            0   \n",
       "4            0        24               3    4870            0   \n",
       "\n",
       "   present_emp_since  inst_rate  personal_status  residing_since  age  \\\n",
       "0                  4          4                2               4   67   \n",
       "1                  2          2                1               2   22   \n",
       "2                  3          2                2               3   49   \n",
       "3                  3          2                2               4   45   \n",
       "4                  2          3                2               4   53   \n",
       "\n",
       "   inst_plans  num_credits  job  status  \n",
       "0           2            2    2       0  \n",
       "1           2            1    2       1  \n",
       "2           2            1    1       0  \n",
       "3           2            1    2       0  \n",
       "4           2            2    2       1  "
      ]
     },
     "execution_count": 301,
     "metadata": {},
     "output_type": "execute_result"
    }
   ],
   "source": [
    "df.head()"
   ]
  },
  {
   "cell_type": "code",
   "execution_count": 302,
   "id": "6e3f5ec1",
   "metadata": {},
   "outputs": [],
   "source": [
    "# Splitting predictor and response variables\n",
    "\n",
    "X = df.drop(columns = ['status'],axis = 1)\n",
    "y = df.status"
   ]
  },
  {
   "cell_type": "code",
   "execution_count": 303,
   "id": "78040300",
   "metadata": {},
   "outputs": [],
   "source": [
    "# splitting the dataset into train and test datasets\n",
    "from sklearn.model_selection import train_test_split\n",
    "X_train,X_test,y_train,y_test = train_test_split(X,y,test_size = 0.2,random_state = 40)"
   ]
  },
  {
   "cell_type": "code",
   "execution_count": 304,
   "id": "5c0e64cc",
   "metadata": {},
   "outputs": [
    {
     "data": {
      "text/plain": [
       "{'mean_fit_time': array([0.00358958, 0.00299706, 0.00259299, 0.00061436, 0.00270786,\n",
       "        0.00339065, 0.0008956 , 0.00211048, 0.        , 0.00312405,\n",
       "        0.        , 0.        , 0.00312448, 0.00312424, 0.00312424,\n",
       "        0.00312433, 0.00443273, 0.00202804, 0.00081816, 0.00160913,\n",
       "        0.00349274, 0.00199475, 0.00178728, 0.00222201, 0.00082445,\n",
       "        0.00161581, 0.00202041, 0.00202532, 0.00201836, 0.00040917,\n",
       "        0.00201936, 0.00160999, 0.00201979, 0.00201898, 0.00040879,\n",
       "        0.00395498, 0.00179524, 0.00105863, 0.00202212, 0.00201783,\n",
       "        0.00202212]),\n",
       " 'std_fit_time': array([7.90803561e-04, 1.23689390e-05, 4.89358775e-04, 1.22871399e-03,\n",
       "        5.41572571e-03, 6.78129196e-03, 1.10773289e-03, 8.85541487e-04,\n",
       "        0.00000000e+00, 6.24809265e-03, 0.00000000e+00, 0.00000000e+00,\n",
       "        6.24895096e-03, 6.24847412e-03, 6.24847412e-03, 6.24866486e-03,\n",
       "        6.14154216e-03, 3.13262719e-03, 1.00203546e-03, 3.21826935e-03,\n",
       "        2.52706600e-03, 1.90734863e-07, 3.95272396e-04, 2.73905484e-03,\n",
       "        1.00980943e-03, 3.21424451e-03, 3.11823691e-03, 3.13049433e-03,\n",
       "        3.12835763e-03, 8.18347931e-04, 3.11749283e-03, 3.21998596e-03,\n",
       "        3.12006808e-03, 3.11547035e-03, 8.17584991e-04, 4.11103917e-03,\n",
       "        3.98969722e-04, 9.08401774e-04, 3.12431275e-03, 3.11518405e-03,\n",
       "        3.12376127e-03]),\n",
       " 'mean_score_time': array([0.00120373, 0.00099187, 0.00099802, 0.00313015, 0.        ,\n",
       "        0.        , 0.00019956, 0.00059862, 0.00312433, 0.        ,\n",
       "        0.        , 0.00312457, 0.        , 0.        , 0.        ,\n",
       "        0.        , 0.        , 0.        , 0.00160947, 0.00040913,\n",
       "        0.00099754, 0.0009973 , 0.00099745, 0.00019946, 0.00161657,\n",
       "        0.00161371, 0.0004087 , 0.00160308, 0.        , 0.00160923,\n",
       "        0.0020175 , 0.        , 0.0016088 , 0.00040865, 0.00161757,\n",
       "        0.00019941, 0.00079789, 0.00019946, 0.00202456, 0.        ,\n",
       "        0.        ]),\n",
       " 'std_score_time': array([4.09989774e-04, 1.21311721e-05, 1.36545382e-06, 6.26029968e-03,\n",
       "        0.00000000e+00, 0.00000000e+00, 3.99112701e-04, 4.88772308e-04,\n",
       "        6.24866486e-03, 0.00000000e+00, 0.00000000e+00, 6.24914169e-03,\n",
       "        0.00000000e+00, 0.00000000e+00, 0.00000000e+00, 0.00000000e+00,\n",
       "        0.00000000e+00, 0.00000000e+00, 3.21893692e-03, 8.18252563e-04,\n",
       "        5.22348936e-07, 2.61174468e-07, 2.86102295e-07, 3.98921967e-04,\n",
       "        3.23314667e-03, 3.22742462e-03, 8.17394257e-04, 3.20615768e-03,\n",
       "        0.00000000e+00, 3.21846008e-03, 3.11527295e-03, 0.00000000e+00,\n",
       "        3.21760178e-03, 8.17298889e-04, 3.23514938e-03, 3.98826599e-04,\n",
       "        3.98945848e-04, 3.98921967e-04, 3.12901805e-03, 0.00000000e+00,\n",
       "        0.00000000e+00]),\n",
       " 'param_min_samples_split': masked_array(data=[2, 12, 22, 32, 42, 52, 62, 72, 82, 92, 102, 112, 122,\n",
       "                    132, 142, 152, 162, 172, 182, 192, 202, 212, 222, 232,\n",
       "                    242, 252, 262, 272, 282, 292, 302, 312, 322, 332, 342,\n",
       "                    352, 362, 372, 382, 392, 402],\n",
       "              mask=[False, False, False, False, False, False, False, False,\n",
       "                    False, False, False, False, False, False, False, False,\n",
       "                    False, False, False, False, False, False, False, False,\n",
       "                    False, False, False, False, False, False, False, False,\n",
       "                    False, False, False, False, False, False, False, False,\n",
       "                    False],\n",
       "        fill_value='?',\n",
       "             dtype=object),\n",
       " 'params': [{'min_samples_split': 2},\n",
       "  {'min_samples_split': 12},\n",
       "  {'min_samples_split': 22},\n",
       "  {'min_samples_split': 32},\n",
       "  {'min_samples_split': 42},\n",
       "  {'min_samples_split': 52},\n",
       "  {'min_samples_split': 62},\n",
       "  {'min_samples_split': 72},\n",
       "  {'min_samples_split': 82},\n",
       "  {'min_samples_split': 92},\n",
       "  {'min_samples_split': 102},\n",
       "  {'min_samples_split': 112},\n",
       "  {'min_samples_split': 122},\n",
       "  {'min_samples_split': 132},\n",
       "  {'min_samples_split': 142},\n",
       "  {'min_samples_split': 152},\n",
       "  {'min_samples_split': 162},\n",
       "  {'min_samples_split': 172},\n",
       "  {'min_samples_split': 182},\n",
       "  {'min_samples_split': 192},\n",
       "  {'min_samples_split': 202},\n",
       "  {'min_samples_split': 212},\n",
       "  {'min_samples_split': 222},\n",
       "  {'min_samples_split': 232},\n",
       "  {'min_samples_split': 242},\n",
       "  {'min_samples_split': 252},\n",
       "  {'min_samples_split': 262},\n",
       "  {'min_samples_split': 272},\n",
       "  {'min_samples_split': 282},\n",
       "  {'min_samples_split': 292},\n",
       "  {'min_samples_split': 302},\n",
       "  {'min_samples_split': 312},\n",
       "  {'min_samples_split': 322},\n",
       "  {'min_samples_split': 332},\n",
       "  {'min_samples_split': 342},\n",
       "  {'min_samples_split': 352},\n",
       "  {'min_samples_split': 362},\n",
       "  {'min_samples_split': 372},\n",
       "  {'min_samples_split': 382},\n",
       "  {'min_samples_split': 392},\n",
       "  {'min_samples_split': 402}],\n",
       " 'split0_test_score': array([0.7  , 0.705, 0.74 , 0.755, 0.725, 0.715, 0.72 , 0.72 , 0.74 ,\n",
       "        0.74 , 0.74 , 0.755, 0.76 , 0.76 , 0.76 , 0.76 , 0.76 , 0.76 ,\n",
       "        0.76 , 0.75 , 0.75 , 0.75 , 0.75 , 0.75 , 0.74 , 0.74 , 0.74 ,\n",
       "        0.74 , 0.74 , 0.74 , 0.74 , 0.74 , 0.74 , 0.74 , 0.74 , 0.74 ,\n",
       "        0.74 , 0.74 , 0.74 , 0.74 , 0.74 ]),\n",
       " 'split1_test_score': array([0.695, 0.71 , 0.73 , 0.715, 0.705, 0.735, 0.72 , 0.715, 0.71 ,\n",
       "        0.71 , 0.71 , 0.71 , 0.71 , 0.73 , 0.73 , 0.73 , 0.735, 0.735,\n",
       "        0.735, 0.725, 0.725, 0.725, 0.725, 0.725, 0.725, 0.725, 0.72 ,\n",
       "        0.72 , 0.72 , 0.72 , 0.72 , 0.72 , 0.72 , 0.72 , 0.72 , 0.72 ,\n",
       "        0.72 , 0.72 , 0.72 , 0.72 , 0.72 ]),\n",
       " 'split2_test_score': array([0.66 , 0.68 , 0.695, 0.705, 0.75 , 0.755, 0.755, 0.74 , 0.75 ,\n",
       "        0.745, 0.745, 0.745, 0.745, 0.745, 0.745, 0.745, 0.745, 0.745,\n",
       "        0.745, 0.75 , 0.75 , 0.75 , 0.75 , 0.75 , 0.765, 0.765, 0.765,\n",
       "        0.765, 0.765, 0.765, 0.765, 0.765, 0.765, 0.715, 0.715, 0.715,\n",
       "        0.715, 0.715, 0.715, 0.715, 0.715]),\n",
       " 'split3_test_score': array([0.685, 0.72 , 0.705, 0.71 , 0.72 , 0.695, 0.695, 0.68 , 0.68 ,\n",
       "        0.68 , 0.68 , 0.68 , 0.71 , 0.71 , 0.71 , 0.71 , 0.71 , 0.7  ,\n",
       "        0.7  , 0.7  , 0.7  , 0.7  , 0.7  , 0.7  , 0.7  , 0.7  , 0.7  ,\n",
       "        0.7  , 0.7  , 0.7  , 0.71 , 0.71 , 0.71 , 0.71 , 0.71 , 0.71 ,\n",
       "        0.71 , 0.71 , 0.71 , 0.71 , 0.675]),\n",
       " 'split4_test_score': array([0.69 , 0.68 , 0.7  , 0.7  , 0.72 , 0.725, 0.725, 0.725, 0.725,\n",
       "        0.725, 0.735, 0.735, 0.735, 0.745, 0.745, 0.745, 0.7  , 0.7  ,\n",
       "        0.7  , 0.7  , 0.72 , 0.72 , 0.72 , 0.72 , 0.7  , 0.7  , 0.7  ,\n",
       "        0.7  , 0.7  , 0.705, 0.705, 0.705, 0.705, 0.705, 0.705, 0.705,\n",
       "        0.705, 0.705, 0.705, 0.705, 0.705]),\n",
       " 'mean_test_score': array([0.686, 0.699, 0.714, 0.717, 0.724, 0.725, 0.723, 0.716, 0.721,\n",
       "        0.72 , 0.722, 0.725, 0.732, 0.738, 0.738, 0.738, 0.73 , 0.728,\n",
       "        0.728, 0.725, 0.729, 0.729, 0.729, 0.729, 0.726, 0.726, 0.725,\n",
       "        0.725, 0.725, 0.726, 0.728, 0.728, 0.728, 0.718, 0.718, 0.718,\n",
       "        0.718, 0.718, 0.718, 0.718, 0.711]),\n",
       " 'std_test_score': array([0.01392839, 0.01624808, 0.01772005, 0.01964688, 0.01462874,\n",
       "        0.02      , 0.01913113, 0.01984943, 0.02457641, 0.02345208,\n",
       "        0.02420744, 0.02701851, 0.01964688, 0.01691153, 0.01691153,\n",
       "        0.01691153, 0.02213594, 0.02420744, 0.02420744, 0.02236068,\n",
       "        0.01907878, 0.01907878, 0.01907878, 0.01907878, 0.02477902,\n",
       "        0.02477902, 0.0248998 , 0.0248998 , 0.0248998 , 0.0239583 ,\n",
       "        0.02204541, 0.02204541, 0.02204541, 0.01208305, 0.01208305,\n",
       "        0.01208305, 0.01208305, 0.01208305, 0.01208305, 0.01208305,\n",
       "        0.02130728]),\n",
       " 'rank_test_score': array([41, 40, 38, 36, 24, 18, 25, 37, 27, 28, 26, 18,  4,  1,  1,  1,  5,\n",
       "        10, 10, 18,  6,  6,  6,  6, 15, 15, 18, 18, 18, 15, 12, 12, 12, 29,\n",
       "        29, 29, 29, 29, 29, 29, 39])}"
      ]
     },
     "execution_count": 304,
     "metadata": {},
     "output_type": "execute_result"
    }
   ],
   "source": [
    "from sklearn.model_selection import GridSearchCV\n",
    "from sklearn.tree import DecisionTreeClassifier\n",
    "# from sklearn.cross_validation import cross_val_score\n",
    "\n",
    "gs = GridSearchCV(DecisionTreeClassifier(random_state = 5, criterion = \"gini\",\n",
    "                    max_depth = 10),param_grid={\"min_samples_split\": \n",
    "                    range(2, 403, 10)})\n",
    "gs.fit(X,y.values.ravel())\n",
    "y_pred = gs.predict(X_test)\n",
    "results = gs.cv_results_\n",
    "results"
   ]
  },
  {
   "cell_type": "code",
   "execution_count": 305,
   "id": "7a835a42",
   "metadata": {},
   "outputs": [
    {
     "data": {
      "text/plain": [
       "0.78"
      ]
     },
     "execution_count": 305,
     "metadata": {},
     "output_type": "execute_result"
    }
   ],
   "source": [
    "accuracy_score(y_pred,y_test)"
   ]
  },
  {
   "cell_type": "code",
   "execution_count": 306,
   "id": "c190de85",
   "metadata": {},
   "outputs": [
    {
     "data": {
      "text/plain": [
       "DecisionTreeClassifier(max_depth=3, random_state=42)"
      ]
     },
     "execution_count": 306,
     "metadata": {},
     "output_type": "execute_result"
    }
   ],
   "source": [
    "tree_para = {'criterion':['gini','entropy'],'max_depth':[2,3,4,5,6,7,8,9,10]}\n",
    "grid_search_cv = GridSearchCV(DecisionTreeClassifier(random_state = 42), tree_para, cv = 5)\n",
    "grid_search_cv.fit(X_train,y_train)\n",
    "grid_search_cv.best_estimator_"
   ]
  },
  {
   "cell_type": "code",
   "execution_count": 307,
   "id": "bf58998a",
   "metadata": {},
   "outputs": [
    {
     "data": {
      "text/plain": [
       "{'criterion': 'gini', 'max_depth': 3}"
      ]
     },
     "execution_count": 307,
     "metadata": {},
     "output_type": "execute_result"
    }
   ],
   "source": [
    "def dtree_grid_search(X,y,nfolds):\n",
    "    #create a dictionary of all values we want to test\n",
    "    param_grid = { 'criterion':['gini','entropy'],'max_depth': np.arange(2, 10)}\n",
    "    # decision tree model\n",
    "    dtree_model=DecisionTreeClassifier()\n",
    "    #use gridsearch to test all values\n",
    "    dtree_gscv = GridSearchCV(dtree_model, param_grid, cv=nfolds)\n",
    "    #fit model to data\n",
    "    dtree_gscv.fit(X, y)\n",
    "    return dtree_gscv.best_params_\n",
    "\n",
    "dtree_grid_search(X,y,10)"
   ]
  },
  {
   "cell_type": "markdown",
   "id": "c2645c6b",
   "metadata": {},
   "source": [
    "### 2. Visualize the tree using graphviz software."
   ]
  },
  {
   "cell_type": "code",
   "execution_count": 308,
   "id": "b70af43f",
   "metadata": {},
   "outputs": [
    {
     "name": "stdout",
     "output_type": "stream",
     "text": [
      "Requirement already satisfied: Graphviz in c:\\programdata\\anaconda3\\lib\\site-packages (0.19.1)\n",
      "Note: you may need to restart the kernel to use updated packages.\n"
     ]
    }
   ],
   "source": [
    "pip install Graphviz"
   ]
  },
  {
   "cell_type": "code",
   "execution_count": 309,
   "id": "69745f57",
   "metadata": {},
   "outputs": [
    {
     "data": {
      "text/plain": [
       "0.76"
      ]
     },
     "execution_count": 309,
     "metadata": {},
     "output_type": "execute_result"
    }
   ],
   "source": [
    "from sklearn.tree import DecisionTreeClassifier\n",
    "clf_model = DecisionTreeClassifier( random_state=42,max_depth=3, min_samples_leaf=5)   \n",
    "clf_model.fit(X_train,y_train)\n",
    "y_predict = clf_model.predict(X_test)\n",
    "\n",
    "from sklearn.metrics import accuracy_score,classification_report,confusion_matrix\n",
    "accuracy_score(y_test,y_predict)"
   ]
  },
  {
   "cell_type": "code",
   "execution_count": null,
   "id": "5f09e378",
   "metadata": {},
   "outputs": [],
   "source": [
    "from sklearn import tree\n"
   ]
  },
  {
   "cell_type": "markdown",
   "id": "c0ea60e1",
   "metadata": {},
   "source": [
    "### 3. Display the text representation of the rules learnt."
   ]
  },
  {
   "cell_type": "markdown",
   "id": "cb7abf4d",
   "metadata": {},
   "source": [
    "## EXER 2"
   ]
  },
  {
   "cell_type": "markdown",
   "id": "f61302f9",
   "metadata": {},
   "source": [
    "#### Download fuel consumption dataset \"FuelConsumption.csv\", which contains model-specific fuel consumption ratings and estimated carbon dioxide emissions. "
   ]
  },
  {
   "cell_type": "markdown",
   "id": "36046367",
   "metadata": {},
   "source": [
    "* Select the features 'ENGINESIZE', 'CYLINDERS', \n",
    "'FUELCONSUMPTION_COMB', 'CO2EMISSIONS' to use for building the \n",
    "model. Plot Emission values with respect to Engine size."
   ]
  },
  {
   "cell_type": "markdown",
   "id": "8da975b9",
   "metadata": {},
   "source": [
    "* split the data into training and test sets (70:30) to create a model using training \n",
    "set, evaluate the model using test set, and use model to predict unknown value."
   ]
  },
  {
   "cell_type": "markdown",
   "id": "18065600",
   "metadata": {},
   "source": [
    "* Try to use a polynomial regression with the dataset of degree – 3, 4 & 5. Verify the accuracy by calculating Mean absolute error, Residual sum of squares, R2-score and comment on which model is the best."
   ]
  },
  {
   "cell_type": "code",
   "execution_count": null,
   "id": "0cc5dc12",
   "metadata": {},
   "outputs": [],
   "source": []
  }
 ],
 "metadata": {
  "kernelspec": {
   "display_name": "Python 3 (ipykernel)",
   "language": "python",
   "name": "python3"
  },
  "language_info": {
   "codemirror_mode": {
    "name": "ipython",
    "version": 3
   },
   "file_extension": ".py",
   "mimetype": "text/x-python",
   "name": "python",
   "nbconvert_exporter": "python",
   "pygments_lexer": "ipython3",
   "version": "3.9.7"
  }
 },
 "nbformat": 4,
 "nbformat_minor": 5
}
