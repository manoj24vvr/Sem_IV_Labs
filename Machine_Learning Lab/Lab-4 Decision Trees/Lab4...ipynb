{
 "cells": [
  {
   "cell_type": "markdown",
   "id": "d486e1d0",
   "metadata": {},
   "source": [
    "#### SECTION A BATCH 1\n",
    "#### WEEK 4 DATE: 7th APRIL 2022\n",
    "### EXER 1\n"
   ]
  },
  {
   "cell_type": "code",
   "execution_count": 1,
   "id": "3bea4f83",
   "metadata": {},
   "outputs": [],
   "source": [
    "# Importing required libraries\n",
    "import numpy as np\n",
    "import pandas as pd\n",
    "import matplotlib.pyplot as plt\n",
    "import seaborn as sns\n",
    "from sklearn.metrics import accuracy_score,confusion_matrix,classification_report"
   ]
  },
  {
   "cell_type": "code",
   "execution_count": 2,
   "id": "725603d6",
   "metadata": {},
   "outputs": [],
   "source": [
    "# to ignore warnings\n",
    "import warnings\n",
    "warnings.filterwarnings('ignore')"
   ]
  },
  {
   "cell_type": "markdown",
   "id": "01f286f9",
   "metadata": {},
   "source": [
    "### 1. Use the German credit rating dataset “German Credit Data.csv” , Decision treeclassifier to predict good or bad credit. Use “sklearn.model_selection” and GridSearchCV to search the hyperparameter values and report the most optimal one. Configure the grid search to search for optimal parameters:\n",
    "* Splitting criteria: gini or entropy.\n",
    "* Maximum depth of decision tree ranging from 2 to 10.\n",
    "* The searching of optimal parameter will be validated using 10-fold cross validation and the most optimal parameter will be chosen based on ROC AUC score"
   ]
  },
  {
   "cell_type": "code",
   "execution_count": 3,
   "id": "38a2f4a2",
   "metadata": {},
   "outputs": [
    {
     "data": {
      "text/html": [
       "<div>\n",
       "<style scoped>\n",
       "    .dataframe tbody tr th:only-of-type {\n",
       "        vertical-align: middle;\n",
       "    }\n",
       "\n",
       "    .dataframe tbody tr th {\n",
       "        vertical-align: top;\n",
       "    }\n",
       "\n",
       "    .dataframe thead th {\n",
       "        text-align: right;\n",
       "    }\n",
       "</style>\n",
       "<table border=\"1\" class=\"dataframe\">\n",
       "  <thead>\n",
       "    <tr style=\"text-align: right;\">\n",
       "      <th></th>\n",
       "      <th>checkin_acc</th>\n",
       "      <th>duration</th>\n",
       "      <th>credit_history</th>\n",
       "      <th>amount</th>\n",
       "      <th>savings_acc</th>\n",
       "      <th>present_emp_since</th>\n",
       "      <th>inst_rate</th>\n",
       "      <th>personal_status</th>\n",
       "      <th>residing_since</th>\n",
       "      <th>age</th>\n",
       "      <th>inst_plans</th>\n",
       "      <th>num_credits</th>\n",
       "      <th>job</th>\n",
       "      <th>status</th>\n",
       "    </tr>\n",
       "  </thead>\n",
       "  <tbody>\n",
       "    <tr>\n",
       "      <th>0</th>\n",
       "      <td>A11</td>\n",
       "      <td>6</td>\n",
       "      <td>A34</td>\n",
       "      <td>1169</td>\n",
       "      <td>A65</td>\n",
       "      <td>A75</td>\n",
       "      <td>4</td>\n",
       "      <td>A93</td>\n",
       "      <td>4</td>\n",
       "      <td>67</td>\n",
       "      <td>A143</td>\n",
       "      <td>2</td>\n",
       "      <td>A173</td>\n",
       "      <td>0</td>\n",
       "    </tr>\n",
       "    <tr>\n",
       "      <th>1</th>\n",
       "      <td>A12</td>\n",
       "      <td>48</td>\n",
       "      <td>A32</td>\n",
       "      <td>5951</td>\n",
       "      <td>A61</td>\n",
       "      <td>A73</td>\n",
       "      <td>2</td>\n",
       "      <td>A92</td>\n",
       "      <td>2</td>\n",
       "      <td>22</td>\n",
       "      <td>A143</td>\n",
       "      <td>1</td>\n",
       "      <td>A173</td>\n",
       "      <td>1</td>\n",
       "    </tr>\n",
       "    <tr>\n",
       "      <th>2</th>\n",
       "      <td>A14</td>\n",
       "      <td>12</td>\n",
       "      <td>A34</td>\n",
       "      <td>2096</td>\n",
       "      <td>A61</td>\n",
       "      <td>A74</td>\n",
       "      <td>2</td>\n",
       "      <td>A93</td>\n",
       "      <td>3</td>\n",
       "      <td>49</td>\n",
       "      <td>A143</td>\n",
       "      <td>1</td>\n",
       "      <td>A172</td>\n",
       "      <td>0</td>\n",
       "    </tr>\n",
       "    <tr>\n",
       "      <th>3</th>\n",
       "      <td>A11</td>\n",
       "      <td>42</td>\n",
       "      <td>A32</td>\n",
       "      <td>7882</td>\n",
       "      <td>A61</td>\n",
       "      <td>A74</td>\n",
       "      <td>2</td>\n",
       "      <td>A93</td>\n",
       "      <td>4</td>\n",
       "      <td>45</td>\n",
       "      <td>A143</td>\n",
       "      <td>1</td>\n",
       "      <td>A173</td>\n",
       "      <td>0</td>\n",
       "    </tr>\n",
       "    <tr>\n",
       "      <th>4</th>\n",
       "      <td>A11</td>\n",
       "      <td>24</td>\n",
       "      <td>A33</td>\n",
       "      <td>4870</td>\n",
       "      <td>A61</td>\n",
       "      <td>A73</td>\n",
       "      <td>3</td>\n",
       "      <td>A93</td>\n",
       "      <td>4</td>\n",
       "      <td>53</td>\n",
       "      <td>A143</td>\n",
       "      <td>2</td>\n",
       "      <td>A173</td>\n",
       "      <td>1</td>\n",
       "    </tr>\n",
       "  </tbody>\n",
       "</table>\n",
       "</div>"
      ],
      "text/plain": [
       "  checkin_acc  duration credit_history  amount savings_acc present_emp_since  \\\n",
       "0         A11         6            A34    1169         A65               A75   \n",
       "1         A12        48            A32    5951         A61               A73   \n",
       "2         A14        12            A34    2096         A61               A74   \n",
       "3         A11        42            A32    7882         A61               A74   \n",
       "4         A11        24            A33    4870         A61               A73   \n",
       "\n",
       "   inst_rate personal_status  residing_since  age inst_plans  num_credits  \\\n",
       "0          4             A93               4   67       A143            2   \n",
       "1          2             A92               2   22       A143            1   \n",
       "2          2             A93               3   49       A143            1   \n",
       "3          2             A93               4   45       A143            1   \n",
       "4          3             A93               4   53       A143            2   \n",
       "\n",
       "    job  status  \n",
       "0  A173       0  \n",
       "1  A173       1  \n",
       "2  A172       0  \n",
       "3  A173       0  \n",
       "4  A173       1  "
      ]
     },
     "execution_count": 3,
     "metadata": {},
     "output_type": "execute_result"
    }
   ],
   "source": [
    "# https://archive.ics.uci.edu/ml/datasets/statlog+(german+credit+data)\n",
    "\n",
    "# Importing the dataset\n",
    "df = pd.read_csv(\"German Credit Data.csv\")\n",
    "df.head()"
   ]
  },
  {
   "cell_type": "code",
   "execution_count": 4,
   "id": "fa1f1e9f",
   "metadata": {},
   "outputs": [
    {
     "name": "stdout",
     "output_type": "stream",
     "text": [
      "<class 'pandas.core.frame.DataFrame'>\n",
      "RangeIndex: 1000 entries, 0 to 999\n",
      "Data columns (total 14 columns):\n",
      " #   Column             Non-Null Count  Dtype \n",
      "---  ------             --------------  ----- \n",
      " 0   checkin_acc        1000 non-null   object\n",
      " 1   duration           1000 non-null   int64 \n",
      " 2   credit_history     1000 non-null   object\n",
      " 3   amount             1000 non-null   int64 \n",
      " 4   savings_acc        1000 non-null   object\n",
      " 5   present_emp_since  1000 non-null   object\n",
      " 6   inst_rate          1000 non-null   int64 \n",
      " 7   personal_status    1000 non-null   object\n",
      " 8   residing_since     1000 non-null   int64 \n",
      " 9   age                1000 non-null   int64 \n",
      " 10  inst_plans         1000 non-null   object\n",
      " 11  num_credits        1000 non-null   int64 \n",
      " 12  job                1000 non-null   object\n",
      " 13  status             1000 non-null   int64 \n",
      "dtypes: int64(7), object(7)\n",
      "memory usage: 109.5+ KB\n"
     ]
    }
   ],
   "source": [
    "df.info()"
   ]
  },
  {
   "cell_type": "code",
   "execution_count": 5,
   "id": "6071fb78",
   "metadata": {},
   "outputs": [
    {
     "data": {
      "text/plain": [
       "Index(['checkin_acc', 'duration', 'credit_history', 'amount', 'savings_acc',\n",
       "       'present_emp_since', 'inst_rate', 'personal_status', 'residing_since',\n",
       "       'age', 'inst_plans', 'num_credits', 'job', 'status'],\n",
       "      dtype='object')"
      ]
     },
     "execution_count": 5,
     "metadata": {},
     "output_type": "execute_result"
    }
   ],
   "source": [
    "df.columns"
   ]
  },
  {
   "cell_type": "code",
   "execution_count": 6,
   "id": "351f114f",
   "metadata": {},
   "outputs": [
    {
     "data": {
      "text/plain": [
       "checkin_acc          0\n",
       "duration             0\n",
       "credit_history       0\n",
       "amount               0\n",
       "savings_acc          0\n",
       "present_emp_since    0\n",
       "inst_rate            0\n",
       "personal_status      0\n",
       "residing_since       0\n",
       "age                  0\n",
       "inst_plans           0\n",
       "num_credits          0\n",
       "job                  0\n",
       "status               0\n",
       "dtype: int64"
      ]
     },
     "execution_count": 6,
     "metadata": {},
     "output_type": "execute_result"
    }
   ],
   "source": [
    "df.isnull().sum()"
   ]
  },
  {
   "cell_type": "code",
   "execution_count": 7,
   "id": "fcbe138b",
   "metadata": {},
   "outputs": [
    {
     "data": {
      "text/plain": [
       "Index(['checkin_acc', 'credit_history', 'savings_acc', 'present_emp_since',\n",
       "       'personal_status', 'inst_plans', 'job'],\n",
       "      dtype='object')"
      ]
     },
     "execution_count": 7,
     "metadata": {},
     "output_type": "execute_result"
    }
   ],
   "source": [
    "cat_cols = df.select_dtypes(include = ['object']).copy()\n",
    "cat_cols.columns"
   ]
  },
  {
   "cell_type": "code",
   "execution_count": 8,
   "id": "f0838212",
   "metadata": {},
   "outputs": [],
   "source": [
    "from sklearn.preprocessing import LabelEncoder\n",
    "for i in cat_cols.columns:\n",
    "    df[i] = LabelEncoder().fit_transform(df[i])"
   ]
  },
  {
   "cell_type": "code",
   "execution_count": 9,
   "id": "b1018aa3",
   "metadata": {},
   "outputs": [
    {
     "data": {
      "text/html": [
       "<div>\n",
       "<style scoped>\n",
       "    .dataframe tbody tr th:only-of-type {\n",
       "        vertical-align: middle;\n",
       "    }\n",
       "\n",
       "    .dataframe tbody tr th {\n",
       "        vertical-align: top;\n",
       "    }\n",
       "\n",
       "    .dataframe thead th {\n",
       "        text-align: right;\n",
       "    }\n",
       "</style>\n",
       "<table border=\"1\" class=\"dataframe\">\n",
       "  <thead>\n",
       "    <tr style=\"text-align: right;\">\n",
       "      <th></th>\n",
       "      <th>checkin_acc</th>\n",
       "      <th>duration</th>\n",
       "      <th>credit_history</th>\n",
       "      <th>amount</th>\n",
       "      <th>savings_acc</th>\n",
       "      <th>present_emp_since</th>\n",
       "      <th>inst_rate</th>\n",
       "      <th>personal_status</th>\n",
       "      <th>residing_since</th>\n",
       "      <th>age</th>\n",
       "      <th>inst_plans</th>\n",
       "      <th>num_credits</th>\n",
       "      <th>job</th>\n",
       "      <th>status</th>\n",
       "    </tr>\n",
       "  </thead>\n",
       "  <tbody>\n",
       "    <tr>\n",
       "      <th>0</th>\n",
       "      <td>0</td>\n",
       "      <td>6</td>\n",
       "      <td>4</td>\n",
       "      <td>1169</td>\n",
       "      <td>4</td>\n",
       "      <td>4</td>\n",
       "      <td>4</td>\n",
       "      <td>2</td>\n",
       "      <td>4</td>\n",
       "      <td>67</td>\n",
       "      <td>2</td>\n",
       "      <td>2</td>\n",
       "      <td>2</td>\n",
       "      <td>0</td>\n",
       "    </tr>\n",
       "    <tr>\n",
       "      <th>1</th>\n",
       "      <td>1</td>\n",
       "      <td>48</td>\n",
       "      <td>2</td>\n",
       "      <td>5951</td>\n",
       "      <td>0</td>\n",
       "      <td>2</td>\n",
       "      <td>2</td>\n",
       "      <td>1</td>\n",
       "      <td>2</td>\n",
       "      <td>22</td>\n",
       "      <td>2</td>\n",
       "      <td>1</td>\n",
       "      <td>2</td>\n",
       "      <td>1</td>\n",
       "    </tr>\n",
       "    <tr>\n",
       "      <th>2</th>\n",
       "      <td>3</td>\n",
       "      <td>12</td>\n",
       "      <td>4</td>\n",
       "      <td>2096</td>\n",
       "      <td>0</td>\n",
       "      <td>3</td>\n",
       "      <td>2</td>\n",
       "      <td>2</td>\n",
       "      <td>3</td>\n",
       "      <td>49</td>\n",
       "      <td>2</td>\n",
       "      <td>1</td>\n",
       "      <td>1</td>\n",
       "      <td>0</td>\n",
       "    </tr>\n",
       "    <tr>\n",
       "      <th>3</th>\n",
       "      <td>0</td>\n",
       "      <td>42</td>\n",
       "      <td>2</td>\n",
       "      <td>7882</td>\n",
       "      <td>0</td>\n",
       "      <td>3</td>\n",
       "      <td>2</td>\n",
       "      <td>2</td>\n",
       "      <td>4</td>\n",
       "      <td>45</td>\n",
       "      <td>2</td>\n",
       "      <td>1</td>\n",
       "      <td>2</td>\n",
       "      <td>0</td>\n",
       "    </tr>\n",
       "    <tr>\n",
       "      <th>4</th>\n",
       "      <td>0</td>\n",
       "      <td>24</td>\n",
       "      <td>3</td>\n",
       "      <td>4870</td>\n",
       "      <td>0</td>\n",
       "      <td>2</td>\n",
       "      <td>3</td>\n",
       "      <td>2</td>\n",
       "      <td>4</td>\n",
       "      <td>53</td>\n",
       "      <td>2</td>\n",
       "      <td>2</td>\n",
       "      <td>2</td>\n",
       "      <td>1</td>\n",
       "    </tr>\n",
       "  </tbody>\n",
       "</table>\n",
       "</div>"
      ],
      "text/plain": [
       "   checkin_acc  duration  credit_history  amount  savings_acc  \\\n",
       "0            0         6               4    1169            4   \n",
       "1            1        48               2    5951            0   \n",
       "2            3        12               4    2096            0   \n",
       "3            0        42               2    7882            0   \n",
       "4            0        24               3    4870            0   \n",
       "\n",
       "   present_emp_since  inst_rate  personal_status  residing_since  age  \\\n",
       "0                  4          4                2               4   67   \n",
       "1                  2          2                1               2   22   \n",
       "2                  3          2                2               3   49   \n",
       "3                  3          2                2               4   45   \n",
       "4                  2          3                2               4   53   \n",
       "\n",
       "   inst_plans  num_credits  job  status  \n",
       "0           2            2    2       0  \n",
       "1           2            1    2       1  \n",
       "2           2            1    1       0  \n",
       "3           2            1    2       0  \n",
       "4           2            2    2       1  "
      ]
     },
     "execution_count": 9,
     "metadata": {},
     "output_type": "execute_result"
    }
   ],
   "source": [
    "df.head()"
   ]
  },
  {
   "cell_type": "code",
   "execution_count": 10,
   "id": "6e3f5ec1",
   "metadata": {},
   "outputs": [],
   "source": [
    "# Splitting predictor and response variables\n",
    "\n",
    "X = df.drop(columns = ['status'],axis = 1)\n",
    "y = df.status"
   ]
  },
  {
   "cell_type": "code",
   "execution_count": 11,
   "id": "78040300",
   "metadata": {},
   "outputs": [],
   "source": [
    "# splitting the dataset into train and test datasets\n",
    "from sklearn.model_selection import train_test_split\n",
    "X_train,X_test,y_train,y_test = train_test_split(X,y,test_size = 0.2,random_state = 40)"
   ]
  },
  {
   "cell_type": "code",
   "execution_count": 12,
   "id": "5c0e64cc",
   "metadata": {},
   "outputs": [
    {
     "data": {
      "text/plain": [
       "{'mean_fit_time': array([0.00616169, 0.00591149, 0.00318837, 0.0020762 , 0.0034421 ,\n",
       "        0.00318141, 0.00300441, 0.00203867, 0.00355206, 0.00391726,\n",
       "        0.00290041, 0.00142374, 0.0028069 , 0.00291629, 0.00271101,\n",
       "        0.00161738, 0.00441432, 0.00276899, 0.00261345, 0.00300407,\n",
       "        0.0037127 , 0.00292721, 0.00252194, 0.00242267, 0.00269485,\n",
       "        0.00151587, 0.00231738, 0.00346022, 0.00281034, 0.00197153,\n",
       "        0.00373507, 0.00228209, 0.00248632, 0.00222702, 0.00243559,\n",
       "        0.00147009, 0.00335693, 0.00393529, 0.00387383, 0.00463963,\n",
       "        0.00257668]),\n",
       " 'std_fit_time': array([7.54907882e-03, 7.25625818e-03, 6.37674332e-03, 1.78708140e-03,\n",
       "        4.46538902e-04, 2.84968051e-04, 3.18525673e-04, 1.85258044e-03,\n",
       "        1.28255900e-05, 9.49679584e-04, 2.06899604e-04, 1.74382061e-03,\n",
       "        2.26114350e-04, 6.34641417e-06, 4.76258962e-04, 1.40884051e-03,\n",
       "        4.11494620e-03, 3.00505070e-04, 2.18011002e-04, 8.46321359e-04,\n",
       "        4.64557350e-03, 8.09718056e-04, 2.14523733e-06, 2.02468819e-04,\n",
       "        2.12223822e-04, 1.92676047e-03, 3.21614959e-04, 1.24912186e-03,\n",
       "        5.70451208e-04, 7.63945831e-04, 4.84117993e-03, 2.54865085e-04,\n",
       "        2.06438970e-04, 2.49453539e-04, 3.81864897e-04, 1.47101803e-03,\n",
       "        8.33794583e-04, 1.42980139e-03, 2.30748376e-03, 2.55684004e-03,\n",
       "        4.55457161e-04]),\n",
       " 'mean_score_time': array([0.        , 0.00040197, 0.        , 0.00385957, 0.00118752,\n",
       "        0.00116878, 0.00121417, 0.00245347, 0.00130029, 0.00146503,\n",
       "        0.00124073, 0.0029079 , 0.00128589, 0.00116   , 0.00135202,\n",
       "        0.00070596, 0.00060482, 0.00111179, 0.00111365, 0.00172668,\n",
       "        0.00020165, 0.00121331, 0.00100684, 0.00131078, 0.00121431,\n",
       "        0.0023386 , 0.00117087, 0.0015358 , 0.00138488, 0.00082922,\n",
       "        0.00041456, 0.00114303, 0.0011416 , 0.00120945, 0.00132027,\n",
       "        0.00338912, 0.0015121 , 0.00182061, 0.00070987, 0.0019619 ,\n",
       "        0.001332  ]),\n",
       " 'std_score_time': array([0.00000000e+00, 8.03947449e-04, 0.00000000e+00, 5.95103690e-03,\n",
       "        7.76293237e-06, 3.39551585e-05, 1.68059131e-04, 4.34131179e-03,\n",
       "        2.33878657e-04, 4.63536377e-04, 1.35584435e-04, 2.92815492e-03,\n",
       "        2.23634218e-04, 1.41224323e-05, 2.10570306e-04, 6.05345308e-04,\n",
       "        4.93834036e-04, 2.01328046e-04, 2.02183285e-04, 5.25347262e-04,\n",
       "        4.03308868e-04, 2.51702594e-04, 4.26496120e-07, 2.47581246e-04,\n",
       "        2.49358726e-04, 4.38948372e-03, 9.46494734e-06, 5.80240753e-04,\n",
       "        3.01367142e-04, 4.14612253e-04, 5.07732959e-04, 2.05984954e-04,\n",
       "        2.08599357e-04, 2.46780915e-04, 2.49566911e-04, 4.84763139e-03,\n",
       "        3.24067893e-04, 4.79814234e-04, 8.83963440e-04, 6.18642902e-04,\n",
       "        2.48607521e-04]),\n",
       " 'param_min_samples_split': masked_array(data=[2, 12, 22, 32, 42, 52, 62, 72, 82, 92, 102, 112, 122,\n",
       "                    132, 142, 152, 162, 172, 182, 192, 202, 212, 222, 232,\n",
       "                    242, 252, 262, 272, 282, 292, 302, 312, 322, 332, 342,\n",
       "                    352, 362, 372, 382, 392, 402],\n",
       "              mask=[False, False, False, False, False, False, False, False,\n",
       "                    False, False, False, False, False, False, False, False,\n",
       "                    False, False, False, False, False, False, False, False,\n",
       "                    False, False, False, False, False, False, False, False,\n",
       "                    False, False, False, False, False, False, False, False,\n",
       "                    False],\n",
       "        fill_value='?',\n",
       "             dtype=object),\n",
       " 'params': [{'min_samples_split': 2},\n",
       "  {'min_samples_split': 12},\n",
       "  {'min_samples_split': 22},\n",
       "  {'min_samples_split': 32},\n",
       "  {'min_samples_split': 42},\n",
       "  {'min_samples_split': 52},\n",
       "  {'min_samples_split': 62},\n",
       "  {'min_samples_split': 72},\n",
       "  {'min_samples_split': 82},\n",
       "  {'min_samples_split': 92},\n",
       "  {'min_samples_split': 102},\n",
       "  {'min_samples_split': 112},\n",
       "  {'min_samples_split': 122},\n",
       "  {'min_samples_split': 132},\n",
       "  {'min_samples_split': 142},\n",
       "  {'min_samples_split': 152},\n",
       "  {'min_samples_split': 162},\n",
       "  {'min_samples_split': 172},\n",
       "  {'min_samples_split': 182},\n",
       "  {'min_samples_split': 192},\n",
       "  {'min_samples_split': 202},\n",
       "  {'min_samples_split': 212},\n",
       "  {'min_samples_split': 222},\n",
       "  {'min_samples_split': 232},\n",
       "  {'min_samples_split': 242},\n",
       "  {'min_samples_split': 252},\n",
       "  {'min_samples_split': 262},\n",
       "  {'min_samples_split': 272},\n",
       "  {'min_samples_split': 282},\n",
       "  {'min_samples_split': 292},\n",
       "  {'min_samples_split': 302},\n",
       "  {'min_samples_split': 312},\n",
       "  {'min_samples_split': 322},\n",
       "  {'min_samples_split': 332},\n",
       "  {'min_samples_split': 342},\n",
       "  {'min_samples_split': 352},\n",
       "  {'min_samples_split': 362},\n",
       "  {'min_samples_split': 372},\n",
       "  {'min_samples_split': 382},\n",
       "  {'min_samples_split': 392},\n",
       "  {'min_samples_split': 402}],\n",
       " 'split0_test_score': array([0.7  , 0.705, 0.74 , 0.755, 0.725, 0.715, 0.72 , 0.72 , 0.74 ,\n",
       "        0.74 , 0.74 , 0.755, 0.76 , 0.76 , 0.76 , 0.76 , 0.76 , 0.76 ,\n",
       "        0.76 , 0.75 , 0.75 , 0.75 , 0.75 , 0.75 , 0.74 , 0.74 , 0.74 ,\n",
       "        0.74 , 0.74 , 0.74 , 0.74 , 0.74 , 0.74 , 0.74 , 0.74 , 0.74 ,\n",
       "        0.74 , 0.74 , 0.74 , 0.74 , 0.74 ]),\n",
       " 'split1_test_score': array([0.695, 0.71 , 0.73 , 0.715, 0.705, 0.735, 0.72 , 0.715, 0.71 ,\n",
       "        0.71 , 0.71 , 0.71 , 0.71 , 0.73 , 0.73 , 0.73 , 0.735, 0.735,\n",
       "        0.735, 0.725, 0.725, 0.725, 0.725, 0.725, 0.725, 0.725, 0.72 ,\n",
       "        0.72 , 0.72 , 0.72 , 0.72 , 0.72 , 0.72 , 0.72 , 0.72 , 0.72 ,\n",
       "        0.72 , 0.72 , 0.72 , 0.72 , 0.72 ]),\n",
       " 'split2_test_score': array([0.66 , 0.68 , 0.695, 0.705, 0.75 , 0.755, 0.755, 0.74 , 0.75 ,\n",
       "        0.745, 0.745, 0.745, 0.745, 0.745, 0.745, 0.745, 0.745, 0.745,\n",
       "        0.745, 0.75 , 0.75 , 0.75 , 0.75 , 0.75 , 0.765, 0.765, 0.765,\n",
       "        0.765, 0.765, 0.765, 0.765, 0.765, 0.765, 0.715, 0.715, 0.715,\n",
       "        0.715, 0.715, 0.715, 0.715, 0.715]),\n",
       " 'split3_test_score': array([0.685, 0.72 , 0.705, 0.71 , 0.72 , 0.695, 0.695, 0.68 , 0.68 ,\n",
       "        0.68 , 0.68 , 0.68 , 0.71 , 0.71 , 0.71 , 0.71 , 0.71 , 0.7  ,\n",
       "        0.7  , 0.7  , 0.7  , 0.7  , 0.7  , 0.7  , 0.7  , 0.7  , 0.7  ,\n",
       "        0.7  , 0.7  , 0.7  , 0.71 , 0.71 , 0.71 , 0.71 , 0.71 , 0.71 ,\n",
       "        0.71 , 0.71 , 0.71 , 0.71 , 0.675]),\n",
       " 'split4_test_score': array([0.69 , 0.68 , 0.7  , 0.7  , 0.72 , 0.725, 0.725, 0.725, 0.725,\n",
       "        0.725, 0.735, 0.735, 0.735, 0.745, 0.745, 0.745, 0.7  , 0.7  ,\n",
       "        0.7  , 0.7  , 0.72 , 0.72 , 0.72 , 0.72 , 0.7  , 0.7  , 0.7  ,\n",
       "        0.7  , 0.7  , 0.705, 0.705, 0.705, 0.705, 0.705, 0.705, 0.705,\n",
       "        0.705, 0.705, 0.705, 0.705, 0.705]),\n",
       " 'mean_test_score': array([0.686, 0.699, 0.714, 0.717, 0.724, 0.725, 0.723, 0.716, 0.721,\n",
       "        0.72 , 0.722, 0.725, 0.732, 0.738, 0.738, 0.738, 0.73 , 0.728,\n",
       "        0.728, 0.725, 0.729, 0.729, 0.729, 0.729, 0.726, 0.726, 0.725,\n",
       "        0.725, 0.725, 0.726, 0.728, 0.728, 0.728, 0.718, 0.718, 0.718,\n",
       "        0.718, 0.718, 0.718, 0.718, 0.711]),\n",
       " 'std_test_score': array([0.01392839, 0.01624808, 0.01772005, 0.01964688, 0.01462874,\n",
       "        0.02      , 0.01913113, 0.01984943, 0.02457641, 0.02345208,\n",
       "        0.02420744, 0.02701851, 0.01964688, 0.01691153, 0.01691153,\n",
       "        0.01691153, 0.02213594, 0.02420744, 0.02420744, 0.02236068,\n",
       "        0.01907878, 0.01907878, 0.01907878, 0.01907878, 0.02477902,\n",
       "        0.02477902, 0.0248998 , 0.0248998 , 0.0248998 , 0.0239583 ,\n",
       "        0.02204541, 0.02204541, 0.02204541, 0.01208305, 0.01208305,\n",
       "        0.01208305, 0.01208305, 0.01208305, 0.01208305, 0.01208305,\n",
       "        0.02130728]),\n",
       " 'rank_test_score': array([41, 40, 38, 36, 24, 18, 25, 37, 27, 28, 26, 18,  4,  1,  1,  1,  5,\n",
       "        10, 10, 18,  6,  6,  6,  6, 15, 15, 18, 18, 18, 15, 12, 12, 12, 29,\n",
       "        29, 29, 29, 29, 29, 29, 39])}"
      ]
     },
     "execution_count": 12,
     "metadata": {},
     "output_type": "execute_result"
    }
   ],
   "source": [
    "from sklearn.model_selection import GridSearchCV\n",
    "from sklearn.tree import DecisionTreeClassifier\n",
    "# from sklearn.cross_validation import cross_val_score\n",
    "\n",
    "gs = GridSearchCV(DecisionTreeClassifier(random_state = 5, criterion = \"gini\",\n",
    "                    max_depth = 10),param_grid={\"min_samples_split\": \n",
    "                    range(2, 403, 10)})\n",
    "gs.fit(X,y.values.ravel())\n",
    "y_pred = gs.predict(X_test)\n",
    "results = gs.cv_results_\n",
    "results"
   ]
  },
  {
   "cell_type": "code",
   "execution_count": 13,
   "id": "7a835a42",
   "metadata": {},
   "outputs": [
    {
     "data": {
      "text/plain": [
       "0.78"
      ]
     },
     "execution_count": 13,
     "metadata": {},
     "output_type": "execute_result"
    }
   ],
   "source": [
    "accuracy_score(y_pred,y_test)"
   ]
  },
  {
   "cell_type": "code",
   "execution_count": 14,
   "id": "c190de85",
   "metadata": {},
   "outputs": [
    {
     "data": {
      "text/plain": [
       "DecisionTreeClassifier(max_depth=3, random_state=42)"
      ]
     },
     "execution_count": 14,
     "metadata": {},
     "output_type": "execute_result"
    }
   ],
   "source": [
    "tree_para = {'criterion':['gini','entropy'],'max_depth':[2,3,4,5,6,7,8,9,10]}\n",
    "grid_search_cv = GridSearchCV(DecisionTreeClassifier(random_state = 42), tree_para, cv = 5)\n",
    "grid_search_cv.fit(X_train,y_train)\n",
    "grid_search_cv.best_estimator_"
   ]
  },
  {
   "cell_type": "code",
   "execution_count": 15,
   "id": "09c74272",
   "metadata": {},
   "outputs": [],
   "source": [
    "y_pred1 = grid_search_cv.predict(X_test)"
   ]
  },
  {
   "cell_type": "code",
   "execution_count": 16,
   "id": "3f749bbb",
   "metadata": {},
   "outputs": [
    {
     "data": {
      "text/plain": [
       "0.76"
      ]
     },
     "execution_count": 16,
     "metadata": {},
     "output_type": "execute_result"
    }
   ],
   "source": [
    "accuracy_score(y_pred1,y_test)"
   ]
  },
  {
   "cell_type": "code",
   "execution_count": 17,
   "id": "bf58998a",
   "metadata": {},
   "outputs": [
    {
     "data": {
      "text/plain": [
       "{'criterion': 'gini', 'max_depth': 3}"
      ]
     },
     "execution_count": 17,
     "metadata": {},
     "output_type": "execute_result"
    }
   ],
   "source": [
    "def dtree_grid_search(X,y,nfolds):\n",
    "    #create a dictionary of all values we want to test\n",
    "    param_grid = { 'criterion':['gini','entropy'],'max_depth': np.arange(2, 10)}\n",
    "    # decision tree model\n",
    "    dtree_model=DecisionTreeClassifier()\n",
    "    #use gridsearch to test all values\n",
    "    dtree_gscv = GridSearchCV(dtree_model, param_grid, cv=nfolds)\n",
    "    #fit model to data\n",
    "    dtree_gscv.fit(X, y)\n",
    "    return dtree_gscv.best_params_\n",
    "\n",
    "dtree_grid_search(X,y,10)"
   ]
  },
  {
   "cell_type": "markdown",
   "id": "c2645c6b",
   "metadata": {},
   "source": [
    "### 2. Visualize the tree using graphviz software."
   ]
  },
  {
   "cell_type": "code",
   "execution_count": 18,
   "id": "69745f57",
   "metadata": {},
   "outputs": [
    {
     "data": {
      "text/plain": [
       "0.76"
      ]
     },
     "execution_count": 18,
     "metadata": {},
     "output_type": "execute_result"
    }
   ],
   "source": [
    "from sklearn.tree import DecisionTreeClassifier\n",
    "clf_model = DecisionTreeClassifier( random_state=42,max_depth=3, min_samples_leaf=5)   \n",
    "clf_model.fit(X_train,y_train)\n",
    "y_predict = clf_model.predict(X_test)\n",
    "\n",
    "from sklearn.metrics import accuracy_score,classification_report,confusion_matrix\n",
    "accuracy_score(y_test,y_predict)"
   ]
  },
  {
   "cell_type": "code",
   "execution_count": 19,
   "id": "5f09e378",
   "metadata": {},
   "outputs": [],
   "source": [
    "from sklearn.tree import export_graphviz\n",
    "import graphviz"
   ]
  },
  {
   "cell_type": "code",
   "execution_count": 20,
   "id": "8c1a6a63",
   "metadata": {},
   "outputs": [],
   "source": [
    "dot_data= export_graphviz(clf_model, out_file=None, \n",
    "                    feature_names=X_test.columns,  \n",
    "                      class_names=['0', '1'],  \n",
    "                      filled=True, rounded=True,  \n",
    "                      special_characters=True) "
   ]
  },
  {
   "cell_type": "code",
   "execution_count": 21,
   "id": "fea2aa00",
   "metadata": {},
   "outputs": [],
   "source": [
    "# graph1=graphviz.Source(dot_data)\n",
    "# graph1"
   ]
  },
  {
   "cell_type": "markdown",
   "id": "c0ea60e1",
   "metadata": {},
   "source": [
    "### 3. Display the text representation of the rules learnt."
   ]
  },
  {
   "cell_type": "markdown",
   "id": "cb7abf4d",
   "metadata": {},
   "source": [
    "## EXER 2"
   ]
  },
  {
   "cell_type": "markdown",
   "id": "f61302f9",
   "metadata": {},
   "source": [
    "#### Download fuel consumption dataset \"FuelConsumption.csv\", which contains model-specific fuel consumption ratings and estimated carbon dioxide emissions. "
   ]
  },
  {
   "cell_type": "code",
   "execution_count": 22,
   "id": "2c48c814",
   "metadata": {},
   "outputs": [
    {
     "data": {
      "text/html": [
       "<div>\n",
       "<style scoped>\n",
       "    .dataframe tbody tr th:only-of-type {\n",
       "        vertical-align: middle;\n",
       "    }\n",
       "\n",
       "    .dataframe tbody tr th {\n",
       "        vertical-align: top;\n",
       "    }\n",
       "\n",
       "    .dataframe thead th {\n",
       "        text-align: right;\n",
       "    }\n",
       "</style>\n",
       "<table border=\"1\" class=\"dataframe\">\n",
       "  <thead>\n",
       "    <tr style=\"text-align: right;\">\n",
       "      <th></th>\n",
       "      <th>MODELYEAR</th>\n",
       "      <th>MAKE</th>\n",
       "      <th>MODEL</th>\n",
       "      <th>VEHICLECLASS</th>\n",
       "      <th>ENGINESIZE</th>\n",
       "      <th>CYLINDERS</th>\n",
       "      <th>TRANSMISSION</th>\n",
       "      <th>FUELTYPE</th>\n",
       "      <th>FUELCONSUMPTION_CITY</th>\n",
       "      <th>FUELCONSUMPTION_HWY</th>\n",
       "      <th>FUELCONSUMPTION_COMB</th>\n",
       "      <th>FUELCONSUMPTION_COMB_MPG</th>\n",
       "      <th>CO2EMISSIONS</th>\n",
       "    </tr>\n",
       "  </thead>\n",
       "  <tbody>\n",
       "    <tr>\n",
       "      <th>0</th>\n",
       "      <td>2014</td>\n",
       "      <td>ACURA</td>\n",
       "      <td>ILX</td>\n",
       "      <td>COMPACT</td>\n",
       "      <td>2.0</td>\n",
       "      <td>4</td>\n",
       "      <td>AS5</td>\n",
       "      <td>Z</td>\n",
       "      <td>9.9</td>\n",
       "      <td>6.7</td>\n",
       "      <td>8.5</td>\n",
       "      <td>33</td>\n",
       "      <td>196</td>\n",
       "    </tr>\n",
       "    <tr>\n",
       "      <th>1</th>\n",
       "      <td>2014</td>\n",
       "      <td>ACURA</td>\n",
       "      <td>ILX</td>\n",
       "      <td>COMPACT</td>\n",
       "      <td>2.4</td>\n",
       "      <td>4</td>\n",
       "      <td>M6</td>\n",
       "      <td>Z</td>\n",
       "      <td>11.2</td>\n",
       "      <td>7.7</td>\n",
       "      <td>9.6</td>\n",
       "      <td>29</td>\n",
       "      <td>221</td>\n",
       "    </tr>\n",
       "    <tr>\n",
       "      <th>2</th>\n",
       "      <td>2014</td>\n",
       "      <td>ACURA</td>\n",
       "      <td>ILX HYBRID</td>\n",
       "      <td>COMPACT</td>\n",
       "      <td>1.5</td>\n",
       "      <td>4</td>\n",
       "      <td>AV7</td>\n",
       "      <td>Z</td>\n",
       "      <td>6.0</td>\n",
       "      <td>5.8</td>\n",
       "      <td>5.9</td>\n",
       "      <td>48</td>\n",
       "      <td>136</td>\n",
       "    </tr>\n",
       "    <tr>\n",
       "      <th>3</th>\n",
       "      <td>2014</td>\n",
       "      <td>ACURA</td>\n",
       "      <td>MDX 4WD</td>\n",
       "      <td>SUV - SMALL</td>\n",
       "      <td>3.5</td>\n",
       "      <td>6</td>\n",
       "      <td>AS6</td>\n",
       "      <td>Z</td>\n",
       "      <td>12.7</td>\n",
       "      <td>9.1</td>\n",
       "      <td>11.1</td>\n",
       "      <td>25</td>\n",
       "      <td>255</td>\n",
       "    </tr>\n",
       "    <tr>\n",
       "      <th>4</th>\n",
       "      <td>2014</td>\n",
       "      <td>ACURA</td>\n",
       "      <td>RDX AWD</td>\n",
       "      <td>SUV - SMALL</td>\n",
       "      <td>3.5</td>\n",
       "      <td>6</td>\n",
       "      <td>AS6</td>\n",
       "      <td>Z</td>\n",
       "      <td>12.1</td>\n",
       "      <td>8.7</td>\n",
       "      <td>10.6</td>\n",
       "      <td>27</td>\n",
       "      <td>244</td>\n",
       "    </tr>\n",
       "  </tbody>\n",
       "</table>\n",
       "</div>"
      ],
      "text/plain": [
       "   MODELYEAR   MAKE       MODEL VEHICLECLASS  ENGINESIZE  CYLINDERS  \\\n",
       "0       2014  ACURA         ILX      COMPACT         2.0          4   \n",
       "1       2014  ACURA         ILX      COMPACT         2.4          4   \n",
       "2       2014  ACURA  ILX HYBRID      COMPACT         1.5          4   \n",
       "3       2014  ACURA     MDX 4WD  SUV - SMALL         3.5          6   \n",
       "4       2014  ACURA     RDX AWD  SUV - SMALL         3.5          6   \n",
       "\n",
       "  TRANSMISSION FUELTYPE  FUELCONSUMPTION_CITY  FUELCONSUMPTION_HWY  \\\n",
       "0          AS5        Z                   9.9                  6.7   \n",
       "1           M6        Z                  11.2                  7.7   \n",
       "2          AV7        Z                   6.0                  5.8   \n",
       "3          AS6        Z                  12.7                  9.1   \n",
       "4          AS6        Z                  12.1                  8.7   \n",
       "\n",
       "   FUELCONSUMPTION_COMB  FUELCONSUMPTION_COMB_MPG  CO2EMISSIONS  \n",
       "0                   8.5                        33           196  \n",
       "1                   9.6                        29           221  \n",
       "2                   5.9                        48           136  \n",
       "3                  11.1                        25           255  \n",
       "4                  10.6                        27           244  "
      ]
     },
     "execution_count": 22,
     "metadata": {},
     "output_type": "execute_result"
    }
   ],
   "source": [
    "# Importing the dataset\n",
    "df1 = pd.read_csv(\"FuelConsumption.csv\")\n",
    "df1.head()"
   ]
  },
  {
   "cell_type": "code",
   "execution_count": 23,
   "id": "c60398d8",
   "metadata": {},
   "outputs": [
    {
     "data": {
      "text/plain": [
       "(1067, 13)"
      ]
     },
     "execution_count": 23,
     "metadata": {},
     "output_type": "execute_result"
    }
   ],
   "source": [
    "df1.shape"
   ]
  },
  {
   "cell_type": "code",
   "execution_count": 24,
   "id": "2b5cbb75",
   "metadata": {},
   "outputs": [
    {
     "name": "stdout",
     "output_type": "stream",
     "text": [
      "<class 'pandas.core.frame.DataFrame'>\n",
      "RangeIndex: 1067 entries, 0 to 1066\n",
      "Data columns (total 13 columns):\n",
      " #   Column                    Non-Null Count  Dtype  \n",
      "---  ------                    --------------  -----  \n",
      " 0   MODELYEAR                 1067 non-null   int64  \n",
      " 1   MAKE                      1067 non-null   object \n",
      " 2   MODEL                     1067 non-null   object \n",
      " 3   VEHICLECLASS              1067 non-null   object \n",
      " 4   ENGINESIZE                1067 non-null   float64\n",
      " 5   CYLINDERS                 1067 non-null   int64  \n",
      " 6   TRANSMISSION              1067 non-null   object \n",
      " 7   FUELTYPE                  1067 non-null   object \n",
      " 8   FUELCONSUMPTION_CITY      1067 non-null   float64\n",
      " 9   FUELCONSUMPTION_HWY       1067 non-null   float64\n",
      " 10  FUELCONSUMPTION_COMB      1067 non-null   float64\n",
      " 11  FUELCONSUMPTION_COMB_MPG  1067 non-null   int64  \n",
      " 12  CO2EMISSIONS              1067 non-null   int64  \n",
      "dtypes: float64(4), int64(4), object(5)\n",
      "memory usage: 108.5+ KB\n"
     ]
    }
   ],
   "source": [
    "df1.info()"
   ]
  },
  {
   "cell_type": "code",
   "execution_count": 25,
   "id": "9159fda9",
   "metadata": {},
   "outputs": [
    {
     "data": {
      "text/plain": [
       "Index(['MODELYEAR', 'MAKE', 'MODEL', 'VEHICLECLASS', 'ENGINESIZE', 'CYLINDERS',\n",
       "       'TRANSMISSION', 'FUELTYPE', 'FUELCONSUMPTION_CITY',\n",
       "       'FUELCONSUMPTION_HWY', 'FUELCONSUMPTION_COMB',\n",
       "       'FUELCONSUMPTION_COMB_MPG', 'CO2EMISSIONS'],\n",
       "      dtype='object')"
      ]
     },
     "execution_count": 25,
     "metadata": {},
     "output_type": "execute_result"
    }
   ],
   "source": [
    "df1.columns"
   ]
  },
  {
   "cell_type": "code",
   "execution_count": 26,
   "id": "fde02509",
   "metadata": {},
   "outputs": [
    {
     "data": {
      "text/plain": [
       "MODELYEAR                   0\n",
       "MAKE                        0\n",
       "MODEL                       0\n",
       "VEHICLECLASS                0\n",
       "ENGINESIZE                  0\n",
       "CYLINDERS                   0\n",
       "TRANSMISSION                0\n",
       "FUELTYPE                    0\n",
       "FUELCONSUMPTION_CITY        0\n",
       "FUELCONSUMPTION_HWY         0\n",
       "FUELCONSUMPTION_COMB        0\n",
       "FUELCONSUMPTION_COMB_MPG    0\n",
       "CO2EMISSIONS                0\n",
       "dtype: int64"
      ]
     },
     "execution_count": 26,
     "metadata": {},
     "output_type": "execute_result"
    }
   ],
   "source": [
    "df1.isnull().sum()"
   ]
  },
  {
   "cell_type": "markdown",
   "id": "36046367",
   "metadata": {},
   "source": [
    "* Select the features 'ENGINESIZE', 'CYLINDERS', \n",
    "'FUELCONSUMPTION_COMB', 'CO2EMISSIONS' to use for building the \n",
    "model. Plot Emission values with respect to Engine size."
   ]
  },
  {
   "cell_type": "code",
   "execution_count": 27,
   "id": "ee769862",
   "metadata": {},
   "outputs": [
    {
     "data": {
      "text/html": [
       "<div>\n",
       "<style scoped>\n",
       "    .dataframe tbody tr th:only-of-type {\n",
       "        vertical-align: middle;\n",
       "    }\n",
       "\n",
       "    .dataframe tbody tr th {\n",
       "        vertical-align: top;\n",
       "    }\n",
       "\n",
       "    .dataframe thead th {\n",
       "        text-align: right;\n",
       "    }\n",
       "</style>\n",
       "<table border=\"1\" class=\"dataframe\">\n",
       "  <thead>\n",
       "    <tr style=\"text-align: right;\">\n",
       "      <th></th>\n",
       "      <th>ENGINESIZE</th>\n",
       "      <th>CYLINDERS</th>\n",
       "      <th>FUELCONSUMPTION_COMB</th>\n",
       "      <th>CO2EMISSIONS</th>\n",
       "    </tr>\n",
       "  </thead>\n",
       "  <tbody>\n",
       "    <tr>\n",
       "      <th>0</th>\n",
       "      <td>2.0</td>\n",
       "      <td>4</td>\n",
       "      <td>8.5</td>\n",
       "      <td>196</td>\n",
       "    </tr>\n",
       "    <tr>\n",
       "      <th>1</th>\n",
       "      <td>2.4</td>\n",
       "      <td>4</td>\n",
       "      <td>9.6</td>\n",
       "      <td>221</td>\n",
       "    </tr>\n",
       "    <tr>\n",
       "      <th>2</th>\n",
       "      <td>1.5</td>\n",
       "      <td>4</td>\n",
       "      <td>5.9</td>\n",
       "      <td>136</td>\n",
       "    </tr>\n",
       "    <tr>\n",
       "      <th>3</th>\n",
       "      <td>3.5</td>\n",
       "      <td>6</td>\n",
       "      <td>11.1</td>\n",
       "      <td>255</td>\n",
       "    </tr>\n",
       "    <tr>\n",
       "      <th>4</th>\n",
       "      <td>3.5</td>\n",
       "      <td>6</td>\n",
       "      <td>10.6</td>\n",
       "      <td>244</td>\n",
       "    </tr>\n",
       "  </tbody>\n",
       "</table>\n",
       "</div>"
      ],
      "text/plain": [
       "   ENGINESIZE  CYLINDERS  FUELCONSUMPTION_COMB  CO2EMISSIONS\n",
       "0         2.0          4                   8.5           196\n",
       "1         2.4          4                   9.6           221\n",
       "2         1.5          4                   5.9           136\n",
       "3         3.5          6                  11.1           255\n",
       "4         3.5          6                  10.6           244"
      ]
     },
     "execution_count": 27,
     "metadata": {},
     "output_type": "execute_result"
    }
   ],
   "source": [
    "features = df1[[ 'ENGINESIZE', 'CYLINDERS', 'FUELCONSUMPTION_COMB', 'CO2EMISSIONS']]\n",
    "features.head()"
   ]
  },
  {
   "cell_type": "code",
   "execution_count": 28,
   "id": "a34e0965",
   "metadata": {},
   "outputs": [
    {
     "data": {
      "image/png": "[encoded data removed]",
      "text/plain": [
       "<Figure size 432x288 with 1 Axes>"
      ]
     },
     "metadata": {
      "needs_background": "light"
     },
     "output_type": "display_data"
    }
   ],
   "source": [
    "plt.scatter(features.ENGINESIZE,features.CO2EMISSIONS)\n",
    "plt.xlabel(\"Engine Size\")\n",
    "plt.ylabel(\"Co2 Emissions\")\n",
    "plt.show()"
   ]
  },
  {
   "cell_type": "markdown",
   "id": "8da975b9",
   "metadata": {},
   "source": [
    "* split the data into training and test sets (70:30) to create a model using training \n",
    "set, evaluate the model using test set, and use model to predict unknown value."
   ]
  },
  {
   "cell_type": "code",
   "execution_count": 29,
   "id": "88edf1b9",
   "metadata": {},
   "outputs": [],
   "source": [
    "# Splitting the predictor and response variables\n",
    "X = features.drop('CO2EMISSIONS',axis = 1)\n",
    "y = features.CO2EMISSIONS"
   ]
  },
  {
   "cell_type": "code",
   "execution_count": 30,
   "id": "e36912f1",
   "metadata": {},
   "outputs": [
    {
     "data": {
      "text/html": [
       "<div>\n",
       "<style scoped>\n",
       "    .dataframe tbody tr th:only-of-type {\n",
       "        vertical-align: middle;\n",
       "    }\n",
       "\n",
       "    .dataframe tbody tr th {\n",
       "        vertical-align: top;\n",
       "    }\n",
       "\n",
       "    .dataframe thead th {\n",
       "        text-align: right;\n",
       "    }\n",
       "</style>\n",
       "<table border=\"1\" class=\"dataframe\">\n",
       "  <thead>\n",
       "    <tr style=\"text-align: right;\">\n",
       "      <th></th>\n",
       "      <th>ENGINESIZE</th>\n",
       "      <th>CYLINDERS</th>\n",
       "      <th>FUELCONSUMPTION_COMB</th>\n",
       "    </tr>\n",
       "  </thead>\n",
       "  <tbody>\n",
       "    <tr>\n",
       "      <th>0</th>\n",
       "      <td>2.0</td>\n",
       "      <td>4</td>\n",
       "      <td>8.5</td>\n",
       "    </tr>\n",
       "    <tr>\n",
       "      <th>1</th>\n",
       "      <td>2.4</td>\n",
       "      <td>4</td>\n",
       "      <td>9.6</td>\n",
       "    </tr>\n",
       "    <tr>\n",
       "      <th>2</th>\n",
       "      <td>1.5</td>\n",
       "      <td>4</td>\n",
       "      <td>5.9</td>\n",
       "    </tr>\n",
       "    <tr>\n",
       "      <th>3</th>\n",
       "      <td>3.5</td>\n",
       "      <td>6</td>\n",
       "      <td>11.1</td>\n",
       "    </tr>\n",
       "    <tr>\n",
       "      <th>4</th>\n",
       "      <td>3.5</td>\n",
       "      <td>6</td>\n",
       "      <td>10.6</td>\n",
       "    </tr>\n",
       "  </tbody>\n",
       "</table>\n",
       "</div>"
      ],
      "text/plain": [
       "   ENGINESIZE  CYLINDERS  FUELCONSUMPTION_COMB\n",
       "0         2.0          4                   8.5\n",
       "1         2.4          4                   9.6\n",
       "2         1.5          4                   5.9\n",
       "3         3.5          6                  11.1\n",
       "4         3.5          6                  10.6"
      ]
     },
     "execution_count": 30,
     "metadata": {},
     "output_type": "execute_result"
    }
   ],
   "source": [
    "X.head()"
   ]
  },
  {
   "cell_type": "code",
   "execution_count": 31,
   "id": "4b18fea3",
   "metadata": {},
   "outputs": [
    {
     "data": {
      "text/plain": [
       "0    196\n",
       "1    221\n",
       "2    136\n",
       "3    255\n",
       "4    244\n",
       "Name: CO2EMISSIONS, dtype: int64"
      ]
     },
     "execution_count": 31,
     "metadata": {},
     "output_type": "execute_result"
    }
   ],
   "source": [
    "y.head()"
   ]
  },
  {
   "cell_type": "code",
   "execution_count": 32,
   "id": "cb06e520",
   "metadata": {},
   "outputs": [],
   "source": [
    "# Train test split\n",
    "X_train,X_test,y_train,y_test = train_test_split(X,y,test_size=0.3,random_state=2)"
   ]
  },
  {
   "cell_type": "markdown",
   "id": "18065600",
   "metadata": {},
   "source": [
    "* Try to use a polynomial regression with the dataset of degree – 3, 4 & 5. Verify the accuracy by calculating Mean absolute error, Residual sum of squares, R2-score and comment on which model is the best."
   ]
  },
  {
   "cell_type": "code",
   "execution_count": 33,
   "id": "0cc5dc12",
   "metadata": {},
   "outputs": [],
   "source": [
    "from sklearn.linear_model import LinearRegression\n",
    "from sklearn.preprocessing import PolynomialFeatures,StandardScaler\n",
    "from sklearn.metrics import r2_score,mean_absolute_error, mean_squared_error\n",
    "from sklearn.pipeline import Pipeline"
   ]
  },
  {
   "cell_type": "code",
   "execution_count": 39,
   "id": "c9863e0e",
   "metadata": {},
   "outputs": [
    {
     "data": {
      "text/plain": [
       "LinearRegression()"
      ]
     },
     "execution_count": 39,
     "metadata": {},
     "output_type": "execute_result"
    }
   ],
   "source": [
    "poly_reg = PolynomialFeatures(degree = 2, include_bias =True)\n",
    "X_train_poly = poly_reg.fit_transform(X_train)\n",
    "X_test_poly = poly_reg.fit_transform(X_test)\n",
    "\n",
    "lin_reg = LinearRegression()\n",
    "lin_reg.fit(X_train_poly,y_train)"
   ]
  },
  {
   "cell_type": "code",
   "execution_count": 40,
   "id": "59240416",
   "metadata": {},
   "outputs": [],
   "source": [
    "# Predicting the test set\n",
    "y_pred = lin_reg.predict(X_test_poly)"
   ]
  },
  {
   "cell_type": "code",
   "execution_count": 45,
   "id": "b83181f6",
   "metadata": {},
   "outputs": [
    {
     "data": {
      "text/plain": [
       "10.896885546931621"
      ]
     },
     "execution_count": 45,
     "metadata": {},
     "output_type": "execute_result"
    }
   ],
   "source": [
    "mae = mean_absolute_error(y_test,y_pred)\n",
    "mae"
   ]
  },
  {
   "cell_type": "code",
   "execution_count": 46,
   "id": "9e641dfc",
   "metadata": {},
   "outputs": [
    {
     "data": {
      "text/plain": [
       "352.42880358104026"
      ]
     },
     "execution_count": 46,
     "metadata": {},
     "output_type": "execute_result"
    }
   ],
   "source": [
    "mse = mean_squared_error(y_test,y_pred)\n",
    "mse"
   ]
  },
  {
   "cell_type": "code",
   "execution_count": 47,
   "id": "0fac1f2d",
   "metadata": {},
   "outputs": [
    {
     "data": {
      "text/plain": [
       "18.77308721497453"
      ]
     },
     "execution_count": 47,
     "metadata": {},
     "output_type": "execute_result"
    }
   ],
   "source": [
    "rmse = np.sqrt(mse)\n",
    "rmse"
   ]
  },
  {
   "cell_type": "code",
   "execution_count": 48,
   "id": "e72a99e2",
   "metadata": {},
   "outputs": [
    {
     "data": {
      "text/plain": [
       "0.9165127237222419"
      ]
     },
     "execution_count": 48,
     "metadata": {},
     "output_type": "execute_result"
    }
   ],
   "source": [
    "r2 = r2_score(y_test, y_pred)\n",
    "r2"
   ]
  },
  {
   "cell_type": "code",
   "execution_count": 43,
   "id": "3f8e73bd",
   "metadata": {},
   "outputs": [],
   "source": [
    "model_results = pd.DataFrame([['Polynomial Regression', mae, mse, rmse, r2]],\n",
    "               columns = ['Model', 'MAE', 'MSE', 'RMSE', 'R2 Score'])\n",
    "\n",
    "# results = results.append(model_results, ignore_index = True)"
   ]
  },
  {
   "cell_type": "code",
   "execution_count": null,
   "id": "40af61d8",
   "metadata": {},
   "outputs": [],
   "source": [
    "model_results"
   ]
  },
  {
   "cell_type": "code",
   "execution_count": null,
   "id": "becc3285",
   "metadata": {},
   "outputs": [],
   "source": [
    "deg = 0\n",
    "model_results = pd.DataFrame([['Polynomial Regression',deg, mae, mse, rmse, r2]],\n",
    "               columns = ['Model','Degree', 'MAE', 'MSE', 'RMSE', 'R2 Score'])\n",
    "\n",
    "def poly_regression(deg):\n",
    "    poly_reg = PolynomialFeatures(degree = deg, include_bias =True)\n",
    "    X_train_poly = poly_reg.fit_transform(X_train)\n",
    "    X_test_poly = poly_reg.fit_transform(X_test)\n",
    "\n",
    "    lin_poly_reg = LinearRegression()\n",
    "    lin_poly_reg.fit(X_train_poly,y_train)\n",
    "    \n",
    "    # Predicting the test set\n",
    "    y_pred = lin_poly_reg.predict(X_test_poly)\n",
    "    \n",
    "    mae = mean_absolute_error(y_test,y_pred)\n",
    "    mse = mean_squared_error(y_test,y_pred)\n",
    "    rmse = np.sqrt(mse)\n",
    "    r2 = r2_score(y_test, y_pred)\n",
    "    \n",
    "    results = model_results.append(model_results, ignore_index = True)"
   ]
  },
  {
   "cell_type": "code",
   "execution_count": null,
   "id": "fcfbbc6d",
   "metadata": {},
   "outputs": [],
   "source": [
    "poly_regression(2)"
   ]
  },
  {
   "cell_type": "code",
   "execution_count": null,
   "id": "301eaa3a",
   "metadata": {},
   "outputs": [],
   "source": [
    "poly_regression(3)"
   ]
  },
  {
   "cell_type": "code",
   "execution_count": null,
   "id": "dcacf564",
   "metadata": {},
   "outputs": [],
   "source": [
    "poly_regression(4)"
   ]
  },
  {
   "cell_type": "code",
   "execution_count": null,
   "id": "2b6b2414",
   "metadata": {},
   "outputs": [],
   "source": [
    "poly_regression(5)"
   ]
  },
  {
   "cell_type": "code",
   "execution_count": null,
   "id": "fdfda38c",
   "metadata": {},
   "outputs": [],
   "source": [
    "model_results"
   ]
  },
  {
   "cell_type": "code",
   "execution_count": null,
   "id": "fd8469d1",
   "metadata": {},
   "outputs": [],
   "source": []
  },
  {
   "cell_type": "code",
   "execution_count": null,
   "id": "20dab0d3",
   "metadata": {},
   "outputs": [],
   "source": []
  },
  {
   "cell_type": "code",
   "execution_count": null,
   "id": "f216fd8b",
   "metadata": {},
   "outputs": [],
   "source": []
  }
 ],
 "metadata": {
  "kernelspec": {
   "display_name": "Python 3",
   "language": "python",
   "name": "python3"
  },
  "language_info": {
   "codemirror_mode": {
    "name": "ipython",
    "version": 3
   },
   "file_extension": ".py",
   "mimetype": "text/x-python",
   "name": "python",
   "nbconvert_exporter": "python",
   "pygments_lexer": "ipython3",
   "version": "3.7.9"
  }
 },
 "nbformat": 4,
 "nbformat_minor": 5
}
