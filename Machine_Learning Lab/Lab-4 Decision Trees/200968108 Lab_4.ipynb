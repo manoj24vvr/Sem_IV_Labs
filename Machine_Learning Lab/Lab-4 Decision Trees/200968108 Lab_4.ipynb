{
 "cells": [
  {
   "cell_type": "markdown",
   "id": "d486e1d0",
   "metadata": {},
   "source": [
    "#### SECTION A BATCH 1\n",
    "#### WEEK 4 DATE: 7th APRIL 2022\n",
    "### EXER 1\n"
   ]
  },
  {
   "cell_type": "code",
   "execution_count": 1,
   "id": "3bea4f83",
   "metadata": {},
   "outputs": [],
   "source": [
    "# Importing required libraries\n",
    "import numpy as np\n",
    "import pandas as pd\n",
    "import matplotlib.pyplot as plt\n",
    "import seaborn as sns\n",
    "from sklearn.metrics import r2_score,accuracy_score,confusion_matrix,classification_report"
   ]
  },
  {
   "cell_type": "code",
   "execution_count": 2,
   "id": "725603d6",
   "metadata": {},
   "outputs": [],
   "source": [
    "# to ignore warnings\n",
    "import warnings\n",
    "warnings.filterwarnings('ignore')"
   ]
  },
  {
   "cell_type": "markdown",
   "id": "01f286f9",
   "metadata": {},
   "source": [
    "### 1. Use the German credit rating dataset “German Credit Data.csv” , Decision treeclassifier to predict good or bad credit. Use “sklearn.model_selection” and GridSearchCV to search the hyperparameter values and report the most optimal one. Configure the grid search to search for optimal parameters:\n",
    "* Splitting criteria: gini or entropy.\n",
    "* Maximum depth of decision tree ranging from 2 to 10.\n",
    "* The searching of optimal parameter will be validated using 10-fold cross validation and the most optimal parameter will be chosen based on ROC AUC score"
   ]
  },
  {
   "cell_type": "code",
   "execution_count": 3,
   "id": "38a2f4a2",
   "metadata": {},
   "outputs": [
    {
     "data": {
      "text/html": [
       "<div>\n",
       "<style scoped>\n",
       "    .dataframe tbody tr th:only-of-type {\n",
       "        vertical-align: middle;\n",
       "    }\n",
       "\n",
       "    .dataframe tbody tr th {\n",
       "        vertical-align: top;\n",
       "    }\n",
       "\n",
       "    .dataframe thead th {\n",
       "        text-align: right;\n",
       "    }\n",
       "</style>\n",
       "<table border=\"1\" class=\"dataframe\">\n",
       "  <thead>\n",
       "    <tr style=\"text-align: right;\">\n",
       "      <th></th>\n",
       "      <th>checkin_acc</th>\n",
       "      <th>duration</th>\n",
       "      <th>credit_history</th>\n",
       "      <th>amount</th>\n",
       "      <th>savings_acc</th>\n",
       "      <th>present_emp_since</th>\n",
       "      <th>inst_rate</th>\n",
       "      <th>personal_status</th>\n",
       "      <th>residing_since</th>\n",
       "      <th>age</th>\n",
       "      <th>inst_plans</th>\n",
       "      <th>num_credits</th>\n",
       "      <th>job</th>\n",
       "      <th>status</th>\n",
       "    </tr>\n",
       "  </thead>\n",
       "  <tbody>\n",
       "    <tr>\n",
       "      <th>0</th>\n",
       "      <td>A11</td>\n",
       "      <td>6</td>\n",
       "      <td>A34</td>\n",
       "      <td>1169</td>\n",
       "      <td>A65</td>\n",
       "      <td>A75</td>\n",
       "      <td>4</td>\n",
       "      <td>A93</td>\n",
       "      <td>4</td>\n",
       "      <td>67</td>\n",
       "      <td>A143</td>\n",
       "      <td>2</td>\n",
       "      <td>A173</td>\n",
       "      <td>0</td>\n",
       "    </tr>\n",
       "    <tr>\n",
       "      <th>1</th>\n",
       "      <td>A12</td>\n",
       "      <td>48</td>\n",
       "      <td>A32</td>\n",
       "      <td>5951</td>\n",
       "      <td>A61</td>\n",
       "      <td>A73</td>\n",
       "      <td>2</td>\n",
       "      <td>A92</td>\n",
       "      <td>2</td>\n",
       "      <td>22</td>\n",
       "      <td>A143</td>\n",
       "      <td>1</td>\n",
       "      <td>A173</td>\n",
       "      <td>1</td>\n",
       "    </tr>\n",
       "    <tr>\n",
       "      <th>2</th>\n",
       "      <td>A14</td>\n",
       "      <td>12</td>\n",
       "      <td>A34</td>\n",
       "      <td>2096</td>\n",
       "      <td>A61</td>\n",
       "      <td>A74</td>\n",
       "      <td>2</td>\n",
       "      <td>A93</td>\n",
       "      <td>3</td>\n",
       "      <td>49</td>\n",
       "      <td>A143</td>\n",
       "      <td>1</td>\n",
       "      <td>A172</td>\n",
       "      <td>0</td>\n",
       "    </tr>\n",
       "    <tr>\n",
       "      <th>3</th>\n",
       "      <td>A11</td>\n",
       "      <td>42</td>\n",
       "      <td>A32</td>\n",
       "      <td>7882</td>\n",
       "      <td>A61</td>\n",
       "      <td>A74</td>\n",
       "      <td>2</td>\n",
       "      <td>A93</td>\n",
       "      <td>4</td>\n",
       "      <td>45</td>\n",
       "      <td>A143</td>\n",
       "      <td>1</td>\n",
       "      <td>A173</td>\n",
       "      <td>0</td>\n",
       "    </tr>\n",
       "    <tr>\n",
       "      <th>4</th>\n",
       "      <td>A11</td>\n",
       "      <td>24</td>\n",
       "      <td>A33</td>\n",
       "      <td>4870</td>\n",
       "      <td>A61</td>\n",
       "      <td>A73</td>\n",
       "      <td>3</td>\n",
       "      <td>A93</td>\n",
       "      <td>4</td>\n",
       "      <td>53</td>\n",
       "      <td>A143</td>\n",
       "      <td>2</td>\n",
       "      <td>A173</td>\n",
       "      <td>1</td>\n",
       "    </tr>\n",
       "  </tbody>\n",
       "</table>\n",
       "</div>"
      ],
      "text/plain": [
       "  checkin_acc  duration credit_history  amount savings_acc present_emp_since  \\\n",
       "0         A11         6            A34    1169         A65               A75   \n",
       "1         A12        48            A32    5951         A61               A73   \n",
       "2         A14        12            A34    2096         A61               A74   \n",
       "3         A11        42            A32    7882         A61               A74   \n",
       "4         A11        24            A33    4870         A61               A73   \n",
       "\n",
       "   inst_rate personal_status  residing_since  age inst_plans  num_credits  \\\n",
       "0          4             A93               4   67       A143            2   \n",
       "1          2             A92               2   22       A143            1   \n",
       "2          2             A93               3   49       A143            1   \n",
       "3          2             A93               4   45       A143            1   \n",
       "4          3             A93               4   53       A143            2   \n",
       "\n",
       "    job  status  \n",
       "0  A173       0  \n",
       "1  A173       1  \n",
       "2  A172       0  \n",
       "3  A173       0  \n",
       "4  A173       1  "
      ]
     },
     "execution_count": 3,
     "metadata": {},
     "output_type": "execute_result"
    }
   ],
   "source": [
    "# Importing the dataset\n",
    "df = pd.read_csv(\"German Credit Data.csv\")\n",
    "df.head()"
   ]
  },
  {
   "cell_type": "code",
   "execution_count": 4,
   "id": "fa1f1e9f",
   "metadata": {},
   "outputs": [
    {
     "name": "stdout",
     "output_type": "stream",
     "text": [
      "<class 'pandas.core.frame.DataFrame'>\n",
      "RangeIndex: 1000 entries, 0 to 999\n",
      "Data columns (total 14 columns):\n",
      " #   Column             Non-Null Count  Dtype \n",
      "---  ------             --------------  ----- \n",
      " 0   checkin_acc        1000 non-null   object\n",
      " 1   duration           1000 non-null   int64 \n",
      " 2   credit_history     1000 non-null   object\n",
      " 3   amount             1000 non-null   int64 \n",
      " 4   savings_acc        1000 non-null   object\n",
      " 5   present_emp_since  1000 non-null   object\n",
      " 6   inst_rate          1000 non-null   int64 \n",
      " 7   personal_status    1000 non-null   object\n",
      " 8   residing_since     1000 non-null   int64 \n",
      " 9   age                1000 non-null   int64 \n",
      " 10  inst_plans         1000 non-null   object\n",
      " 11  num_credits        1000 non-null   int64 \n",
      " 12  job                1000 non-null   object\n",
      " 13  status             1000 non-null   int64 \n",
      "dtypes: int64(7), object(7)\n",
      "memory usage: 109.5+ KB\n"
     ]
    }
   ],
   "source": [
    "# to get a quick overview of the dataset\n",
    "df.info()"
   ]
  },
  {
   "cell_type": "code",
   "execution_count": 5,
   "id": "6071fb78",
   "metadata": {},
   "outputs": [
    {
     "data": {
      "text/plain": [
       "Index(['checkin_acc', 'duration', 'credit_history', 'amount', 'savings_acc',\n",
       "       'present_emp_since', 'inst_rate', 'personal_status', 'residing_since',\n",
       "       'age', 'inst_plans', 'num_credits', 'job', 'status'],\n",
       "      dtype='object')"
      ]
     },
     "execution_count": 5,
     "metadata": {},
     "output_type": "execute_result"
    }
   ],
   "source": [
    "df.columns"
   ]
  },
  {
   "cell_type": "code",
   "execution_count": 6,
   "id": "351f114f",
   "metadata": {},
   "outputs": [
    {
     "data": {
      "text/plain": [
       "checkin_acc          0\n",
       "duration             0\n",
       "credit_history       0\n",
       "amount               0\n",
       "savings_acc          0\n",
       "present_emp_since    0\n",
       "inst_rate            0\n",
       "personal_status      0\n",
       "residing_since       0\n",
       "age                  0\n",
       "inst_plans           0\n",
       "num_credits          0\n",
       "job                  0\n",
       "status               0\n",
       "dtype: int64"
      ]
     },
     "execution_count": 6,
     "metadata": {},
     "output_type": "execute_result"
    }
   ],
   "source": [
    "# checking for null values\n",
    "df.isnull().sum()"
   ]
  },
  {
   "cell_type": "code",
   "execution_count": 7,
   "id": "fcbe138b",
   "metadata": {},
   "outputs": [
    {
     "data": {
      "text/plain": [
       "Index(['checkin_acc', 'credit_history', 'savings_acc', 'present_emp_since',\n",
       "       'personal_status', 'inst_plans', 'job'],\n",
       "      dtype='object')"
      ]
     },
     "execution_count": 7,
     "metadata": {},
     "output_type": "execute_result"
    }
   ],
   "source": [
    "# Select the categorical columns and use Label Encoder for encoding the categorical values to numerical.\n",
    "cat_cols = df.select_dtypes(include = ['object']).copy()\n",
    "cat_cols.columns"
   ]
  },
  {
   "cell_type": "code",
   "execution_count": 8,
   "id": "f0838212",
   "metadata": {},
   "outputs": [],
   "source": [
    "from sklearn.preprocessing import LabelEncoder\n",
    "for i in cat_cols.columns:\n",
    "    df[i] = LabelEncoder().fit_transform(df[i])"
   ]
  },
  {
   "cell_type": "code",
   "execution_count": 9,
   "id": "b1018aa3",
   "metadata": {},
   "outputs": [
    {
     "data": {
      "text/html": [
       "<div>\n",
       "<style scoped>\n",
       "    .dataframe tbody tr th:only-of-type {\n",
       "        vertical-align: middle;\n",
       "    }\n",
       "\n",
       "    .dataframe tbody tr th {\n",
       "        vertical-align: top;\n",
       "    }\n",
       "\n",
       "    .dataframe thead th {\n",
       "        text-align: right;\n",
       "    }\n",
       "</style>\n",
       "<table border=\"1\" class=\"dataframe\">\n",
       "  <thead>\n",
       "    <tr style=\"text-align: right;\">\n",
       "      <th></th>\n",
       "      <th>checkin_acc</th>\n",
       "      <th>duration</th>\n",
       "      <th>credit_history</th>\n",
       "      <th>amount</th>\n",
       "      <th>savings_acc</th>\n",
       "      <th>present_emp_since</th>\n",
       "      <th>inst_rate</th>\n",
       "      <th>personal_status</th>\n",
       "      <th>residing_since</th>\n",
       "      <th>age</th>\n",
       "      <th>inst_plans</th>\n",
       "      <th>num_credits</th>\n",
       "      <th>job</th>\n",
       "      <th>status</th>\n",
       "    </tr>\n",
       "  </thead>\n",
       "  <tbody>\n",
       "    <tr>\n",
       "      <th>0</th>\n",
       "      <td>0</td>\n",
       "      <td>6</td>\n",
       "      <td>4</td>\n",
       "      <td>1169</td>\n",
       "      <td>4</td>\n",
       "      <td>4</td>\n",
       "      <td>4</td>\n",
       "      <td>2</td>\n",
       "      <td>4</td>\n",
       "      <td>67</td>\n",
       "      <td>2</td>\n",
       "      <td>2</td>\n",
       "      <td>2</td>\n",
       "      <td>0</td>\n",
       "    </tr>\n",
       "    <tr>\n",
       "      <th>1</th>\n",
       "      <td>1</td>\n",
       "      <td>48</td>\n",
       "      <td>2</td>\n",
       "      <td>5951</td>\n",
       "      <td>0</td>\n",
       "      <td>2</td>\n",
       "      <td>2</td>\n",
       "      <td>1</td>\n",
       "      <td>2</td>\n",
       "      <td>22</td>\n",
       "      <td>2</td>\n",
       "      <td>1</td>\n",
       "      <td>2</td>\n",
       "      <td>1</td>\n",
       "    </tr>\n",
       "    <tr>\n",
       "      <th>2</th>\n",
       "      <td>3</td>\n",
       "      <td>12</td>\n",
       "      <td>4</td>\n",
       "      <td>2096</td>\n",
       "      <td>0</td>\n",
       "      <td>3</td>\n",
       "      <td>2</td>\n",
       "      <td>2</td>\n",
       "      <td>3</td>\n",
       "      <td>49</td>\n",
       "      <td>2</td>\n",
       "      <td>1</td>\n",
       "      <td>1</td>\n",
       "      <td>0</td>\n",
       "    </tr>\n",
       "    <tr>\n",
       "      <th>3</th>\n",
       "      <td>0</td>\n",
       "      <td>42</td>\n",
       "      <td>2</td>\n",
       "      <td>7882</td>\n",
       "      <td>0</td>\n",
       "      <td>3</td>\n",
       "      <td>2</td>\n",
       "      <td>2</td>\n",
       "      <td>4</td>\n",
       "      <td>45</td>\n",
       "      <td>2</td>\n",
       "      <td>1</td>\n",
       "      <td>2</td>\n",
       "      <td>0</td>\n",
       "    </tr>\n",
       "    <tr>\n",
       "      <th>4</th>\n",
       "      <td>0</td>\n",
       "      <td>24</td>\n",
       "      <td>3</td>\n",
       "      <td>4870</td>\n",
       "      <td>0</td>\n",
       "      <td>2</td>\n",
       "      <td>3</td>\n",
       "      <td>2</td>\n",
       "      <td>4</td>\n",
       "      <td>53</td>\n",
       "      <td>2</td>\n",
       "      <td>2</td>\n",
       "      <td>2</td>\n",
       "      <td>1</td>\n",
       "    </tr>\n",
       "  </tbody>\n",
       "</table>\n",
       "</div>"
      ],
      "text/plain": [
       "   checkin_acc  duration  credit_history  amount  savings_acc  \\\n",
       "0            0         6               4    1169            4   \n",
       "1            1        48               2    5951            0   \n",
       "2            3        12               4    2096            0   \n",
       "3            0        42               2    7882            0   \n",
       "4            0        24               3    4870            0   \n",
       "\n",
       "   present_emp_since  inst_rate  personal_status  residing_since  age  \\\n",
       "0                  4          4                2               4   67   \n",
       "1                  2          2                1               2   22   \n",
       "2                  3          2                2               3   49   \n",
       "3                  3          2                2               4   45   \n",
       "4                  2          3                2               4   53   \n",
       "\n",
       "   inst_plans  num_credits  job  status  \n",
       "0           2            2    2       0  \n",
       "1           2            1    2       1  \n",
       "2           2            1    1       0  \n",
       "3           2            1    2       0  \n",
       "4           2            2    2       1  "
      ]
     },
     "execution_count": 9,
     "metadata": {},
     "output_type": "execute_result"
    }
   ],
   "source": [
    "df.head()"
   ]
  },
  {
   "cell_type": "markdown",
   "id": "33bf98b8",
   "metadata": {},
   "source": [
    "We can observe that all the categorical values were converted to numrerical."
   ]
  },
  {
   "cell_type": "code",
   "execution_count": 10,
   "id": "6e3f5ec1",
   "metadata": {},
   "outputs": [],
   "source": [
    "# Splitting predictor and response variables\n",
    "\n",
    "X = df.drop(columns = ['status'],axis = 1)\n",
    "y = df.status"
   ]
  },
  {
   "cell_type": "code",
   "execution_count": 11,
   "id": "78040300",
   "metadata": {},
   "outputs": [],
   "source": [
    "# splitting the dataset into train and test datasets\n",
    "\n",
    "from sklearn.model_selection import train_test_split\n",
    "X_train,X_test,y_train,y_test = train_test_split(X,y,test_size = 0.2,random_state = 42)"
   ]
  },
  {
   "cell_type": "code",
   "execution_count": 12,
   "id": "5c0e64cc",
   "metadata": {},
   "outputs": [],
   "source": [
    "# Importing decisiontree classifier and gridsearchcv modules from sklearn\n",
    "\n",
    "from sklearn.model_selection import GridSearchCV\n",
    "from sklearn.tree import DecisionTreeClassifier"
   ]
  },
  {
   "cell_type": "code",
   "execution_count": 13,
   "id": "bf58998a",
   "metadata": {},
   "outputs": [
    {
     "data": {
      "text/plain": [
       "{'criterion': 'gini', 'max_depth': 3}"
      ]
     },
     "execution_count": 13,
     "metadata": {},
     "output_type": "execute_result"
    }
   ],
   "source": [
    "# defining a function to build a decisionTree classifier and configure grid search to search for optimal parameters as mentioned\n",
    "\n",
    "def dtree_grid_search(X,y,nfolds):\n",
    "    #create a dictionary of all values we want to test\n",
    "    param_grid = { 'criterion':['gini','entropy'],'max_depth': np.arange(2, 11)}\n",
    "    # decision tree model\n",
    "    dtree_model=DecisionTreeClassifier(random_state = 42)\n",
    "    #use gridsearch to test all values\n",
    "    dtree_gscv = GridSearchCV(dtree_model, param_grid, cv=nfolds, scoring='roc_auc')\n",
    "    #fit model to data\n",
    "    dtree_gscv.fit(X_train, y_train)\n",
    "    return dtree_gscv.best_params_\n",
    "\n",
    "    # .best_params_ gives the best results on the hold out data\n",
    "\n",
    "dtree_grid_search(X,y,10)"
   ]
  },
  {
   "cell_type": "markdown",
   "id": "e39cd0e6",
   "metadata": {},
   "source": [
    "In the above output, we can find the best parameters for our model in given range of parameter values."
   ]
  },
  {
   "cell_type": "code",
   "execution_count": 14,
   "id": "c190de85",
   "metadata": {},
   "outputs": [
    {
     "data": {
      "text/plain": [
       "DecisionTreeClassifier(max_depth=3, random_state=42)"
      ]
     },
     "execution_count": 14,
     "metadata": {},
     "output_type": "execute_result"
    }
   ],
   "source": [
    "# configuring the gridsearch again to print all the evaluation metrics \n",
    "tree_para = {'criterion':['gini','entropy'],'max_depth':np.arange(2, 11)}\n",
    "grid_search_cv = GridSearchCV(DecisionTreeClassifier(random_state = 42), tree_para, cv = 10, scoring='roc_auc')\n",
    "grid_search_cv.fit(X_train,y_train)\n",
    "grid_search_cv.best_estimator_"
   ]
  },
  {
   "cell_type": "markdown",
   "id": "990a190d",
   "metadata": {},
   "source": [
    ".best_estimator_ gives us the best combination of given parameters from the parameter grid"
   ]
  },
  {
   "cell_type": "code",
   "execution_count": 15,
   "id": "ae94ffbd",
   "metadata": {},
   "outputs": [
    {
     "data": {
      "text/plain": [
       "{'mean_fit_time': array([0.00318594, 0.00158298, 0.00265174, 0.0155519 , 0.01851459,\n",
       "        0.00335586, 0.0088347 , 0.00751448, 0.00603535, 0.00357435,\n",
       "        0.00354357, 0.00327418, 0.00359397, 0.00423112, 0.00380371,\n",
       "        0.00387824, 0.00449746, 0.00467556]),\n",
       " 'std_fit_time': array([0.00161576, 0.00104912, 0.00030824, 0.02173664, 0.01187195,\n",
       "        0.00147604, 0.00285812, 0.00239922, 0.00168553, 0.0008216 ,\n",
       "        0.00087878, 0.00067539, 0.00071343, 0.00084944, 0.00064227,\n",
       "        0.00043271, 0.00055851, 0.0007017 ]),\n",
       " 'mean_score_time': array([0.00201037, 0.00251799, 0.00183339, 0.00781162, 0.00803282,\n",
       "        0.00279708, 0.00590696, 0.00489383, 0.00389738, 0.00291903,\n",
       "        0.00232329, 0.00230308, 0.00203173, 0.00294561, 0.00217211,\n",
       "        0.00220017, 0.00249584, 0.00226386]),\n",
       " 'std_score_time': array([0.0006673 , 0.00244829, 0.00022285, 0.01153518, 0.00925409,\n",
       "        0.00254766, 0.00331711, 0.00158965, 0.00100014, 0.00037392,\n",
       "        0.00076493, 0.00065667, 0.00050708, 0.00081953, 0.00032609,\n",
       "        0.00029423, 0.00065327, 0.00046169]),\n",
       " 'param_criterion': masked_array(data=['gini', 'gini', 'gini', 'gini', 'gini', 'gini', 'gini',\n",
       "                    'gini', 'gini', 'entropy', 'entropy', 'entropy',\n",
       "                    'entropy', 'entropy', 'entropy', 'entropy', 'entropy',\n",
       "                    'entropy'],\n",
       "              mask=[False, False, False, False, False, False, False, False,\n",
       "                    False, False, False, False, False, False, False, False,\n",
       "                    False, False],\n",
       "        fill_value='?',\n",
       "             dtype=object),\n",
       " 'param_max_depth': masked_array(data=[2, 3, 4, 5, 6, 7, 8, 9, 10, 2, 3, 4, 5, 6, 7, 8, 9, 10],\n",
       "              mask=[False, False, False, False, False, False, False, False,\n",
       "                    False, False, False, False, False, False, False, False,\n",
       "                    False, False],\n",
       "        fill_value='?',\n",
       "             dtype=object),\n",
       " 'params': [{'criterion': 'gini', 'max_depth': 2},\n",
       "  {'criterion': 'gini', 'max_depth': 3},\n",
       "  {'criterion': 'gini', 'max_depth': 4},\n",
       "  {'criterion': 'gini', 'max_depth': 5},\n",
       "  {'criterion': 'gini', 'max_depth': 6},\n",
       "  {'criterion': 'gini', 'max_depth': 7},\n",
       "  {'criterion': 'gini', 'max_depth': 8},\n",
       "  {'criterion': 'gini', 'max_depth': 9},\n",
       "  {'criterion': 'gini', 'max_depth': 10},\n",
       "  {'criterion': 'entropy', 'max_depth': 2},\n",
       "  {'criterion': 'entropy', 'max_depth': 3},\n",
       "  {'criterion': 'entropy', 'max_depth': 4},\n",
       "  {'criterion': 'entropy', 'max_depth': 5},\n",
       "  {'criterion': 'entropy', 'max_depth': 6},\n",
       "  {'criterion': 'entropy', 'max_depth': 7},\n",
       "  {'criterion': 'entropy', 'max_depth': 8},\n",
       "  {'criterion': 'entropy', 'max_depth': 9},\n",
       "  {'criterion': 'entropy', 'max_depth': 10}],\n",
       " 'split0_test_score': array([0.708     , 0.76872727, 0.70181818, 0.59490909, 0.53018182,\n",
       "        0.55527273, 0.52727273, 0.54690909, 0.53709091, 0.708     ,\n",
       "        0.74981818, 0.67490909, 0.65236364, 0.62145455, 0.556     ,\n",
       "        0.56290909, 0.56618182, 0.57418182]),\n",
       " 'split1_test_score': array([0.75372024, 0.77901786, 0.80505952, 0.72284226, 0.70014881,\n",
       "        0.74144345, 0.69233631, 0.6577381 , 0.5375744 , 0.75372024,\n",
       "        0.77083333, 0.73214286, 0.71391369, 0.62909226, 0.63355655,\n",
       "        0.65662202, 0.63802083, 0.65662202]),\n",
       " 'split2_test_score': array([0.70089286, 0.765625  , 0.72358631, 0.67373512, 0.70572917,\n",
       "        0.625     , 0.58184524, 0.6000744 , 0.63690476, 0.70089286,\n",
       "        0.765625  , 0.70349702, 0.65178571, 0.60863095, 0.63504464,\n",
       "        0.63616071, 0.59598214, 0.62760417]),\n",
       " 'split3_test_score': array([0.66443452, 0.69159226, 0.70498512, 0.69791667, 0.67782738,\n",
       "        0.66666667, 0.66220238, 0.58035714, 0.61830357, 0.65736607,\n",
       "        0.70647321, 0.71316964, 0.65736607, 0.6391369 , 0.61309524,\n",
       "        0.6547619 , 0.60044643, 0.62165179]),\n",
       " 'split4_test_score': array([0.57849702, 0.62016369, 0.63690476, 0.59672619, 0.58519345,\n",
       "        0.64025298, 0.60825893, 0.60081845, 0.6078869 , 0.57849702,\n",
       "        0.62016369, 0.68563988, 0.6968006 , 0.67633929, 0.70238095,\n",
       "        0.70498512, 0.63988095, 0.66331845]),\n",
       " 'split5_test_score': array([0.74813988, 0.73325893, 0.72135417, 0.68452381, 0.70014881,\n",
       "        0.63616071, 0.66852679, 0.625     , 0.58519345, 0.74813988,\n",
       "        0.75111607, 0.72433036, 0.71577381, 0.73623512, 0.75855655,\n",
       "        0.71391369, 0.67857143, 0.72395833]),\n",
       " 'split6_test_score': array([0.77901786, 0.84151786, 0.79575893, 0.7875744 , 0.83891369,\n",
       "        0.84375   , 0.8046875 , 0.77269345, 0.77529762, 0.77901786,\n",
       "        0.84114583, 0.79352679, 0.77827381, 0.79910714, 0.77678571,\n",
       "        0.7797619 , 0.74962798, 0.7358631 ]),\n",
       " 'split7_test_score': array([0.66369048, 0.67708333, 0.66741071, 0.70238095, 0.70498512,\n",
       "        0.71205357, 0.70758929, 0.69122024, 0.70014881, 0.66369048,\n",
       "        0.71205357, 0.68154762, 0.71354167, 0.59412202, 0.61532738,\n",
       "        0.61532738, 0.61160714, 0.61904762]),\n",
       " 'split8_test_score': array([0.68526786, 0.75297619, 0.76748512, 0.78943452, 0.81584821,\n",
       "        0.75892857, 0.73549107, 0.7124256 , 0.65959821, 0.68526786,\n",
       "        0.69456845, 0.70870536, 0.75074405, 0.7094494 , 0.7421875 ,\n",
       "        0.71651786, 0.70572917, 0.75855655]),\n",
       " 'split9_test_score': array([0.7563244 , 0.75260417, 0.78348214, 0.81436012, 0.8452381 ,\n",
       "        0.82738095, 0.7593006 , 0.7172619 , 0.71056548, 0.7563244 ,\n",
       "        0.76227679, 0.78720238, 0.82589286, 0.83184524, 0.83035714,\n",
       "        0.80208333, 0.75186012, 0.72619048]),\n",
       " 'mean_test_score': array([0.70379851, 0.73825666, 0.7307845 , 0.70644031, 0.71042146,\n",
       "        0.70069096, 0.67475108, 0.65044984, 0.63685641, 0.70309167,\n",
       "        0.73740741, 0.7204671 , 0.71564559, 0.68454129, 0.68632917,\n",
       "        0.6843043 , 0.6537908 , 0.67069943]),\n",
       " 'std_test_score': array([0.05665984, 0.05857902, 0.05323296, 0.07176488, 0.09761863,\n",
       "        0.08806127, 0.08006735, 0.06800442, 0.07265307, 0.05718814,\n",
       "        0.05551273, 0.03901965, 0.05399113, 0.07825461, 0.08386075,\n",
       "        0.069841  , 0.0618049 , 0.05863448]),\n",
       " 'rank_test_score': array([ 8,  1,  3,  7,  6, 10, 14, 17, 18,  9,  2,  4,  5, 12, 11, 13, 16,\n",
       "        15])}"
      ]
     },
     "execution_count": 15,
     "metadata": {},
     "output_type": "execute_result"
    }
   ],
   "source": [
    "# .cv_results_ returns a dictionary of all the evaluation metrics from the gridsearch.\n",
    "grid_search_cv.cv_results_"
   ]
  },
  {
   "cell_type": "code",
   "execution_count": 16,
   "id": "09c74272",
   "metadata": {},
   "outputs": [],
   "source": [
    "# predicting on the test set using our model\n",
    "y_pred1 = grid_search_cv.predict(X_test)"
   ]
  },
  {
   "cell_type": "code",
   "execution_count": 17,
   "id": "3f749bbb",
   "metadata": {},
   "outputs": [
    {
     "data": {
      "text/plain": [
       "0.765"
      ]
     },
     "execution_count": 17,
     "metadata": {},
     "output_type": "execute_result"
    }
   ],
   "source": [
    "# finding the accuracy of our model using the accuracy_score method\n",
    "accuracy_score(y_pred1,y_test)"
   ]
  },
  {
   "cell_type": "markdown",
   "id": "1fd06879",
   "metadata": {},
   "source": [
    "Our model is around 76% accurate"
   ]
  },
  {
   "cell_type": "markdown",
   "id": "c2645c6b",
   "metadata": {},
   "source": [
    "### 2. Visualize the tree using graphviz software."
   ]
  },
  {
   "cell_type": "code",
   "execution_count": 18,
   "id": "69745f57",
   "metadata": {},
   "outputs": [
    {
     "data": {
      "text/plain": [
       "0.765"
      ]
     },
     "execution_count": 18,
     "metadata": {},
     "output_type": "execute_result"
    }
   ],
   "source": [
    "# Building a model to print a decision tree\n",
    "clf_model = DecisionTreeClassifier( random_state=42,max_depth=3, min_samples_leaf=5)   \n",
    "clf_model.fit(X_train,y_train)\n",
    "y_predict = clf_model.predict(X_test)\n",
    "\n",
    "from sklearn.metrics import accuracy_score,classification_report,confusion_matrix\n",
    "accuracy_score(y_test,y_predict)"
   ]
  },
  {
   "cell_type": "code",
   "execution_count": 19,
   "id": "46f69a7f",
   "metadata": {},
   "outputs": [
    {
     "data": {
      "image/png": "[encoded data removed]",
      "text/plain": [
       "<Figure size 432x288 with 1 Axes>"
      ]
     },
     "metadata": {
      "needs_background": "light"
     },
     "output_type": "display_data"
    }
   ],
   "source": [
    "from sklearn import tree\n",
    "tree.plot_tree(clf_model);"
   ]
  },
  {
   "cell_type": "code",
   "execution_count": 20,
   "id": "5f09e378",
   "metadata": {},
   "outputs": [],
   "source": [
    "# importing graphviz to vizualize the decision tree\n",
    "from sklearn.tree import export_graphviz\n",
    "import graphviz"
   ]
  },
  {
   "cell_type": "code",
   "execution_count": 21,
   "id": "8c1a6a63",
   "metadata": {},
   "outputs": [],
   "source": [
    "dot_data= export_graphviz(clf_model, out_file=None, \n",
    "                    feature_names=X_test.columns,  \n",
    "                      class_names=['0', '1'],  \n",
    "                      filled=True, rounded=True,  \n",
    "                      special_characters=True) "
   ]
  },
  {
   "cell_type": "code",
   "execution_count": 22,
   "id": "fea2aa00",
   "metadata": {},
   "outputs": [
    {
     "data": {
      "image/svg+xml": [
       "<?xml version=\"1.0\" encoding=\"UTF-8\" standalone=\"no\"?>\n",
       "<!DOCTYPE svg PUBLIC \"-//W3C//DTD SVG 1.1//EN\"\n",
       " \"http://www.w3.org/Graphics/SVG/1.1/DTD/svg11.dtd\">\n",
       "<!-- Generated by graphviz version 3.0.0 (20220226.1711)\n",
       " -->\n",
       "<!-- Title: Tree Pages: 1 -->\n",
       "<svg width=\"1042pt\" height=\"433pt\"\n",
       " viewBox=\"0.00 0.00 1041.50 433.00\" xmlns=\"http://www.w3.org/2000/svg\" xmlns:xlink=\"http://www.w3.org/1999/xlink\">\n",
       "<g id=\"graph0\" class=\"graph\" transform=\"scale(1 1) rotate(0) translate(4 429)\">\n",
       "<title>Tree</title>\n",
       "<polygon fill=\"white\" stroke=\"transparent\" points=\"-4,4 -4,-429 1037.5,-429 1037.5,4 -4,4\"/>\n",
       "<!-- 0 -->\n",
       "<g id=\"node1\" class=\"node\">\n",
       "<title>0</title>\n",
       "<path fill=\"#f0b78e\" stroke=\"black\" d=\"M564,-425C564,-425 457,-425 457,-425 451,-425 445,-419 445,-413 445,-413 445,-354 445,-354 445,-348 451,-342 457,-342 457,-342 564,-342 564,-342 570,-342 576,-348 576,-354 576,-354 576,-413 576,-413 576,-419 570,-425 564,-425\"/>\n",
       "<text text-anchor=\"start\" x=\"453\" y=\"-409.8\" font-family=\"Helvetica,sans-Serif\" font-size=\"14.00\">checkin_acc ≤ 1.5</text>\n",
       "<text text-anchor=\"start\" x=\"473\" y=\"-394.8\" font-family=\"Helvetica,sans-Serif\" font-size=\"14.00\">gini = 0.421</text>\n",
       "<text text-anchor=\"start\" x=\"463\" y=\"-379.8\" font-family=\"Helvetica,sans-Serif\" font-size=\"14.00\">samples = 800</text>\n",
       "<text text-anchor=\"start\" x=\"453.5\" y=\"-364.8\" font-family=\"Helvetica,sans-Serif\" font-size=\"14.00\">value = [559, 241]</text>\n",
       "<text text-anchor=\"start\" x=\"481.5\" y=\"-349.8\" font-family=\"Helvetica,sans-Serif\" font-size=\"14.00\">class = 0</text>\n",
       "</g>\n",
       "<!-- 1 -->\n",
       "<g id=\"node2\" class=\"node\">\n",
       "<title>1</title>\n",
       "<path fill=\"#f9e4d4\" stroke=\"black\" d=\"M440.5,-306C440.5,-306 334.5,-306 334.5,-306 328.5,-306 322.5,-300 322.5,-294 322.5,-294 322.5,-235 322.5,-235 322.5,-229 328.5,-223 334.5,-223 334.5,-223 440.5,-223 440.5,-223 446.5,-223 452.5,-229 452.5,-235 452.5,-235 452.5,-294 452.5,-294 452.5,-300 446.5,-306 440.5,-306\"/>\n",
       "<text text-anchor=\"start\" x=\"340.5\" y=\"-290.8\" font-family=\"Helvetica,sans-Serif\" font-size=\"14.00\">duration ≤ 22.5</text>\n",
       "<text text-anchor=\"start\" x=\"350\" y=\"-275.8\" font-family=\"Helvetica,sans-Serif\" font-size=\"14.00\">gini = 0.493</text>\n",
       "<text text-anchor=\"start\" x=\"340\" y=\"-260.8\" font-family=\"Helvetica,sans-Serif\" font-size=\"14.00\">samples = 428</text>\n",
       "<text text-anchor=\"start\" x=\"330.5\" y=\"-245.8\" font-family=\"Helvetica,sans-Serif\" font-size=\"14.00\">value = [240, 188]</text>\n",
       "<text text-anchor=\"start\" x=\"358.5\" y=\"-230.8\" font-family=\"Helvetica,sans-Serif\" font-size=\"14.00\">class = 0</text>\n",
       "</g>\n",
       "<!-- 0&#45;&gt;1 -->\n",
       "<g id=\"edge1\" class=\"edge\">\n",
       "<title>0&#45;&gt;1</title>\n",
       "<path fill=\"none\" stroke=\"black\" d=\"M467.83,-341.91C458,-332.56 447.46,-322.54 437.36,-312.93\"/>\n",
       "<polygon fill=\"black\" stroke=\"black\" points=\"439.76,-310.38 430.1,-306.02 434.93,-315.45 439.76,-310.38\"/>\n",
       "<text text-anchor=\"middle\" x=\"430.72\" y=\"-327.31\" font-family=\"Helvetica,sans-Serif\" font-size=\"14.00\">True</text>\n",
       "</g>\n",
       "<!-- 8 -->\n",
       "<g id=\"node9\" class=\"node\">\n",
       "<title>8</title>\n",
       "<path fill=\"#e9965a\" stroke=\"black\" d=\"M690.5,-306C690.5,-306 592.5,-306 592.5,-306 586.5,-306 580.5,-300 580.5,-294 580.5,-294 580.5,-235 580.5,-235 580.5,-229 586.5,-223 592.5,-223 592.5,-223 690.5,-223 690.5,-223 696.5,-223 702.5,-229 702.5,-235 702.5,-235 702.5,-294 702.5,-294 702.5,-300 696.5,-306 690.5,-306\"/>\n",
       "<text text-anchor=\"start\" x=\"591.5\" y=\"-290.8\" font-family=\"Helvetica,sans-Serif\" font-size=\"14.00\">inst_plans ≤ 1.5</text>\n",
       "<text text-anchor=\"start\" x=\"604\" y=\"-275.8\" font-family=\"Helvetica,sans-Serif\" font-size=\"14.00\">gini = 0.244</text>\n",
       "<text text-anchor=\"start\" x=\"594\" y=\"-260.8\" font-family=\"Helvetica,sans-Serif\" font-size=\"14.00\">samples = 372</text>\n",
       "<text text-anchor=\"start\" x=\"588.5\" y=\"-245.8\" font-family=\"Helvetica,sans-Serif\" font-size=\"14.00\">value = [319, 53]</text>\n",
       "<text text-anchor=\"start\" x=\"612.5\" y=\"-230.8\" font-family=\"Helvetica,sans-Serif\" font-size=\"14.00\">class = 0</text>\n",
       "</g>\n",
       "<!-- 0&#45;&gt;8 -->\n",
       "<g id=\"edge8\" class=\"edge\">\n",
       "<title>0&#45;&gt;8</title>\n",
       "<path fill=\"none\" stroke=\"black\" d=\"M555.95,-341.91C566.42,-332.56 577.64,-322.54 588.4,-312.93\"/>\n",
       "<polygon fill=\"black\" stroke=\"black\" points=\"591,-315.29 596.13,-306.02 586.34,-310.07 591,-315.29\"/>\n",
       "<text text-anchor=\"middle\" x=\"594.72\" y=\"-327.28\" font-family=\"Helvetica,sans-Serif\" font-size=\"14.00\">False</text>\n",
       "</g>\n",
       "<!-- 2 -->\n",
       "<g id=\"node3\" class=\"node\">\n",
       "<title>2</title>\n",
       "<path fill=\"#f2c29f\" stroke=\"black\" d=\"M241,-187C241,-187 128,-187 128,-187 122,-187 116,-181 116,-175 116,-175 116,-116 116,-116 116,-110 122,-104 128,-104 128,-104 241,-104 241,-104 247,-104 253,-110 253,-116 253,-116 253,-175 253,-175 253,-181 247,-187 241,-187\"/>\n",
       "<text text-anchor=\"start\" x=\"124\" y=\"-171.8\" font-family=\"Helvetica,sans-Serif\" font-size=\"14.00\">credit_history ≤ 1.5</text>\n",
       "<text text-anchor=\"start\" x=\"147\" y=\"-156.8\" font-family=\"Helvetica,sans-Serif\" font-size=\"14.00\">gini = 0.449</text>\n",
       "<text text-anchor=\"start\" x=\"137\" y=\"-141.8\" font-family=\"Helvetica,sans-Serif\" font-size=\"14.00\">samples = 235</text>\n",
       "<text text-anchor=\"start\" x=\"131.5\" y=\"-126.8\" font-family=\"Helvetica,sans-Serif\" font-size=\"14.00\">value = [155, 80]</text>\n",
       "<text text-anchor=\"start\" x=\"155.5\" y=\"-111.8\" font-family=\"Helvetica,sans-Serif\" font-size=\"14.00\">class = 0</text>\n",
       "</g>\n",
       "<!-- 1&#45;&gt;2 -->\n",
       "<g id=\"edge2\" class=\"edge\">\n",
       "<title>1&#45;&gt;2</title>\n",
       "<path fill=\"none\" stroke=\"black\" d=\"M322.43,-226C303.14,-214.88 281.82,-202.59 261.83,-191.07\"/>\n",
       "<polygon fill=\"black\" stroke=\"black\" points=\"263.46,-187.97 253.05,-186.01 259.96,-194.03 263.46,-187.97\"/>\n",
       "</g>\n",
       "<!-- 5 -->\n",
       "<g id=\"node6\" class=\"node\">\n",
       "<title>5</title>\n",
       "<path fill=\"#d5eaf9\" stroke=\"black\" d=\"M441,-187C441,-187 334,-187 334,-187 328,-187 322,-181 322,-175 322,-175 322,-116 322,-116 322,-110 328,-104 334,-104 334,-104 441,-104 441,-104 447,-104 453,-110 453,-116 453,-116 453,-175 453,-175 453,-181 447,-187 441,-187\"/>\n",
       "<text text-anchor=\"start\" x=\"330\" y=\"-171.8\" font-family=\"Helvetica,sans-Serif\" font-size=\"14.00\">savings_acc ≤ 2.5</text>\n",
       "<text text-anchor=\"start\" x=\"350\" y=\"-156.8\" font-family=\"Helvetica,sans-Serif\" font-size=\"14.00\">gini = 0.493</text>\n",
       "<text text-anchor=\"start\" x=\"340\" y=\"-141.8\" font-family=\"Helvetica,sans-Serif\" font-size=\"14.00\">samples = 193</text>\n",
       "<text text-anchor=\"start\" x=\"334.5\" y=\"-126.8\" font-family=\"Helvetica,sans-Serif\" font-size=\"14.00\">value = [85, 108]</text>\n",
       "<text text-anchor=\"start\" x=\"358.5\" y=\"-111.8\" font-family=\"Helvetica,sans-Serif\" font-size=\"14.00\">class = 1</text>\n",
       "</g>\n",
       "<!-- 1&#45;&gt;5 -->\n",
       "<g id=\"edge5\" class=\"edge\">\n",
       "<title>1&#45;&gt;5</title>\n",
       "<path fill=\"none\" stroke=\"black\" d=\"M387.5,-222.91C387.5,-214.65 387.5,-205.86 387.5,-197.3\"/>\n",
       "<polygon fill=\"black\" stroke=\"black\" points=\"391,-197.02 387.5,-187.02 384,-197.02 391,-197.02\"/>\n",
       "</g>\n",
       "<!-- 3 -->\n",
       "<g id=\"node4\" class=\"node\">\n",
       "<title>3</title>\n",
       "<path fill=\"#7bbeee\" stroke=\"black\" d=\"M93,-68C93,-68 12,-68 12,-68 6,-68 0,-62 0,-56 0,-56 0,-12 0,-12 0,-6 6,0 12,0 12,0 93,0 93,0 99,0 105,-6 105,-12 105,-12 105,-56 105,-56 105,-62 99,-68 93,-68\"/>\n",
       "<text text-anchor=\"start\" x=\"15\" y=\"-52.8\" font-family=\"Helvetica,sans-Serif\" font-size=\"14.00\">gini = 0.375</text>\n",
       "<text text-anchor=\"start\" x=\"9\" y=\"-37.8\" font-family=\"Helvetica,sans-Serif\" font-size=\"14.00\">samples = 24</text>\n",
       "<text text-anchor=\"start\" x=\"8\" y=\"-22.8\" font-family=\"Helvetica,sans-Serif\" font-size=\"14.00\">value = [6, 18]</text>\n",
       "<text text-anchor=\"start\" x=\"23.5\" y=\"-7.8\" font-family=\"Helvetica,sans-Serif\" font-size=\"14.00\">class = 1</text>\n",
       "</g>\n",
       "<!-- 2&#45;&gt;3 -->\n",
       "<g id=\"edge3\" class=\"edge\">\n",
       "<title>2&#45;&gt;3</title>\n",
       "<path fill=\"none\" stroke=\"black\" d=\"M135.35,-103.73C123.91,-94.24 111.76,-84.16 100.38,-74.72\"/>\n",
       "<polygon fill=\"black\" stroke=\"black\" points=\"102.57,-71.99 92.64,-68.3 98.1,-77.38 102.57,-71.99\"/>\n",
       "</g>\n",
       "<!-- 4 -->\n",
       "<g id=\"node5\" class=\"node\">\n",
       "<title>4</title>\n",
       "<path fill=\"#f0b58b\" stroke=\"black\" d=\"M233.5,-68C233.5,-68 135.5,-68 135.5,-68 129.5,-68 123.5,-62 123.5,-56 123.5,-56 123.5,-12 123.5,-12 123.5,-6 129.5,0 135.5,0 135.5,0 233.5,0 233.5,0 239.5,0 245.5,-6 245.5,-12 245.5,-12 245.5,-56 245.5,-56 245.5,-62 239.5,-68 233.5,-68\"/>\n",
       "<text text-anchor=\"start\" x=\"147\" y=\"-52.8\" font-family=\"Helvetica,sans-Serif\" font-size=\"14.00\">gini = 0.415</text>\n",
       "<text text-anchor=\"start\" x=\"137\" y=\"-37.8\" font-family=\"Helvetica,sans-Serif\" font-size=\"14.00\">samples = 211</text>\n",
       "<text text-anchor=\"start\" x=\"131.5\" y=\"-22.8\" font-family=\"Helvetica,sans-Serif\" font-size=\"14.00\">value = [149, 62]</text>\n",
       "<text text-anchor=\"start\" x=\"155.5\" y=\"-7.8\" font-family=\"Helvetica,sans-Serif\" font-size=\"14.00\">class = 0</text>\n",
       "</g>\n",
       "<!-- 2&#45;&gt;4 -->\n",
       "<g id=\"edge4\" class=\"edge\">\n",
       "<title>2&#45;&gt;4</title>\n",
       "<path fill=\"none\" stroke=\"black\" d=\"M184.5,-103.73C184.5,-95.52 184.5,-86.86 184.5,-78.56\"/>\n",
       "<polygon fill=\"black\" stroke=\"black\" points=\"188,-78.3 184.5,-68.3 181,-78.3 188,-78.3\"/>\n",
       "</g>\n",
       "<!-- 6 -->\n",
       "<g id=\"node7\" class=\"node\">\n",
       "<title>6</title>\n",
       "<path fill=\"#b1d9f5\" stroke=\"black\" d=\"M365,-68C365,-68 276,-68 276,-68 270,-68 264,-62 264,-56 264,-56 264,-12 264,-12 264,-6 270,0 276,0 276,0 365,0 365,0 371,0 377,-6 377,-12 377,-12 377,-56 377,-56 377,-62 371,-68 365,-68\"/>\n",
       "<text text-anchor=\"start\" x=\"287\" y=\"-52.8\" font-family=\"Helvetica,sans-Serif\" font-size=\"14.00\">gini = 0.47</text>\n",
       "<text text-anchor=\"start\" x=\"273\" y=\"-37.8\" font-family=\"Helvetica,sans-Serif\" font-size=\"14.00\">samples = 156</text>\n",
       "<text text-anchor=\"start\" x=\"272\" y=\"-22.8\" font-family=\"Helvetica,sans-Serif\" font-size=\"14.00\">value = [59, 97]</text>\n",
       "<text text-anchor=\"start\" x=\"291.5\" y=\"-7.8\" font-family=\"Helvetica,sans-Serif\" font-size=\"14.00\">class = 1</text>\n",
       "</g>\n",
       "<!-- 5&#45;&gt;6 -->\n",
       "<g id=\"edge6\" class=\"edge\">\n",
       "<title>5&#45;&gt;6</title>\n",
       "<path fill=\"none\" stroke=\"black\" d=\"M362.55,-103.73C357.19,-94.97 351.52,-85.7 346.14,-76.91\"/>\n",
       "<polygon fill=\"black\" stroke=\"black\" points=\"349.08,-75 340.88,-68.3 343.11,-78.66 349.08,-75\"/>\n",
       "</g>\n",
       "<!-- 7 -->\n",
       "<g id=\"node8\" class=\"node\">\n",
       "<title>7</title>\n",
       "<path fill=\"#f0b68d\" stroke=\"black\" d=\"M496,-68C496,-68 407,-68 407,-68 401,-68 395,-62 395,-56 395,-56 395,-12 395,-12 395,-6 401,0 407,0 407,0 496,0 496,0 502,0 508,-6 508,-12 508,-12 508,-56 508,-56 508,-62 502,-68 496,-68\"/>\n",
       "<text text-anchor=\"start\" x=\"414\" y=\"-52.8\" font-family=\"Helvetica,sans-Serif\" font-size=\"14.00\">gini = 0.418</text>\n",
       "<text text-anchor=\"start\" x=\"408\" y=\"-37.8\" font-family=\"Helvetica,sans-Serif\" font-size=\"14.00\">samples = 37</text>\n",
       "<text text-anchor=\"start\" x=\"403\" y=\"-22.8\" font-family=\"Helvetica,sans-Serif\" font-size=\"14.00\">value = [26, 11]</text>\n",
       "<text text-anchor=\"start\" x=\"422.5\" y=\"-7.8\" font-family=\"Helvetica,sans-Serif\" font-size=\"14.00\">class = 0</text>\n",
       "</g>\n",
       "<!-- 5&#45;&gt;7 -->\n",
       "<g id=\"edge7\" class=\"edge\">\n",
       "<title>5&#45;&gt;7</title>\n",
       "<path fill=\"none\" stroke=\"black\" d=\"M411.33,-103.73C416.4,-95.06 421.75,-85.9 426.85,-77.18\"/>\n",
       "<polygon fill=\"black\" stroke=\"black\" points=\"430.01,-78.7 432.04,-68.3 423.97,-75.17 430.01,-78.7\"/>\n",
       "</g>\n",
       "<!-- 9 -->\n",
       "<g id=\"node10\" class=\"node\">\n",
       "<title>9</title>\n",
       "<path fill=\"#f1bb93\" stroke=\"black\" d=\"M686,-187C686,-187 597,-187 597,-187 591,-187 585,-181 585,-175 585,-175 585,-116 585,-116 585,-110 591,-104 597,-104 597,-104 686,-104 686,-104 692,-104 698,-110 698,-116 698,-116 698,-175 698,-175 698,-181 692,-187 686,-187\"/>\n",
       "<text text-anchor=\"start\" x=\"607.5\" y=\"-171.8\" font-family=\"Helvetica,sans-Serif\" font-size=\"14.00\">age ≤ 44.5</text>\n",
       "<text text-anchor=\"start\" x=\"608\" y=\"-156.8\" font-family=\"Helvetica,sans-Serif\" font-size=\"14.00\">gini = 0.43</text>\n",
       "<text text-anchor=\"start\" x=\"598\" y=\"-141.8\" font-family=\"Helvetica,sans-Serif\" font-size=\"14.00\">samples = 67</text>\n",
       "<text text-anchor=\"start\" x=\"593\" y=\"-126.8\" font-family=\"Helvetica,sans-Serif\" font-size=\"14.00\">value = [46, 21]</text>\n",
       "<text text-anchor=\"start\" x=\"612.5\" y=\"-111.8\" font-family=\"Helvetica,sans-Serif\" font-size=\"14.00\">class = 0</text>\n",
       "</g>\n",
       "<!-- 8&#45;&gt;9 -->\n",
       "<g id=\"edge9\" class=\"edge\">\n",
       "<title>8&#45;&gt;9</title>\n",
       "<path fill=\"none\" stroke=\"black\" d=\"M641.5,-222.91C641.5,-214.65 641.5,-205.86 641.5,-197.3\"/>\n",
       "<polygon fill=\"black\" stroke=\"black\" points=\"645,-197.02 641.5,-187.02 638,-197.02 645,-197.02\"/>\n",
       "</g>\n",
       "<!-- 12 -->\n",
       "<g id=\"node13\" class=\"node\">\n",
       "<title>12</title>\n",
       "<path fill=\"#e89050\" stroke=\"black\" d=\"M885.5,-187C885.5,-187 787.5,-187 787.5,-187 781.5,-187 775.5,-181 775.5,-175 775.5,-175 775.5,-116 775.5,-116 775.5,-110 781.5,-104 787.5,-104 787.5,-104 885.5,-104 885.5,-104 891.5,-104 897.5,-110 897.5,-116 897.5,-116 897.5,-175 897.5,-175 897.5,-181 891.5,-187 885.5,-187\"/>\n",
       "<text text-anchor=\"start\" x=\"802.5\" y=\"-171.8\" font-family=\"Helvetica,sans-Serif\" font-size=\"14.00\">age ≤ 30.5</text>\n",
       "<text text-anchor=\"start\" x=\"799\" y=\"-156.8\" font-family=\"Helvetica,sans-Serif\" font-size=\"14.00\">gini = 0.188</text>\n",
       "<text text-anchor=\"start\" x=\"789\" y=\"-141.8\" font-family=\"Helvetica,sans-Serif\" font-size=\"14.00\">samples = 305</text>\n",
       "<text text-anchor=\"start\" x=\"783.5\" y=\"-126.8\" font-family=\"Helvetica,sans-Serif\" font-size=\"14.00\">value = [273, 32]</text>\n",
       "<text text-anchor=\"start\" x=\"807.5\" y=\"-111.8\" font-family=\"Helvetica,sans-Serif\" font-size=\"14.00\">class = 0</text>\n",
       "</g>\n",
       "<!-- 8&#45;&gt;12 -->\n",
       "<g id=\"edge12\" class=\"edge\">\n",
       "<title>8&#45;&gt;12</title>\n",
       "<path fill=\"none\" stroke=\"black\" d=\"M702.66,-226.8C722.89,-214.66 745.56,-201.06 766.41,-188.56\"/>\n",
       "<polygon fill=\"black\" stroke=\"black\" points=\"768.44,-191.42 775.22,-183.27 764.84,-185.41 768.44,-191.42\"/>\n",
       "</g>\n",
       "<!-- 10 -->\n",
       "<g id=\"node11\" class=\"node\">\n",
       "<title>10</title>\n",
       "<path fill=\"#f5d0b5\" stroke=\"black\" d=\"M627,-68C627,-68 538,-68 538,-68 532,-68 526,-62 526,-56 526,-56 526,-12 526,-12 526,-6 532,0 538,0 538,0 627,0 627,0 633,0 639,-6 639,-12 639,-12 639,-56 639,-56 639,-62 633,-68 627,-68\"/>\n",
       "<text text-anchor=\"start\" x=\"545\" y=\"-52.8\" font-family=\"Helvetica,sans-Serif\" font-size=\"14.00\">gini = 0.473</text>\n",
       "<text text-anchor=\"start\" x=\"539\" y=\"-37.8\" font-family=\"Helvetica,sans-Serif\" font-size=\"14.00\">samples = 52</text>\n",
       "<text text-anchor=\"start\" x=\"534\" y=\"-22.8\" font-family=\"Helvetica,sans-Serif\" font-size=\"14.00\">value = [32, 20]</text>\n",
       "<text text-anchor=\"start\" x=\"553.5\" y=\"-7.8\" font-family=\"Helvetica,sans-Serif\" font-size=\"14.00\">class = 0</text>\n",
       "</g>\n",
       "<!-- 9&#45;&gt;10 -->\n",
       "<g id=\"edge10\" class=\"edge\">\n",
       "<title>9&#45;&gt;10</title>\n",
       "<path fill=\"none\" stroke=\"black\" d=\"M619.53,-103.73C614.86,-95.06 609.92,-85.9 605.23,-77.18\"/>\n",
       "<polygon fill=\"black\" stroke=\"black\" points=\"608.27,-75.44 600.44,-68.3 602.1,-78.76 608.27,-75.44\"/>\n",
       "</g>\n",
       "<!-- 11 -->\n",
       "<g id=\"node12\" class=\"node\">\n",
       "<title>11</title>\n",
       "<path fill=\"#e78a47\" stroke=\"black\" d=\"M750,-68C750,-68 669,-68 669,-68 663,-68 657,-62 657,-56 657,-56 657,-12 657,-12 657,-6 663,0 669,0 669,0 750,0 750,0 756,0 762,-6 762,-12 762,-12 762,-56 762,-56 762,-62 756,-68 750,-68\"/>\n",
       "<text text-anchor=\"start\" x=\"672\" y=\"-52.8\" font-family=\"Helvetica,sans-Serif\" font-size=\"14.00\">gini = 0.124</text>\n",
       "<text text-anchor=\"start\" x=\"666\" y=\"-37.8\" font-family=\"Helvetica,sans-Serif\" font-size=\"14.00\">samples = 15</text>\n",
       "<text text-anchor=\"start\" x=\"665\" y=\"-22.8\" font-family=\"Helvetica,sans-Serif\" font-size=\"14.00\">value = [14, 1]</text>\n",
       "<text text-anchor=\"start\" x=\"680.5\" y=\"-7.8\" font-family=\"Helvetica,sans-Serif\" font-size=\"14.00\">class = 0</text>\n",
       "</g>\n",
       "<!-- 9&#45;&gt;11 -->\n",
       "<g id=\"edge11\" class=\"edge\">\n",
       "<title>9&#45;&gt;11</title>\n",
       "<path fill=\"none\" stroke=\"black\" d=\"M666.82,-103.73C672.26,-94.97 678.01,-85.7 683.48,-76.91\"/>\n",
       "<polygon fill=\"black\" stroke=\"black\" points=\"686.52,-78.64 688.82,-68.3 680.57,-74.95 686.52,-78.64\"/>\n",
       "</g>\n",
       "<!-- 13 -->\n",
       "<g id=\"node14\" class=\"node\">\n",
       "<title>13</title>\n",
       "<path fill=\"#eb9e67\" stroke=\"black\" d=\"M881,-68C881,-68 792,-68 792,-68 786,-68 780,-62 780,-56 780,-56 780,-12 780,-12 780,-6 786,0 792,0 792,0 881,0 881,0 887,0 893,-6 893,-12 893,-12 893,-56 893,-56 893,-62 887,-68 881,-68\"/>\n",
       "<text text-anchor=\"start\" x=\"799\" y=\"-52.8\" font-family=\"Helvetica,sans-Serif\" font-size=\"14.00\">gini = 0.307</text>\n",
       "<text text-anchor=\"start\" x=\"789\" y=\"-37.8\" font-family=\"Helvetica,sans-Serif\" font-size=\"14.00\">samples = 111</text>\n",
       "<text text-anchor=\"start\" x=\"788\" y=\"-22.8\" font-family=\"Helvetica,sans-Serif\" font-size=\"14.00\">value = [90, 21]</text>\n",
       "<text text-anchor=\"start\" x=\"807.5\" y=\"-7.8\" font-family=\"Helvetica,sans-Serif\" font-size=\"14.00\">class = 0</text>\n",
       "</g>\n",
       "<!-- 12&#45;&gt;13 -->\n",
       "<g id=\"edge13\" class=\"edge\">\n",
       "<title>12&#45;&gt;13</title>\n",
       "<path fill=\"none\" stroke=\"black\" d=\"M836.5,-103.73C836.5,-95.52 836.5,-86.86 836.5,-78.56\"/>\n",
       "<polygon fill=\"black\" stroke=\"black\" points=\"840,-78.3 836.5,-68.3 833,-78.3 840,-78.3\"/>\n",
       "</g>\n",
       "<!-- 14 -->\n",
       "<g id=\"node15\" class=\"node\">\n",
       "<title>14</title>\n",
       "<path fill=\"#e78945\" stroke=\"black\" d=\"M1021.5,-68C1021.5,-68 923.5,-68 923.5,-68 917.5,-68 911.5,-62 911.5,-56 911.5,-56 911.5,-12 911.5,-12 911.5,-6 917.5,0 923.5,0 923.5,0 1021.5,0 1021.5,0 1027.5,0 1033.5,-6 1033.5,-12 1033.5,-12 1033.5,-56 1033.5,-56 1033.5,-62 1027.5,-68 1021.5,-68\"/>\n",
       "<text text-anchor=\"start\" x=\"935\" y=\"-52.8\" font-family=\"Helvetica,sans-Serif\" font-size=\"14.00\">gini = 0.107</text>\n",
       "<text text-anchor=\"start\" x=\"925\" y=\"-37.8\" font-family=\"Helvetica,sans-Serif\" font-size=\"14.00\">samples = 194</text>\n",
       "<text text-anchor=\"start\" x=\"919.5\" y=\"-22.8\" font-family=\"Helvetica,sans-Serif\" font-size=\"14.00\">value = [183, 11]</text>\n",
       "<text text-anchor=\"start\" x=\"943.5\" y=\"-7.8\" font-family=\"Helvetica,sans-Serif\" font-size=\"14.00\">class = 0</text>\n",
       "</g>\n",
       "<!-- 12&#45;&gt;14 -->\n",
       "<g id=\"edge14\" class=\"edge\">\n",
       "<title>12&#45;&gt;14</title>\n",
       "<path fill=\"none\" stroke=\"black\" d=\"M887.14,-103.73C898.92,-94.24 911.45,-84.16 923.17,-74.72\"/>\n",
       "<polygon fill=\"black\" stroke=\"black\" points=\"925.55,-77.3 931.14,-68.3 921.16,-71.84 925.55,-77.3\"/>\n",
       "</g>\n",
       "</g>\n",
       "</svg>\n"
      ],
      "text/plain": [
       "<graphviz.sources.Source at 0x2c13a239e48>"
      ]
     },
     "execution_count": 22,
     "metadata": {},
     "output_type": "execute_result"
    }
   ],
   "source": [
    "graph1=graphviz.Source(dot_data)\n",
    "graph1"
   ]
  },
  {
   "cell_type": "markdown",
   "id": "c0ea60e1",
   "metadata": {},
   "source": [
    "### 3. Display the text representation of the rules learnt."
   ]
  },
  {
   "cell_type": "code",
   "execution_count": 23,
   "id": "c475f894",
   "metadata": {},
   "outputs": [
    {
     "name": "stdout",
     "output_type": "stream",
     "text": [
      "|--- checkin_acc <= 1.50\n",
      "|   |--- duration <= 22.50\n",
      "|   |   |--- credit_history <= 1.50\n",
      "|   |   |   |--- class: 1\n",
      "|   |   |--- credit_history >  1.50\n",
      "|   |   |   |--- class: 0\n",
      "|   |--- duration >  22.50\n",
      "|   |   |--- savings_acc <= 2.50\n",
      "|   |   |   |--- class: 1\n",
      "|   |   |--- savings_acc >  2.50\n",
      "|   |   |   |--- class: 0\n",
      "|--- checkin_acc >  1.50\n",
      "|   |--- inst_plans <= 1.50\n",
      "|   |   |--- age <= 44.50\n",
      "|   |   |   |--- class: 0\n",
      "|   |   |--- age >  44.50\n",
      "|   |   |   |--- class: 0\n",
      "|   |--- inst_plans >  1.50\n",
      "|   |   |--- age <= 30.50\n",
      "|   |   |   |--- class: 0\n",
      "|   |   |--- age >  30.50\n",
      "|   |   |   |--- class: 0\n",
      "\n"
     ]
    }
   ],
   "source": [
    "# get the text representation\n",
    "text_representation = tree.export_text(clf_model,feature_names = list(X.columns))\n",
    "print(text_representation)"
   ]
  },
  {
   "cell_type": "code",
   "execution_count": 24,
   "id": "6d722e43",
   "metadata": {},
   "outputs": [],
   "source": [
    "# the below code saves the above text representation in a seperate log file\n",
    "with open(\"decistion_tree.log\", \"w\") as fout:\n",
    "    fout.write(text_representation)"
   ]
  },
  {
   "cell_type": "markdown",
   "id": "cb7abf4d",
   "metadata": {},
   "source": [
    "## EXER 2"
   ]
  },
  {
   "cell_type": "markdown",
   "id": "f61302f9",
   "metadata": {},
   "source": [
    "#### Download fuel consumption dataset \"FuelConsumption.csv\", which contains model-specific fuel consumption ratings and estimated carbon dioxide emissions. "
   ]
  },
  {
   "cell_type": "code",
   "execution_count": 25,
   "id": "2c48c814",
   "metadata": {},
   "outputs": [
    {
     "data": {
      "text/html": [
       "<div>\n",
       "<style scoped>\n",
       "    .dataframe tbody tr th:only-of-type {\n",
       "        vertical-align: middle;\n",
       "    }\n",
       "\n",
       "    .dataframe tbody tr th {\n",
       "        vertical-align: top;\n",
       "    }\n",
       "\n",
       "    .dataframe thead th {\n",
       "        text-align: right;\n",
       "    }\n",
       "</style>\n",
       "<table border=\"1\" class=\"dataframe\">\n",
       "  <thead>\n",
       "    <tr style=\"text-align: right;\">\n",
       "      <th></th>\n",
       "      <th>MODELYEAR</th>\n",
       "      <th>MAKE</th>\n",
       "      <th>MODEL</th>\n",
       "      <th>VEHICLECLASS</th>\n",
       "      <th>ENGINESIZE</th>\n",
       "      <th>CYLINDERS</th>\n",
       "      <th>TRANSMISSION</th>\n",
       "      <th>FUELTYPE</th>\n",
       "      <th>FUELCONSUMPTION_CITY</th>\n",
       "      <th>FUELCONSUMPTION_HWY</th>\n",
       "      <th>FUELCONSUMPTION_COMB</th>\n",
       "      <th>FUELCONSUMPTION_COMB_MPG</th>\n",
       "      <th>CO2EMISSIONS</th>\n",
       "    </tr>\n",
       "  </thead>\n",
       "  <tbody>\n",
       "    <tr>\n",
       "      <th>0</th>\n",
       "      <td>2014</td>\n",
       "      <td>ACURA</td>\n",
       "      <td>ILX</td>\n",
       "      <td>COMPACT</td>\n",
       "      <td>2.0</td>\n",
       "      <td>4</td>\n",
       "      <td>AS5</td>\n",
       "      <td>Z</td>\n",
       "      <td>9.9</td>\n",
       "      <td>6.7</td>\n",
       "      <td>8.5</td>\n",
       "      <td>33</td>\n",
       "      <td>196</td>\n",
       "    </tr>\n",
       "    <tr>\n",
       "      <th>1</th>\n",
       "      <td>2014</td>\n",
       "      <td>ACURA</td>\n",
       "      <td>ILX</td>\n",
       "      <td>COMPACT</td>\n",
       "      <td>2.4</td>\n",
       "      <td>4</td>\n",
       "      <td>M6</td>\n",
       "      <td>Z</td>\n",
       "      <td>11.2</td>\n",
       "      <td>7.7</td>\n",
       "      <td>9.6</td>\n",
       "      <td>29</td>\n",
       "      <td>221</td>\n",
       "    </tr>\n",
       "    <tr>\n",
       "      <th>2</th>\n",
       "      <td>2014</td>\n",
       "      <td>ACURA</td>\n",
       "      <td>ILX HYBRID</td>\n",
       "      <td>COMPACT</td>\n",
       "      <td>1.5</td>\n",
       "      <td>4</td>\n",
       "      <td>AV7</td>\n",
       "      <td>Z</td>\n",
       "      <td>6.0</td>\n",
       "      <td>5.8</td>\n",
       "      <td>5.9</td>\n",
       "      <td>48</td>\n",
       "      <td>136</td>\n",
       "    </tr>\n",
       "    <tr>\n",
       "      <th>3</th>\n",
       "      <td>2014</td>\n",
       "      <td>ACURA</td>\n",
       "      <td>MDX 4WD</td>\n",
       "      <td>SUV - SMALL</td>\n",
       "      <td>3.5</td>\n",
       "      <td>6</td>\n",
       "      <td>AS6</td>\n",
       "      <td>Z</td>\n",
       "      <td>12.7</td>\n",
       "      <td>9.1</td>\n",
       "      <td>11.1</td>\n",
       "      <td>25</td>\n",
       "      <td>255</td>\n",
       "    </tr>\n",
       "    <tr>\n",
       "      <th>4</th>\n",
       "      <td>2014</td>\n",
       "      <td>ACURA</td>\n",
       "      <td>RDX AWD</td>\n",
       "      <td>SUV - SMALL</td>\n",
       "      <td>3.5</td>\n",
       "      <td>6</td>\n",
       "      <td>AS6</td>\n",
       "      <td>Z</td>\n",
       "      <td>12.1</td>\n",
       "      <td>8.7</td>\n",
       "      <td>10.6</td>\n",
       "      <td>27</td>\n",
       "      <td>244</td>\n",
       "    </tr>\n",
       "  </tbody>\n",
       "</table>\n",
       "</div>"
      ],
      "text/plain": [
       "   MODELYEAR   MAKE       MODEL VEHICLECLASS  ENGINESIZE  CYLINDERS  \\\n",
       "0       2014  ACURA         ILX      COMPACT         2.0          4   \n",
       "1       2014  ACURA         ILX      COMPACT         2.4          4   \n",
       "2       2014  ACURA  ILX HYBRID      COMPACT         1.5          4   \n",
       "3       2014  ACURA     MDX 4WD  SUV - SMALL         3.5          6   \n",
       "4       2014  ACURA     RDX AWD  SUV - SMALL         3.5          6   \n",
       "\n",
       "  TRANSMISSION FUELTYPE  FUELCONSUMPTION_CITY  FUELCONSUMPTION_HWY  \\\n",
       "0          AS5        Z                   9.9                  6.7   \n",
       "1           M6        Z                  11.2                  7.7   \n",
       "2          AV7        Z                   6.0                  5.8   \n",
       "3          AS6        Z                  12.7                  9.1   \n",
       "4          AS6        Z                  12.1                  8.7   \n",
       "\n",
       "   FUELCONSUMPTION_COMB  FUELCONSUMPTION_COMB_MPG  CO2EMISSIONS  \n",
       "0                   8.5                        33           196  \n",
       "1                   9.6                        29           221  \n",
       "2                   5.9                        48           136  \n",
       "3                  11.1                        25           255  \n",
       "4                  10.6                        27           244  "
      ]
     },
     "execution_count": 25,
     "metadata": {},
     "output_type": "execute_result"
    }
   ],
   "source": [
    "# Importing the dataset\n",
    "df1 = pd.read_csv(\"FuelConsumption.csv\")\n",
    "df1.head()"
   ]
  },
  {
   "cell_type": "code",
   "execution_count": 26,
   "id": "c60398d8",
   "metadata": {},
   "outputs": [
    {
     "data": {
      "text/plain": [
       "(1067, 13)"
      ]
     },
     "execution_count": 26,
     "metadata": {},
     "output_type": "execute_result"
    }
   ],
   "source": [
    "df1.shape"
   ]
  },
  {
   "cell_type": "code",
   "execution_count": 27,
   "id": "2b5cbb75",
   "metadata": {},
   "outputs": [
    {
     "name": "stdout",
     "output_type": "stream",
     "text": [
      "<class 'pandas.core.frame.DataFrame'>\n",
      "RangeIndex: 1067 entries, 0 to 1066\n",
      "Data columns (total 13 columns):\n",
      " #   Column                    Non-Null Count  Dtype  \n",
      "---  ------                    --------------  -----  \n",
      " 0   MODELYEAR                 1067 non-null   int64  \n",
      " 1   MAKE                      1067 non-null   object \n",
      " 2   MODEL                     1067 non-null   object \n",
      " 3   VEHICLECLASS              1067 non-null   object \n",
      " 4   ENGINESIZE                1067 non-null   float64\n",
      " 5   CYLINDERS                 1067 non-null   int64  \n",
      " 6   TRANSMISSION              1067 non-null   object \n",
      " 7   FUELTYPE                  1067 non-null   object \n",
      " 8   FUELCONSUMPTION_CITY      1067 non-null   float64\n",
      " 9   FUELCONSUMPTION_HWY       1067 non-null   float64\n",
      " 10  FUELCONSUMPTION_COMB      1067 non-null   float64\n",
      " 11  FUELCONSUMPTION_COMB_MPG  1067 non-null   int64  \n",
      " 12  CO2EMISSIONS              1067 non-null   int64  \n",
      "dtypes: float64(4), int64(4), object(5)\n",
      "memory usage: 108.5+ KB\n"
     ]
    }
   ],
   "source": [
    "# to get a quick overview of the dataset\n",
    "df1.info()"
   ]
  },
  {
   "cell_type": "code",
   "execution_count": 28,
   "id": "9159fda9",
   "metadata": {},
   "outputs": [
    {
     "data": {
      "text/plain": [
       "Index(['MODELYEAR', 'MAKE', 'MODEL', 'VEHICLECLASS', 'ENGINESIZE', 'CYLINDERS',\n",
       "       'TRANSMISSION', 'FUELTYPE', 'FUELCONSUMPTION_CITY',\n",
       "       'FUELCONSUMPTION_HWY', 'FUELCONSUMPTION_COMB',\n",
       "       'FUELCONSUMPTION_COMB_MPG', 'CO2EMISSIONS'],\n",
       "      dtype='object')"
      ]
     },
     "execution_count": 28,
     "metadata": {},
     "output_type": "execute_result"
    }
   ],
   "source": [
    "df1.columns"
   ]
  },
  {
   "cell_type": "code",
   "execution_count": 29,
   "id": "fde02509",
   "metadata": {},
   "outputs": [
    {
     "data": {
      "text/plain": [
       "MODELYEAR                   0\n",
       "MAKE                        0\n",
       "MODEL                       0\n",
       "VEHICLECLASS                0\n",
       "ENGINESIZE                  0\n",
       "CYLINDERS                   0\n",
       "TRANSMISSION                0\n",
       "FUELTYPE                    0\n",
       "FUELCONSUMPTION_CITY        0\n",
       "FUELCONSUMPTION_HWY         0\n",
       "FUELCONSUMPTION_COMB        0\n",
       "FUELCONSUMPTION_COMB_MPG    0\n",
       "CO2EMISSIONS                0\n",
       "dtype: int64"
      ]
     },
     "execution_count": 29,
     "metadata": {},
     "output_type": "execute_result"
    }
   ],
   "source": [
    "# checking for null values\n",
    "df1.isnull().sum()"
   ]
  },
  {
   "cell_type": "markdown",
   "id": "36046367",
   "metadata": {},
   "source": [
    "* Select the features 'ENGINESIZE', 'CYLINDERS', \n",
    "'FUELCONSUMPTION_COMB', 'CO2EMISSIONS' to use for building the \n",
    "model. Plot Emission values with respect to Engine size."
   ]
  },
  {
   "cell_type": "code",
   "execution_count": 30,
   "id": "ee769862",
   "metadata": {},
   "outputs": [
    {
     "data": {
      "text/html": [
       "<div>\n",
       "<style scoped>\n",
       "    .dataframe tbody tr th:only-of-type {\n",
       "        vertical-align: middle;\n",
       "    }\n",
       "\n",
       "    .dataframe tbody tr th {\n",
       "        vertical-align: top;\n",
       "    }\n",
       "\n",
       "    .dataframe thead th {\n",
       "        text-align: right;\n",
       "    }\n",
       "</style>\n",
       "<table border=\"1\" class=\"dataframe\">\n",
       "  <thead>\n",
       "    <tr style=\"text-align: right;\">\n",
       "      <th></th>\n",
       "      <th>ENGINESIZE</th>\n",
       "      <th>CYLINDERS</th>\n",
       "      <th>FUELCONSUMPTION_COMB</th>\n",
       "      <th>CO2EMISSIONS</th>\n",
       "    </tr>\n",
       "  </thead>\n",
       "  <tbody>\n",
       "    <tr>\n",
       "      <th>0</th>\n",
       "      <td>2.0</td>\n",
       "      <td>4</td>\n",
       "      <td>8.5</td>\n",
       "      <td>196</td>\n",
       "    </tr>\n",
       "    <tr>\n",
       "      <th>1</th>\n",
       "      <td>2.4</td>\n",
       "      <td>4</td>\n",
       "      <td>9.6</td>\n",
       "      <td>221</td>\n",
       "    </tr>\n",
       "    <tr>\n",
       "      <th>2</th>\n",
       "      <td>1.5</td>\n",
       "      <td>4</td>\n",
       "      <td>5.9</td>\n",
       "      <td>136</td>\n",
       "    </tr>\n",
       "    <tr>\n",
       "      <th>3</th>\n",
       "      <td>3.5</td>\n",
       "      <td>6</td>\n",
       "      <td>11.1</td>\n",
       "      <td>255</td>\n",
       "    </tr>\n",
       "    <tr>\n",
       "      <th>4</th>\n",
       "      <td>3.5</td>\n",
       "      <td>6</td>\n",
       "      <td>10.6</td>\n",
       "      <td>244</td>\n",
       "    </tr>\n",
       "  </tbody>\n",
       "</table>\n",
       "</div>"
      ],
      "text/plain": [
       "   ENGINESIZE  CYLINDERS  FUELCONSUMPTION_COMB  CO2EMISSIONS\n",
       "0         2.0          4                   8.5           196\n",
       "1         2.4          4                   9.6           221\n",
       "2         1.5          4                   5.9           136\n",
       "3         3.5          6                  11.1           255\n",
       "4         3.5          6                  10.6           244"
      ]
     },
     "execution_count": 30,
     "metadata": {},
     "output_type": "execute_result"
    }
   ],
   "source": [
    "# selecting the above mentioned features to build our model\n",
    "features = df1[[ 'ENGINESIZE', 'CYLINDERS', 'FUELCONSUMPTION_COMB', 'CO2EMISSIONS']]\n",
    "features.head()"
   ]
  },
  {
   "cell_type": "code",
   "execution_count": 31,
   "id": "a34e0965",
   "metadata": {},
   "outputs": [
    {
     "data": {
      "image/png": "[encoded data removed]",
      "text/plain": [
       "<Figure size 432x288 with 1 Axes>"
      ]
     },
     "metadata": {
      "needs_background": "light"
     },
     "output_type": "display_data"
    }
   ],
   "source": [
    "# plotting Emission values with respect to Engine size using a scatter plot. \n",
    "plt.scatter(features.ENGINESIZE,features.CO2EMISSIONS)\n",
    "plt.xlabel(\"Engine Size\")\n",
    "plt.ylabel(\"Co2 Emissions\")\n",
    "plt.show()"
   ]
  },
  {
   "cell_type": "markdown",
   "id": "8da975b9",
   "metadata": {},
   "source": [
    "* split the data into training and test sets (70:30) to create a model using training \n",
    "set, evaluate the model using test set, and use model to predict unknown value."
   ]
  },
  {
   "cell_type": "code",
   "execution_count": 32,
   "id": "88edf1b9",
   "metadata": {},
   "outputs": [],
   "source": [
    "# Splitting the predictor and response variables\n",
    "X = features.drop('CO2EMISSIONS',axis = 1)\n",
    "y = features.CO2EMISSIONS"
   ]
  },
  {
   "cell_type": "code",
   "execution_count": 33,
   "id": "e36912f1",
   "metadata": {},
   "outputs": [
    {
     "data": {
      "text/html": [
       "<div>\n",
       "<style scoped>\n",
       "    .dataframe tbody tr th:only-of-type {\n",
       "        vertical-align: middle;\n",
       "    }\n",
       "\n",
       "    .dataframe tbody tr th {\n",
       "        vertical-align: top;\n",
       "    }\n",
       "\n",
       "    .dataframe thead th {\n",
       "        text-align: right;\n",
       "    }\n",
       "</style>\n",
       "<table border=\"1\" class=\"dataframe\">\n",
       "  <thead>\n",
       "    <tr style=\"text-align: right;\">\n",
       "      <th></th>\n",
       "      <th>ENGINESIZE</th>\n",
       "      <th>CYLINDERS</th>\n",
       "      <th>FUELCONSUMPTION_COMB</th>\n",
       "    </tr>\n",
       "  </thead>\n",
       "  <tbody>\n",
       "    <tr>\n",
       "      <th>0</th>\n",
       "      <td>2.0</td>\n",
       "      <td>4</td>\n",
       "      <td>8.5</td>\n",
       "    </tr>\n",
       "    <tr>\n",
       "      <th>1</th>\n",
       "      <td>2.4</td>\n",
       "      <td>4</td>\n",
       "      <td>9.6</td>\n",
       "    </tr>\n",
       "    <tr>\n",
       "      <th>2</th>\n",
       "      <td>1.5</td>\n",
       "      <td>4</td>\n",
       "      <td>5.9</td>\n",
       "    </tr>\n",
       "    <tr>\n",
       "      <th>3</th>\n",
       "      <td>3.5</td>\n",
       "      <td>6</td>\n",
       "      <td>11.1</td>\n",
       "    </tr>\n",
       "    <tr>\n",
       "      <th>4</th>\n",
       "      <td>3.5</td>\n",
       "      <td>6</td>\n",
       "      <td>10.6</td>\n",
       "    </tr>\n",
       "  </tbody>\n",
       "</table>\n",
       "</div>"
      ],
      "text/plain": [
       "   ENGINESIZE  CYLINDERS  FUELCONSUMPTION_COMB\n",
       "0         2.0          4                   8.5\n",
       "1         2.4          4                   9.6\n",
       "2         1.5          4                   5.9\n",
       "3         3.5          6                  11.1\n",
       "4         3.5          6                  10.6"
      ]
     },
     "execution_count": 33,
     "metadata": {},
     "output_type": "execute_result"
    }
   ],
   "source": [
    "X.head()"
   ]
  },
  {
   "cell_type": "code",
   "execution_count": 34,
   "id": "4b18fea3",
   "metadata": {},
   "outputs": [
    {
     "data": {
      "text/plain": [
       "0    196\n",
       "1    221\n",
       "2    136\n",
       "3    255\n",
       "4    244\n",
       "Name: CO2EMISSIONS, dtype: int64"
      ]
     },
     "execution_count": 34,
     "metadata": {},
     "output_type": "execute_result"
    }
   ],
   "source": [
    "y.head()"
   ]
  },
  {
   "cell_type": "code",
   "execution_count": 35,
   "id": "cb06e520",
   "metadata": {},
   "outputs": [],
   "source": [
    "# Train test split\n",
    "X_train,X_test,y_train,y_test = train_test_split(X,y,test_size=0.3,random_state=42)"
   ]
  },
  {
   "cell_type": "markdown",
   "id": "18065600",
   "metadata": {},
   "source": [
    "* Try to use a polynomial regression with the dataset of degree – 3, 4 & 5. Verify the accuracy by calculating Mean absolute error, Residual sum of squares, R2-score and comment on which model is the best."
   ]
  },
  {
   "cell_type": "code",
   "execution_count": 36,
   "id": "0cc5dc12",
   "metadata": {},
   "outputs": [],
   "source": [
    "from sklearn.linear_model import LinearRegression\n",
    "from sklearn.preprocessing import PolynomialFeatures,StandardScaler\n",
    "from sklearn.metrics import r2_score,mean_absolute_error, mean_squared_error"
   ]
  },
  {
   "cell_type": "code",
   "execution_count": 37,
   "id": "96b5fea5",
   "metadata": {},
   "outputs": [],
   "source": [
    "dict = {}"
   ]
  },
  {
   "cell_type": "code",
   "execution_count": 38,
   "id": "c934b2b3",
   "metadata": {},
   "outputs": [],
   "source": [
    "def polyno_reg(deg):\n",
    "    poly_reg = PolynomialFeatures(degree = deg, include_bias =False)\n",
    "    X_train_poly = poly_reg.fit_transform(X_train)\n",
    "    X_test_poly = poly_reg.fit_transform(X_test)\n",
    "\n",
    "    lin_reg = LinearRegression()\n",
    "    lin_reg.fit(X_train_poly,y_train)\n",
    "    y_pred = lin_reg.predict(X_test_poly)\n",
    "    \n",
    "    MAE = mean_absolute_error(y_test,y_pred)\n",
    "    # RSS - Residual sum of squares\n",
    "    RSS = np.sum(np.square(y_pred - y_test))\n",
    "    mse = mean_squared_error(y_test,y_pred)\n",
    "    rmse = np.sqrt(mse)\n",
    "    r2 = r2_score(y_test, y_pred)\n",
    "    accuracy_measures = [MAE,RSS, mse, rmse, r2]\n",
    "    dict[deg] = accuracy_measures"
   ]
  },
  {
   "cell_type": "code",
   "execution_count": 39,
   "id": "d3967564",
   "metadata": {},
   "outputs": [],
   "source": [
    "polyno_reg(3)\n",
    "polyno_reg(4)\n",
    "polyno_reg(5)"
   ]
  },
  {
   "cell_type": "code",
   "execution_count": 40,
   "id": "6ca63634",
   "metadata": {},
   "outputs": [
    {
     "data": {
      "text/html": [
       "<div>\n",
       "<style scoped>\n",
       "    .dataframe tbody tr th:only-of-type {\n",
       "        vertical-align: middle;\n",
       "    }\n",
       "\n",
       "    .dataframe tbody tr th {\n",
       "        vertical-align: top;\n",
       "    }\n",
       "\n",
       "    .dataframe thead th {\n",
       "        text-align: right;\n",
       "    }\n",
       "</style>\n",
       "<table border=\"1\" class=\"dataframe\">\n",
       "  <thead>\n",
       "    <tr style=\"text-align: right;\">\n",
       "      <th></th>\n",
       "      <th>MAE</th>\n",
       "      <th>RSS</th>\n",
       "      <th>MSE</th>\n",
       "      <th>RMSE</th>\n",
       "      <th>R2_Score</th>\n",
       "    </tr>\n",
       "  </thead>\n",
       "  <tbody>\n",
       "    <tr>\n",
       "      <th>3</th>\n",
       "      <td>10.230712</td>\n",
       "      <td>87722.805783</td>\n",
       "      <td>273.279769</td>\n",
       "      <td>16.531176</td>\n",
       "      <td>0.932247</td>\n",
       "    </tr>\n",
       "    <tr>\n",
       "      <th>4</th>\n",
       "      <td>8.250441</td>\n",
       "      <td>76656.433044</td>\n",
       "      <td>238.805087</td>\n",
       "      <td>15.453320</td>\n",
       "      <td>0.940795</td>\n",
       "    </tr>\n",
       "    <tr>\n",
       "      <th>5</th>\n",
       "      <td>8.236271</td>\n",
       "      <td>74523.765668</td>\n",
       "      <td>232.161264</td>\n",
       "      <td>15.236839</td>\n",
       "      <td>0.942442</td>\n",
       "    </tr>\n",
       "  </tbody>\n",
       "</table>\n",
       "</div>"
      ],
      "text/plain": [
       "         MAE           RSS         MSE       RMSE  R2_Score\n",
       "3  10.230712  87722.805783  273.279769  16.531176  0.932247\n",
       "4   8.250441  76656.433044  238.805087  15.453320  0.940795\n",
       "5   8.236271  74523.765668  232.161264  15.236839  0.942442"
      ]
     },
     "execution_count": 40,
     "metadata": {},
     "output_type": "execute_result"
    }
   ],
   "source": [
    "pd.DataFrame(dict, index = ['MAE','RSS','MSE','RMSE','R2_Score']).T"
   ]
  },
  {
   "cell_type": "markdown",
   "id": "31e2ca10",
   "metadata": {},
   "source": [
    "From the above computed values, we can find that our polynomial regression model has the least error and highest accuracy with almost same performance with degree 4 and 5 but comparitively, the model with degree 5 is the best."
   ]
  },
  {
   "cell_type": "code",
   "execution_count": null,
   "id": "3ccaf719",
   "metadata": {},
   "outputs": [],
   "source": []
  }
 ],
 "metadata": {
  "kernelspec": {
   "display_name": "Python 3",
   "language": "python",
   "name": "python3"
  },
  "language_info": {
   "codemirror_mode": {
    "name": "ipython",
    "version": 3
   },
   "file_extension": ".py",
   "mimetype": "text/x-python",
   "name": "python",
   "nbconvert_exporter": "python",
   "pygments_lexer": "ipython3",
   "version": "3.7.9"
  }
 },
 "nbformat": 4,
 "nbformat_minor": 5
}
