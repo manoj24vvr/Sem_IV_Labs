{
 "cells": [
  {
   "cell_type": "markdown",
   "id": "3ce7fc26",
   "metadata": {},
   "source": [
    "#### WEEK 1 DATE: 17 MARCH 2022\n",
    "## Exercise 1"
   ]
  },
  {
   "cell_type": "code",
   "execution_count": 1,
   "id": "0489cdd5",
   "metadata": {},
   "outputs": [],
   "source": [
    "#Importing libraries\n",
    "\n",
    "import pandas as pd\n",
    "import numpy as np\n",
    "import matplotlib.pyplot as plt\n",
    "import seaborn as sns\n",
    "\n",
    "from sklearn.model_selection import train_test_split\n",
    "from sklearn.linear_model import LinearRegression"
   ]
  },
  {
   "cell_type": "markdown",
   "id": "fd6f6332",
   "metadata": {},
   "source": [
    "### 6. Write a user defined function ‘myFnLinReg(x,y)’ to perform Simple Linear Regression given one predictor attribute and one response attribute. The function should return the coefficients of the straight line."
   ]
  },
  {
   "cell_type": "code",
   "execution_count": 2,
   "id": "b3e281ad",
   "metadata": {},
   "outputs": [],
   "source": [
    "def myFnLinReg(x,y):\n",
    "    \n",
    "    n = len(x)\n",
    "    x_mean = np.mean(x)\n",
    "    y_mean = np.mean(y)\n",
    "    \n",
    "    b1_num = np.sum(np.multiply((x - x_mean),(y-y_mean)))\n",
    "    b1_den = np.sum(np.multiply((x-x_mean),(x-x_mean)))\n",
    "    b1 = b1_num/b1_den\n",
    "    \n",
    "    b0 = y_mean - (b1 * x_mean)\n",
    "    \n",
    "    return b0,b1"
   ]
  },
  {
   "cell_type": "markdown",
   "id": "d7dedf74",
   "metadata": {},
   "source": [
    "The regression line will be y = b0 + b1*x"
   ]
  },
  {
   "cell_type": "markdown",
   "id": "3e6603b3",
   "metadata": {},
   "source": [
    "### 7. Use mtcars data set and consider the attributes mpg and weight. Split data into train and test sets (70 %,30%). Put training data set to ‘myFnLinReg(x,y)’ to build a linear regression model to predict mpg given the weight of the car."
   ]
  },
  {
   "cell_type": "code",
   "execution_count": 3,
   "id": "0d24d52b",
   "metadata": {},
   "outputs": [
    {
     "data": {
      "text/html": [
       "<div>\n",
       "<style scoped>\n",
       "    .dataframe tbody tr th:only-of-type {\n",
       "        vertical-align: middle;\n",
       "    }\n",
       "\n",
       "    .dataframe tbody tr th {\n",
       "        vertical-align: top;\n",
       "    }\n",
       "\n",
       "    .dataframe thead th {\n",
       "        text-align: right;\n",
       "    }\n",
       "</style>\n",
       "<table border=\"1\" class=\"dataframe\">\n",
       "  <thead>\n",
       "    <tr style=\"text-align: right;\">\n",
       "      <th></th>\n",
       "      <th>model</th>\n",
       "      <th>mpg</th>\n",
       "      <th>cyl</th>\n",
       "      <th>disp</th>\n",
       "      <th>hp</th>\n",
       "      <th>drat</th>\n",
       "      <th>wt</th>\n",
       "      <th>qsec</th>\n",
       "      <th>vs</th>\n",
       "      <th>am</th>\n",
       "      <th>gear</th>\n",
       "      <th>carb</th>\n",
       "    </tr>\n",
       "  </thead>\n",
       "  <tbody>\n",
       "    <tr>\n",
       "      <th>0</th>\n",
       "      <td>Mazda RX4</td>\n",
       "      <td>21.0</td>\n",
       "      <td>6</td>\n",
       "      <td>160.0</td>\n",
       "      <td>110</td>\n",
       "      <td>3.90</td>\n",
       "      <td>2.620</td>\n",
       "      <td>16.46</td>\n",
       "      <td>0</td>\n",
       "      <td>1</td>\n",
       "      <td>4</td>\n",
       "      <td>4</td>\n",
       "    </tr>\n",
       "    <tr>\n",
       "      <th>1</th>\n",
       "      <td>Mazda RX4 Wag</td>\n",
       "      <td>21.0</td>\n",
       "      <td>6</td>\n",
       "      <td>160.0</td>\n",
       "      <td>110</td>\n",
       "      <td>3.90</td>\n",
       "      <td>2.875</td>\n",
       "      <td>17.02</td>\n",
       "      <td>0</td>\n",
       "      <td>1</td>\n",
       "      <td>4</td>\n",
       "      <td>4</td>\n",
       "    </tr>\n",
       "    <tr>\n",
       "      <th>2</th>\n",
       "      <td>Datsun 710</td>\n",
       "      <td>22.8</td>\n",
       "      <td>4</td>\n",
       "      <td>108.0</td>\n",
       "      <td>93</td>\n",
       "      <td>3.85</td>\n",
       "      <td>2.320</td>\n",
       "      <td>18.61</td>\n",
       "      <td>1</td>\n",
       "      <td>1</td>\n",
       "      <td>4</td>\n",
       "      <td>1</td>\n",
       "    </tr>\n",
       "    <tr>\n",
       "      <th>3</th>\n",
       "      <td>Hornet 4 Drive</td>\n",
       "      <td>21.4</td>\n",
       "      <td>6</td>\n",
       "      <td>258.0</td>\n",
       "      <td>110</td>\n",
       "      <td>3.08</td>\n",
       "      <td>3.215</td>\n",
       "      <td>19.44</td>\n",
       "      <td>1</td>\n",
       "      <td>0</td>\n",
       "      <td>3</td>\n",
       "      <td>1</td>\n",
       "    </tr>\n",
       "    <tr>\n",
       "      <th>4</th>\n",
       "      <td>Hornet Sportabout</td>\n",
       "      <td>18.7</td>\n",
       "      <td>8</td>\n",
       "      <td>360.0</td>\n",
       "      <td>175</td>\n",
       "      <td>3.15</td>\n",
       "      <td>3.440</td>\n",
       "      <td>17.02</td>\n",
       "      <td>0</td>\n",
       "      <td>0</td>\n",
       "      <td>3</td>\n",
       "      <td>2</td>\n",
       "    </tr>\n",
       "  </tbody>\n",
       "</table>\n",
       "</div>"
      ],
      "text/plain": [
       "               model   mpg  cyl   disp   hp  drat     wt   qsec  vs  am  gear  \\\n",
       "0          Mazda RX4  21.0    6  160.0  110  3.90  2.620  16.46   0   1     4   \n",
       "1      Mazda RX4 Wag  21.0    6  160.0  110  3.90  2.875  17.02   0   1     4   \n",
       "2         Datsun 710  22.8    4  108.0   93  3.85  2.320  18.61   1   1     4   \n",
       "3     Hornet 4 Drive  21.4    6  258.0  110  3.08  3.215  19.44   1   0     3   \n",
       "4  Hornet Sportabout  18.7    8  360.0  175  3.15  3.440  17.02   0   0     3   \n",
       "\n",
       "   carb  \n",
       "0     4  \n",
       "1     4  \n",
       "2     1  \n",
       "3     1  \n",
       "4     2  "
      ]
     },
     "execution_count": 3,
     "metadata": {},
     "output_type": "execute_result"
    }
   ],
   "source": [
    "#Importing the mtcars dataset\n",
    "df = pd.read_csv(\"mtcars.csv\")\n",
    "df.head()"
   ]
  },
  {
   "cell_type": "code",
   "execution_count": 4,
   "id": "52f0a03f",
   "metadata": {},
   "outputs": [
    {
     "data": {
      "text/plain": [
       "(32, 2)"
      ]
     },
     "execution_count": 4,
     "metadata": {},
     "output_type": "execute_result"
    }
   ],
   "source": [
    "df = df[['wt','mpg']]\n",
    "df.shape"
   ]
  },
  {
   "cell_type": "code",
   "execution_count": 5,
   "id": "1a8e751a",
   "metadata": {},
   "outputs": [
    {
     "name": "stdout",
     "output_type": "stream",
     "text": [
      "Regression line: y = 40.63710645591722 + -6.321221582690658*x\n"
     ]
    }
   ],
   "source": [
    "# Assigning the attribute 'wt' to x and 'mpg' to y\n",
    "x = df['wt']\n",
    "y = df['mpg']\n",
    "\n",
    "X_train, X_test, y_train, y_test = train_test_split(x, y, test_size=0.3, random_state=0)\n",
    "b0,b1 = myFnLinReg(X_train, y_train)\n",
    "\n",
    "print(\"Regression line: y = {} + {}*x\".format(b0,b1))\n"
   ]
  },
  {
   "cell_type": "markdown",
   "id": "0b5af9b1",
   "metadata": {},
   "source": [
    "### 8. What is the mpg of a car, whose weight is 6.7?"
   ]
  },
  {
   "cell_type": "code",
   "execution_count": 6,
   "id": "44909393",
   "metadata": {},
   "outputs": [
    {
     "data": {
      "text/plain": [
       "-1.7150781481101873"
      ]
     },
     "execution_count": 6,
     "metadata": {},
     "output_type": "execute_result"
    }
   ],
   "source": [
    "# Creating a user defined function to predict the mpg of new input('wt').\n",
    "\n",
    "def LR_model(wt):\n",
    "    mpg = b0 + b1*wt\n",
    "    return mpg\n",
    "\n",
    "LR_model(6.7)"
   ]
  },
  {
   "cell_type": "markdown",
   "id": "bca1b24c",
   "metadata": {},
   "source": [
    "### 9. Compute and print accuracy measures such as RMSE and R2 for the test set."
   ]
  },
  {
   "cell_type": "code",
   "execution_count": 7,
   "id": "23246865",
   "metadata": {},
   "outputs": [
    {
     "data": {
      "text/plain": [
       "3.700531874067273"
      ]
     },
     "execution_count": 7,
     "metadata": {},
     "output_type": "execute_result"
    }
   ],
   "source": [
    "# Writing user defined functions to calculate RMSE and R-square values\n",
    "\n",
    "def RMSE(y_pred, y_test):\n",
    "    return np.sqrt(((y_pred - y_test) ** 2).mean())\n",
    "y_pred = LR_model(X_test)\n",
    "\n",
    "RMSE(y_pred,y_test)"
   ]
  },
  {
   "cell_type": "markdown",
   "id": "c70987f6",
   "metadata": {},
   "source": [
    "The RMSE value obtained is 3.014"
   ]
  },
  {
   "cell_type": "code",
   "execution_count": 8,
   "id": "22ef4438",
   "metadata": {},
   "outputs": [
    {
     "data": {
      "text/plain": [
       "0.8689276480625467"
      ]
     },
     "execution_count": 8,
     "metadata": {},
     "output_type": "execute_result"
    }
   ],
   "source": [
    "def R_square(y_test, y_pred):\n",
    "    size = np.size(y_test)\n",
    "    sum_x = np.sum(y_test)\n",
    "    sum_y = np.sum(y_pred)\n",
    "    sum_x2 = np.sum(np.square(y_test))\n",
    "    sum_y2 = np.sum(np.square(y_pred))\n",
    "    sum_xy = np.sum(np.multiply(y_test,y_pred))\n",
    "\n",
    "    r2 = ((size*sum_xy)-(sum_x*sum_y))/pow((((size*sum_x2)-(sum_x*sum_x))*((size*sum_y2)-(sum_y*sum_y))),0.5)\n",
    "    return r2\n",
    "R_square(y_test, y_pred)"
   ]
  },
  {
   "cell_type": "markdown",
   "id": "52601c38",
   "metadata": {},
   "source": [
    "The R-square value obtained is 0.869 indicating that our model is almost 87% accurate"
   ]
  },
  {
   "cell_type": "markdown",
   "id": "262fb268",
   "metadata": {},
   "source": [
    "### Using sklearn library:"
   ]
  },
  {
   "cell_type": "code",
   "execution_count": 9,
   "id": "77b36bba",
   "metadata": {},
   "outputs": [
    {
     "data": {
      "text/plain": [
       "3.700531874067273"
      ]
     },
     "execution_count": 9,
     "metadata": {},
     "output_type": "execute_result"
    }
   ],
   "source": [
    "from sklearn.metrics import mean_squared_error\n",
    "np.sqrt(mean_squared_error(y_pred,y_test))"
   ]
  },
  {
   "cell_type": "code",
   "execution_count": 10,
   "id": "3972c898",
   "metadata": {},
   "outputs": [
    {
     "data": {
      "text/plain": [
       "0.6962481672396879"
      ]
     },
     "execution_count": 10,
     "metadata": {},
     "output_type": "execute_result"
    }
   ],
   "source": [
    "from sklearn.metrics import r2_score\n",
    "r2_score(y_pred,y_test)"
   ]
  },
  {
   "cell_type": "markdown",
   "id": "c216a238",
   "metadata": {},
   "source": [
    "#### 10.Apply the stochastic gradient descent and mini batch gradient descent algorithms to enhance the accuracy and visualize the cost function."
   ]
  },
  {
   "cell_type": "code",
   "execution_count": 11,
   "id": "701fdf0d",
   "metadata": {},
   "outputs": [
    {
     "data": {
      "text/plain": [
       "array([[0.28304781],\n",
       "       [0.34824853],\n",
       "       [0.20634109],\n",
       "       [0.43518282],\n",
       "       [0.49271286],\n",
       "       [0.49782664],\n",
       "       [0.52595244],\n",
       "       [0.42879059],\n",
       "       [0.41856303],\n",
       "       [0.49271286],\n",
       "       [0.49271286],\n",
       "       [0.65379698],\n",
       "       [0.56686269],\n",
       "       [0.57964715],\n",
       "       [0.9555101 ],\n",
       "       [1.        ],\n",
       "       [0.97980056],\n",
       "       [0.1756584 ],\n",
       "       [0.02608029],\n",
       "       [0.08233188],\n",
       "       [0.24341601],\n",
       "       [0.51316799],\n",
       "       [0.49143442],\n",
       "       [0.59498849],\n",
       "       [0.59626694],\n",
       "       [0.10790079],\n",
       "       [0.16031705],\n",
       "       [0.        ],\n",
       "       [0.42367681],\n",
       "       [0.32140118],\n",
       "       [0.52595244],\n",
       "       [0.32395807]])"
      ]
     },
     "execution_count": 11,
     "metadata": {},
     "output_type": "execute_result"
    }
   ],
   "source": [
    "# Preprocessing / Scaling: Since our columns are on different scale it is important to perform scaling on them\n",
    "\n",
    "from sklearn import preprocessing\n",
    "sx = preprocessing.MinMaxScaler()\n",
    "sy = preprocessing.MinMaxScaler()\n",
    "\n",
    "scaled_X = sx.fit_transform(df.drop('mpg',axis='columns'))\n",
    "scaled_y = sy.fit_transform(df['mpg'].values.reshape(df.shape[0],1))\n",
    "scaled_X"
   ]
  },
  {
   "cell_type": "code",
   "execution_count": 12,
   "id": "3946cb2f",
   "metadata": {},
   "outputs": [
    {
     "data": {
      "text/plain": [
       "array([[0.45106383],\n",
       "       [0.45106383],\n",
       "       [0.52765957],\n",
       "       [0.46808511],\n",
       "       [0.35319149],\n",
       "       [0.32765957],\n",
       "       [0.16595745],\n",
       "       [0.59574468],\n",
       "       [0.52765957],\n",
       "       [0.37446809],\n",
       "       [0.31489362],\n",
       "       [0.25531915],\n",
       "       [0.29361702],\n",
       "       [0.20425532],\n",
       "       [0.        ],\n",
       "       [0.        ],\n",
       "       [0.18297872],\n",
       "       [0.93617021],\n",
       "       [0.85106383],\n",
       "       [1.        ],\n",
       "       [0.47234043],\n",
       "       [0.21702128],\n",
       "       [0.20425532],\n",
       "       [0.12340426],\n",
       "       [0.37446809],\n",
       "       [0.71914894],\n",
       "       [0.66382979],\n",
       "       [0.85106383],\n",
       "       [0.22978723],\n",
       "       [0.39574468],\n",
       "       [0.19574468],\n",
       "       [0.46808511]])"
      ]
     },
     "execution_count": 12,
     "metadata": {},
     "output_type": "execute_result"
    }
   ],
   "source": [
    "scaled_y"
   ]
  },
  {
   "cell_type": "code",
   "execution_count": 13,
   "id": "47698de7",
   "metadata": {},
   "outputs": [
    {
     "data": {
      "text/plain": [
       "array([0.45106383, 0.45106383, 0.52765957, 0.46808511, 0.35319149,\n",
       "       0.32765957, 0.16595745, 0.59574468, 0.52765957, 0.37446809,\n",
       "       0.31489362, 0.25531915, 0.29361702, 0.20425532, 0.        ,\n",
       "       0.        , 0.18297872, 0.93617021, 0.85106383, 1.        ,\n",
       "       0.47234043, 0.21702128, 0.20425532, 0.12340426, 0.37446809,\n",
       "       0.71914894, 0.66382979, 0.85106383, 0.22978723, 0.39574468,\n",
       "       0.19574468, 0.46808511])"
      ]
     },
     "execution_count": 13,
     "metadata": {},
     "output_type": "execute_result"
    }
   ],
   "source": [
    "scaled_y.reshape(32,)"
   ]
  },
  {
   "cell_type": "code",
   "execution_count": 14,
   "id": "27ba05c7",
   "metadata": {},
   "outputs": [
    {
     "data": {
      "text/plain": [
       "1"
      ]
     },
     "execution_count": 14,
     "metadata": {},
     "output_type": "execute_result"
    }
   ],
   "source": [
    "# we will use random library to pick training sample\n",
    "import random\n",
    "random.randint(0,6)"
   ]
  },
  {
   "cell_type": "markdown",
   "id": "b543fb0f",
   "metadata": {},
   "source": [
    "### Implementing stochastic gradient descent algorithm"
   ]
  },
  {
   "cell_type": "code",
   "execution_count": 15,
   "id": "bb074174",
   "metadata": {},
   "outputs": [
    {
     "data": {
      "text/plain": [
       "(array([0.47720955]), 0.17710400430055617, 0.05475215106223498)"
      ]
     },
     "execution_count": 15,
     "metadata": {},
     "output_type": "execute_result"
    }
   ],
   "source": [
    "def stochastic_gradient_descent(X, y_true, epochs, learning_rate = 0.01):\n",
    "    \n",
    "    number_of_features = X.shape[1]\n",
    "     # numpy array with 1 row and column equal to number of features. In\n",
    "    # our case number_of_features = 1 (weight)\n",
    "    \n",
    "    w = np.ones(shape = (number_of_features))\n",
    "    b = 0\n",
    "    total_samples = X.shape[0]\n",
    "    \n",
    "    cost_list = []\n",
    "    epoch_list = []\n",
    "    \n",
    "    for i in range(epochs):\n",
    "        random_index = random.randint(0, total_samples-1) # random index from total samples\n",
    "        sample_x = X[random_index]\n",
    "        sample_y = y_true[random_index]\n",
    "        \n",
    "        y_predicted = np.dot(w, sample_x.T) + b\n",
    "        \n",
    "        w_grad = -(2/total_samples) * (sample_x.T.dot(sample_y - y_predicted))\n",
    "        b_grad = -(2/total_samples) * (sample_y - y_predicted)\n",
    "        \n",
    "        w = w - learning_rate * w_grad\n",
    "        b = b - learning_rate * b_grad\n",
    "        \n",
    "        cost = np.square(sample_y - y_predicted)\n",
    "        \n",
    "        if i%100 == 0: # at every iteration record the cost and epoch value\n",
    "            cost_list.append(cost)\n",
    "            epoch_list.append(i)\n",
    "            \n",
    "    return w, b, cost, cost_list, epoch_list\n",
    "\n",
    "w_sgd, b_sgd, cost_sgd, cost_list_sgd, epoch_list_sgd = stochastic_gradient_descent(scaled_X,scaled_y.reshape(scaled_y.shape[0],),10000)\n",
    "w_sgd, b_sgd, cost_sgd   "
   ]
  },
  {
   "cell_type": "code",
   "execution_count": 16,
   "id": "1582441e",
   "metadata": {},
   "outputs": [],
   "source": [
    "def predict(weight,w,b):\n",
    "    scaled_X = sx.transform([[weight]])[0]\n",
    "    # here w1 = w[0] and bias is b\n",
    "    # equation for price is w1*wt + bias\n",
    "\n",
    "    scaled_price = w[0] * scaled_X[0]+ b\n",
    "    # once we get mpg prediction we need to rescal it back to original value\n",
    "    # also since it returns 2D array, to get single value we need to do value[0][0]\n",
    "    return sy.inverse_transform([[scaled_price]])[0][0] "
   ]
  },
  {
   "cell_type": "code",
   "execution_count": 17,
   "id": "d390f34b",
   "metadata": {},
   "outputs": [
    {
     "data": {
      "text/plain": [
       "[<matplotlib.lines.Line2D at 0x28ae0a85948>]"
      ]
     },
     "execution_count": 17,
     "metadata": {},
     "output_type": "execute_result"
    },
    {
     "data": {
      "image/png": "[encoded data removed]",
      "text/plain": [
       "<Figure size 432x288 with 1 Axes>"
      ]
     },
     "metadata": {
      "needs_background": "light"
     },
     "output_type": "display_data"
    }
   ],
   "source": [
    "plt.xlabel(\"epochs\")\n",
    "plt.ylabel(\"cost\")\n",
    "plt.plot(epoch_list_sgd, cost_list_sgd)"
   ]
  },
  {
   "cell_type": "code",
   "execution_count": 18,
   "id": "03c25fb3",
   "metadata": {},
   "outputs": [
    {
     "data": {
      "text/plain": [
       "29.435178389627886"
      ]
     },
     "execution_count": 18,
     "metadata": {},
     "output_type": "execute_result"
    }
   ],
   "source": [
    "predict(6.7,w_sgd,b_sgd)"
   ]
  },
  {
   "cell_type": "markdown",
   "id": "77204a4c",
   "metadata": {},
   "source": [
    "### Implementing mini-batch gradient descent algorithm"
   ]
  },
  {
   "cell_type": "code",
   "execution_count": 19,
   "id": "69d09bbf",
   "metadata": {},
   "outputs": [
    {
     "data": {
      "text/plain": [
       "(array([-0.88359492]), 0.8028420373714503, 0.00821546043496487)"
      ]
     },
     "execution_count": 19,
     "metadata": {},
     "output_type": "execute_result"
    }
   ],
   "source": [
    "def mini_batch_gradient_descent(X, y_true, epochs = 100, batch_size = 5, learning_rate = 0.01):\n",
    "    \n",
    "    number_of_features = X.shape[1]\n",
    "    \n",
    "    w = np.ones(shape=(number_of_features)) \n",
    "    b = 0\n",
    "    total_samples = X.shape[0] # number of rows in X\n",
    "    \n",
    "    if batch_size > total_samples: # In this case mini batch becomes same as batch gradient descent\n",
    "        batch_size = total_samples\n",
    "        \n",
    "    cost_list_mini = []\n",
    "    epoch_list_mini = []\n",
    "    \n",
    "    num_batches = int(total_samples/batch_size)\n",
    "    \n",
    "    for i in range(epochs):    \n",
    "        random_indices = np.random.permutation(total_samples)\n",
    "        X_temp = X[random_indices]\n",
    "        y_temp = y_true[random_indices]\n",
    "        \n",
    "        for j in range(0,total_samples,batch_size):\n",
    "            Xj = X_temp[j:j+batch_size]\n",
    "            yj = y_temp[j:j+batch_size]\n",
    "            y_predicted = np.dot(w, Xj.T) + b\n",
    "            \n",
    "            w_grad = -(2/len(Xj))*(Xj.T.dot(yj-y_predicted))\n",
    "            b_grad = -(2/len(Xj))*np.sum(yj-y_predicted)\n",
    "            \n",
    "            w = w - learning_rate * w_grad\n",
    "            b = b - learning_rate * b_grad\n",
    "                \n",
    "            cost_mini = np.mean(np.square(yj-y_predicted)) # MSE (Mean Squared Error)\n",
    "        \n",
    "        if i%10==0:\n",
    "            cost_list_mini.append(cost_mini)\n",
    "            epoch_list_mini.append(i)\n",
    "        \n",
    "    return w, b, cost_mini, cost_list_mini, epoch_list_mini\n",
    "\n",
    "w_mini, b_mini, cost_mini, cost_list_mini, epoch_list_mini = mini_batch_gradient_descent(\n",
    "    scaled_X,\n",
    "    scaled_y.reshape(scaled_y.shape[0],),\n",
    "    epochs = 1000,\n",
    "    batch_size = 5\n",
    ")\n",
    "w_mini, b_mini, cost_mini"
   ]
  },
  {
   "cell_type": "code",
   "execution_count": 20,
   "id": "822f10e2",
   "metadata": {},
   "outputs": [
    {
     "data": {
      "text/plain": [
       "[<matplotlib.lines.Line2D at 0x28ae0b8e8c8>]"
      ]
     },
     "execution_count": 20,
     "metadata": {},
     "output_type": "execute_result"
    },
    {
     "data": {
      "image/png": "[encoded data removed]",
      "text/plain": [
       "<Figure size 432x288 with 1 Axes>"
      ]
     },
     "metadata": {
      "needs_background": "light"
     },
     "output_type": "display_data"
    }
   ],
   "source": [
    "plt.xlabel(\"epochs\")\n",
    "plt.ylabel(\"cost\")\n",
    "plt.plot(epoch_list_mini,cost_list_mini)"
   ]
  },
  {
   "cell_type": "code",
   "execution_count": 21,
   "id": "fc5de432",
   "metadata": {},
   "outputs": [
    {
     "data": {
      "text/plain": [
       "1.7277029176041152"
      ]
     },
     "execution_count": 21,
     "metadata": {},
     "output_type": "execute_result"
    }
   ],
   "source": [
    "predict(6.7,w_mini, b_mini)"
   ]
  },
  {
   "cell_type": "markdown",
   "id": "1078c4be",
   "metadata": {},
   "source": [
    " "
   ]
  },
  {
   "cell_type": "markdown",
   "id": "71ff0b6d",
   "metadata": {},
   "source": [
    "## Exercise 2"
   ]
  },
  {
   "cell_type": "markdown",
   "id": "5270851b",
   "metadata": {},
   "source": [
    "### 4. Use the boston.csv dataset and determine the best 5 features to predict ‘MEDV’."
   ]
  },
  {
   "cell_type": "code",
   "execution_count": 22,
   "id": "6b34c382",
   "metadata": {},
   "outputs": [
    {
     "data": {
      "text/html": [
       "<div>\n",
       "<style scoped>\n",
       "    .dataframe tbody tr th:only-of-type {\n",
       "        vertical-align: middle;\n",
       "    }\n",
       "\n",
       "    .dataframe tbody tr th {\n",
       "        vertical-align: top;\n",
       "    }\n",
       "\n",
       "    .dataframe thead th {\n",
       "        text-align: right;\n",
       "    }\n",
       "</style>\n",
       "<table border=\"1\" class=\"dataframe\">\n",
       "  <thead>\n",
       "    <tr style=\"text-align: right;\">\n",
       "      <th></th>\n",
       "      <th>Unnamed: 0</th>\n",
       "      <th>crim</th>\n",
       "      <th>zn</th>\n",
       "      <th>indus</th>\n",
       "      <th>chas</th>\n",
       "      <th>nox</th>\n",
       "      <th>rm</th>\n",
       "      <th>age</th>\n",
       "      <th>dis</th>\n",
       "      <th>rad</th>\n",
       "      <th>tax</th>\n",
       "      <th>ptratio</th>\n",
       "      <th>black</th>\n",
       "      <th>lstat</th>\n",
       "      <th>medv</th>\n",
       "    </tr>\n",
       "  </thead>\n",
       "  <tbody>\n",
       "    <tr>\n",
       "      <th>0</th>\n",
       "      <td>1</td>\n",
       "      <td>0.00632</td>\n",
       "      <td>18.0</td>\n",
       "      <td>2.31</td>\n",
       "      <td>0</td>\n",
       "      <td>0.538</td>\n",
       "      <td>6.575</td>\n",
       "      <td>65.2</td>\n",
       "      <td>4.0900</td>\n",
       "      <td>1</td>\n",
       "      <td>296</td>\n",
       "      <td>15.3</td>\n",
       "      <td>396.90</td>\n",
       "      <td>4.98</td>\n",
       "      <td>24.0</td>\n",
       "    </tr>\n",
       "    <tr>\n",
       "      <th>1</th>\n",
       "      <td>2</td>\n",
       "      <td>0.02731</td>\n",
       "      <td>0.0</td>\n",
       "      <td>7.07</td>\n",
       "      <td>0</td>\n",
       "      <td>0.469</td>\n",
       "      <td>6.421</td>\n",
       "      <td>78.9</td>\n",
       "      <td>4.9671</td>\n",
       "      <td>2</td>\n",
       "      <td>242</td>\n",
       "      <td>17.8</td>\n",
       "      <td>396.90</td>\n",
       "      <td>9.14</td>\n",
       "      <td>21.6</td>\n",
       "    </tr>\n",
       "    <tr>\n",
       "      <th>2</th>\n",
       "      <td>3</td>\n",
       "      <td>0.02729</td>\n",
       "      <td>0.0</td>\n",
       "      <td>7.07</td>\n",
       "      <td>0</td>\n",
       "      <td>0.469</td>\n",
       "      <td>7.185</td>\n",
       "      <td>61.1</td>\n",
       "      <td>4.9671</td>\n",
       "      <td>2</td>\n",
       "      <td>242</td>\n",
       "      <td>17.8</td>\n",
       "      <td>392.83</td>\n",
       "      <td>4.03</td>\n",
       "      <td>34.7</td>\n",
       "    </tr>\n",
       "    <tr>\n",
       "      <th>3</th>\n",
       "      <td>4</td>\n",
       "      <td>0.03237</td>\n",
       "      <td>0.0</td>\n",
       "      <td>2.18</td>\n",
       "      <td>0</td>\n",
       "      <td>0.458</td>\n",
       "      <td>6.998</td>\n",
       "      <td>45.8</td>\n",
       "      <td>6.0622</td>\n",
       "      <td>3</td>\n",
       "      <td>222</td>\n",
       "      <td>18.7</td>\n",
       "      <td>394.63</td>\n",
       "      <td>2.94</td>\n",
       "      <td>33.4</td>\n",
       "    </tr>\n",
       "    <tr>\n",
       "      <th>4</th>\n",
       "      <td>5</td>\n",
       "      <td>0.06905</td>\n",
       "      <td>0.0</td>\n",
       "      <td>2.18</td>\n",
       "      <td>0</td>\n",
       "      <td>0.458</td>\n",
       "      <td>7.147</td>\n",
       "      <td>54.2</td>\n",
       "      <td>6.0622</td>\n",
       "      <td>3</td>\n",
       "      <td>222</td>\n",
       "      <td>18.7</td>\n",
       "      <td>396.90</td>\n",
       "      <td>5.33</td>\n",
       "      <td>36.2</td>\n",
       "    </tr>\n",
       "  </tbody>\n",
       "</table>\n",
       "</div>"
      ],
      "text/plain": [
       "   Unnamed: 0     crim    zn  indus  chas    nox     rm   age     dis  rad  \\\n",
       "0           1  0.00632  18.0   2.31     0  0.538  6.575  65.2  4.0900    1   \n",
       "1           2  0.02731   0.0   7.07     0  0.469  6.421  78.9  4.9671    2   \n",
       "2           3  0.02729   0.0   7.07     0  0.469  7.185  61.1  4.9671    2   \n",
       "3           4  0.03237   0.0   2.18     0  0.458  6.998  45.8  6.0622    3   \n",
       "4           5  0.06905   0.0   2.18     0  0.458  7.147  54.2  6.0622    3   \n",
       "\n",
       "   tax  ptratio   black  lstat  medv  \n",
       "0  296     15.3  396.90   4.98  24.0  \n",
       "1  242     17.8  396.90   9.14  21.6  \n",
       "2  242     17.8  392.83   4.03  34.7  \n",
       "3  222     18.7  394.63   2.94  33.4  \n",
       "4  222     18.7  396.90   5.33  36.2  "
      ]
     },
     "execution_count": 22,
     "metadata": {},
     "output_type": "execute_result"
    }
   ],
   "source": [
    "# Importing the boston.csv dataset\n",
    "df1 = pd.read_csv(\"boston.csv\")\n",
    "df1.head()"
   ]
  },
  {
   "cell_type": "code",
   "execution_count": 23,
   "id": "133cce71",
   "metadata": {},
   "outputs": [
    {
     "data": {
      "text/plain": [
       "<AxesSubplot:>"
      ]
     },
     "execution_count": 23,
     "metadata": {},
     "output_type": "execute_result"
    },
    {
     "data": {
      "image/png": "[encoded data removed]",
      "text/plain": [
       "<Figure size 720x720 with 2 Axes>"
      ]
     },
     "metadata": {
      "needs_background": "light"
     },
     "output_type": "display_data"
    }
   ],
   "source": [
    "# Finding the correlation values to find the best features to predict 'medv'\n",
    "corr = pd.DataFrame(df1.corr()['medv'].abs().sort_values(ascending=False))\n",
    "plt.figure(figsize=(10,10))\n",
    "sns.heatmap(corr,annot=True)"
   ]
  },
  {
   "cell_type": "markdown",
   "id": "76333b0f",
   "metadata": {},
   "source": [
    "In the above heatmap, we can find the correletion values between different attributes, and the 5 best features to predict 'MEDV' can be \n",
    "#### rm, Istat, indus, ptratiio and tax"
   ]
  },
  {
   "cell_type": "markdown",
   "id": "94e62033",
   "metadata": {},
   "source": [
    "### 5.Using sklearn.linear_model, find the multiple regression model for the boston.csv dataset using the best 4features.  (from sklearn.linear_model import LinearRegression) "
   ]
  },
  {
   "cell_type": "code",
   "execution_count": 24,
   "id": "82b6bc1a",
   "metadata": {},
   "outputs": [
    {
     "data": {
      "text/plain": [
       "array([[ 4.51517866, -0.57571066,  0.00756681, -0.93512212]])"
      ]
     },
     "execution_count": 24,
     "metadata": {},
     "output_type": "execute_result"
    }
   ],
   "source": [
    "# Inserting the required best 4 features into a new dataframe 'best4fea' and the response variable 'medv' into 'target'\n",
    "best4fea = df1[['rm','lstat','indus','ptratio']]\n",
    "target = df1[['medv']]\n",
    "\n",
    "# Creating a linear regression model using the linear_regression module from the sklearn library\n",
    "reg = LinearRegression()\n",
    "reg.fit(best4fea, target)\n",
    "reg.coef_"
   ]
  },
  {
   "cell_type": "code",
   "execution_count": 25,
   "id": "bbeb9b6b",
   "metadata": {},
   "outputs": [
    {
     "data": {
      "text/plain": [
       "array([18.61497042])"
      ]
     },
     "execution_count": 25,
     "metadata": {},
     "output_type": "execute_result"
    }
   ],
   "source": [
    "reg.intercept_"
   ]
  },
  {
   "cell_type": "code",
   "execution_count": 26,
   "id": "d47cd5cf",
   "metadata": {},
   "outputs": [
    {
     "data": {
      "text/plain": [
       "67.86434855761495"
      ]
     },
     "execution_count": 26,
     "metadata": {},
     "output_type": "execute_result"
    }
   ],
   "source": [
    "# Using the 'score' method to find the accuracy of our model\n",
    "reg.score(best4fea,target)*100"
   ]
  },
  {
   "cell_type": "markdown",
   "id": "a4bee3a2",
   "metadata": {},
   "source": [
    "#### 'reg' is our multiple regression model for the boston.csv dataset with the best 4 features"
   ]
  },
  {
   "cell_type": "markdown",
   "id": "29e81455",
   "metadata": {},
   "source": [
    "### 6.Find the accuracy of the model using appropriate metrics using 80, 20 split for training and test."
   ]
  },
  {
   "cell_type": "code",
   "execution_count": 27,
   "id": "f0e89e1d",
   "metadata": {},
   "outputs": [
    {
     "data": {
      "text/plain": [
       "58.69046508778541"
      ]
     },
     "execution_count": 27,
     "metadata": {},
     "output_type": "execute_result"
    }
   ],
   "source": [
    "# Using train_test_split function\n",
    "X_train, X_test, y_train, y_test = train_test_split(best4fea, target, test_size=0.2)\n",
    "\n",
    "# Once again training our model on training dataset\n",
    "reg.fit(X_train,y_train)\n",
    "\n",
    "# Using the 'score' method to find the accuracy of our model\n",
    "reg.score(X_test,y_test)*100"
   ]
  },
  {
   "cell_type": "markdown",
   "id": "934fc968",
   "metadata": {},
   "source": [
    "From the above value, we can say that our model is around 80% accurate"
   ]
  },
  {
   "cell_type": "code",
   "execution_count": null,
   "id": "51f0951f",
   "metadata": {},
   "outputs": [],
   "source": []
  }
 ],
 "metadata": {
  "kernelspec": {
   "display_name": "Python 3",
   "language": "python",
   "name": "python3"
  },
  "language_info": {
   "codemirror_mode": {
    "name": "ipython",
    "version": 3
   },
   "file_extension": ".py",
   "mimetype": "text/x-python",
   "name": "python",
   "nbconvert_exporter": "python",
   "pygments_lexer": "ipython3",
   "version": "3.7.9"
  }
 },
 "nbformat": 4,
 "nbformat_minor": 5
}
